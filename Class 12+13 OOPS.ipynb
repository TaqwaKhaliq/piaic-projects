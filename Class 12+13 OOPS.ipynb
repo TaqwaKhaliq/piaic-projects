{
 "cells": [
  {
   "cell_type": "markdown",
   "id": "ffa5d073",
   "metadata": {},
   "source": [
    "# OOPS\n",
    " * object\n",
    "        * everything in the world with the name is object\n",
    "          * Methods (function,procedure,sub_routine)\n",
    "          * Attributes (properties,fields,characteristics)\n",
    "          \n",
    "# Class\n",
    "* blueprint/model/structure/template\n",
    "* capitalize each word(class Name)   `class Class():pass `\n",
    "* constructor(Method)\n",
    "     * always called when creating a new object\n",
    "      * old programming languages\n",
    "           * same function name as class\n",
    "      * `def__init__(self): `\n",
    "         * first argument \n",
    "           * first argument should be any name\n",
    "            * always keep this during creating time\n",
    "            * always ignore during calling time\n",
    "            * always manage each object with individual memory blocks\n",
    "            * self\n",
    "            * this\n",
    "            * abc\n",
    "            * xyz\n",
    "      * All attributes should be written in constructor body\n",
    "             * self.attribute_name \n",
    "* destructor\n",
    "     * always called when we delete object\n",
    "* method\n",
    "    * `def method_name(self,arg1,arg2,.....):pass`\n",
    "    * calling time `method_name(arg1,arg2,....)`\n",
    "        * always ignore self\n",
    "    * object action performed\n",
    "        * always return something or change some attribute value\n",
    "* attribute\n",
    "* class variable"
   ]
  },
  {
   "cell_type": "markdown",
   "id": "2076df1a",
   "metadata": {},
   "source": [
    "# Git Markdown Cheatsheet\n",
    "  https://github.com/adam-p/markdown-here/wiki/Markdown-Cheatsheet"
   ]
  },
  {
   "cell_type": "markdown",
   "id": "811aa1d6",
   "metadata": {},
   "source": [
    "# Linear Programming"
   ]
  },
  {
   "cell_type": "code",
   "execution_count": null,
   "id": "346eafad",
   "metadata": {},
   "outputs": [],
   "source": [
    "taq_name='Taqwa Khaliq'\n",
    "taq_fname='Fazle khaliq'\n",
    "taq_education='BSCS'\n",
    "\n",
    "def taq_speak():pass\n",
    "def taq_eat():pass\n",
    "def taq_sleep():pass\n",
    "\n",
    "\n",
    "\n",
    "ta_name='Taqwa Khaliq'\n",
    "ta_fname='Fazle khaliq'\n",
    "ta_education='BSCS'\n",
    "\n",
    "\n",
    "def ta_speak():pass\n",
    "def ta_eat():pass\n",
    "def ta_sleep():pass\n",
    "\n",
    "aat_name='Taqwa Khaliq'\n",
    "aat_fname='Fazle khaliq'\n",
    "aat_education='BSCS'\n",
    "\n",
    "\n",
    "def aat_speak():pass\n",
    "def aat_eat():pass\n",
    "def aat_sleep():pass\n",
    "\n",
    "\n"
   ]
  },
  {
   "cell_type": "markdown",
   "id": "2da1078b",
   "metadata": {},
   "source": [
    "# OOP\n",
    "* compress code\n",
    "* less computing power/less storage consume\n",
    "* management of code is too easy"
   ]
  },
  {
   "cell_type": "code",
   "execution_count": 4,
   "id": "7ca4de13",
   "metadata": {},
   "outputs": [],
   "source": [
    " class Student(): #class\n",
    "        def __init__(self,sid,sname): #constructor method\n",
    "            self.id=sid   # self.attribute_name = constructor_local_variable\n",
    "            self.name=sname   # attribute\n",
    "            self.education= None  # attribute\n",
    "            self.addresss= None    # attribute\n",
    "            self.age= None  # attribute\n",
    "            self.user= sname\n",
    "            self.password=\"123\"\n",
    "            \n",
    "        def login(self,user,pws):  #Method\n",
    "            if self.user == user and self.password==pws:\n",
    "                return 'Valid User'\n",
    "            else:\n",
    "                return 'Incorrect'\n",
    "    \n",
    "        def display_information(self):  #method\n",
    "            cards=f\"\"\"\n",
    "            PIAIC Student Card\n",
    "            Regestration No: {self.id}\n",
    "            Name: {self.name} \n",
    "            Education:{self.education}\n",
    "            \"\"\"\n",
    "                \n",
    "            return cards"
   ]
  },
  {
   "cell_type": "code",
   "execution_count": 5,
   "id": "6efc47cf",
   "metadata": {},
   "outputs": [],
   "source": [
    "s1=Student(1,'Taqwa Khaliq')\n",
    "s2=Student(2,'Komal')\n",
    "s3=Student(3,'Adan')\n",
    "s5=Student(5,'Areeba')#ClassName(arg1,arg2......) we ignore self argument during calling\n",
    "# s1,s2,s3 are the objects(s1,s2,s3 are also instances  of student class)"
   ]
  },
  {
   "cell_type": "code",
   "execution_count": 6,
   "id": "f4b64d90",
   "metadata": {},
   "outputs": [
    {
     "name": "stdout",
     "output_type": "stream",
     "text": [
      "Taqwa Khaliq 1\n",
      "Komal 2\n",
      "Adan 3\n",
      "Areeba 5\n"
     ]
    }
   ],
   "source": [
    "print(s1.name, s1.id)  #call attribute values\n",
    "print(s2.name, s2.id)  #object_name.attribute\n",
    "print(s3.name, s3.id)\n",
    "print(s5.name, s5.id)"
   ]
  },
  {
   "cell_type": "code",
   "execution_count": 7,
   "id": "125875d6",
   "metadata": {},
   "outputs": [
    {
     "data": {
      "text/plain": [
       "'Valid User'"
      ]
     },
     "execution_count": 7,
     "metadata": {},
     "output_type": "execute_result"
    }
   ],
   "source": [
    "s1.login(\"Taqwa Khaliq\",\"123\")   #call object methods\n",
    "                              #object_name.method_name"
   ]
  },
  {
   "cell_type": "code",
   "execution_count": 8,
   "id": "eb153413",
   "metadata": {},
   "outputs": [
    {
     "data": {
      "text/plain": [
       "'Incorrect'"
      ]
     },
     "execution_count": 8,
     "metadata": {},
     "output_type": "execute_result"
    }
   ],
   "source": [
    "s1.login('Komal','12345')"
   ]
  },
  {
   "cell_type": "code",
   "execution_count": 9,
   "id": "50482fcd",
   "metadata": {},
   "outputs": [
    {
     "data": {
      "text/plain": [
       "'Incorrect'"
      ]
     },
     "execution_count": 9,
     "metadata": {},
     "output_type": "execute_result"
    }
   ],
   "source": [
    "s2.login('Komal','1234')   #Password is incorrect"
   ]
  },
  {
   "cell_type": "code",
   "execution_count": 10,
   "id": "04a20709",
   "metadata": {},
   "outputs": [
    {
     "data": {
      "text/plain": [
       "'Valid User'"
      ]
     },
     "execution_count": 10,
     "metadata": {},
     "output_type": "execute_result"
    }
   ],
   "source": [
    "s2.login('Komal','123')"
   ]
  },
  {
   "cell_type": "code",
   "execution_count": 11,
   "id": "cceecf16",
   "metadata": {},
   "outputs": [
    {
     "data": {
      "text/plain": [
       "'\\n           PIAIC Student Card\\n           Regestration No: 1\\n           Name: Taqwa Khaliq \\n           Education:None\\n           '"
      ]
     },
     "execution_count": 11,
     "metadata": {},
     "output_type": "execute_result"
    }
   ],
   "source": [
    "s1.display_information()"
   ]
  },
  {
   "cell_type": "code",
   "execution_count": 12,
   "id": "e7be1fc0",
   "metadata": {},
   "outputs": [
    {
     "name": "stdout",
     "output_type": "stream",
     "text": [
      "\n",
      "           PIAIC Student Card\n",
      "           Regestration No: 1\n",
      "           Name: Taqwa Khaliq \n",
      "           Education:None\n",
      "           \n"
     ]
    }
   ],
   "source": [
    "print(s1.display_information())"
   ]
  },
  {
   "cell_type": "code",
   "execution_count": 13,
   "id": "c4edee50",
   "metadata": {},
   "outputs": [
    {
     "name": "stdout",
     "output_type": "stream",
     "text": [
      "\n",
      "           PIAIC Student Card\n",
      "           Regestration No: 1\n",
      "           Name: Taqwa Khaliq \n",
      "           Education:BSCS\n",
      "           \n"
     ]
    }
   ],
   "source": [
    "s1.education=\"BSCS\"\n",
    "print(s1.display_information())  #Dictionary is updated"
   ]
  },
  {
   "cell_type": "code",
   "execution_count": 14,
   "id": "72476ab0",
   "metadata": {},
   "outputs": [
    {
     "data": {
      "text/plain": [
       "['__class__',\n",
       " '__delattr__',\n",
       " '__dict__',\n",
       " '__dir__',\n",
       " '__doc__',\n",
       " '__eq__',\n",
       " '__format__',\n",
       " '__ge__',\n",
       " '__getattribute__',\n",
       " '__gt__',\n",
       " '__hash__',\n",
       " '__init__',\n",
       " '__init_subclass__',\n",
       " '__le__',\n",
       " '__lt__',\n",
       " '__module__',\n",
       " '__ne__',\n",
       " '__new__',\n",
       " '__reduce__',\n",
       " '__reduce_ex__',\n",
       " '__repr__',\n",
       " '__setattr__',\n",
       " '__sizeof__',\n",
       " '__str__',\n",
       " '__subclasshook__',\n",
       " '__weakref__',\n",
       " 'addresss',\n",
       " 'age',\n",
       " 'display_information',\n",
       " 'education',\n",
       " 'id',\n",
       " 'login',\n",
       " 'name',\n",
       " 'password',\n",
       " 'user']"
      ]
     },
     "execution_count": 14,
     "metadata": {},
     "output_type": "execute_result"
    }
   ],
   "source": [
    "dir(s1)"
   ]
  },
  {
   "cell_type": "code",
   "execution_count": 15,
   "id": "3eda9e2f",
   "metadata": {},
   "outputs": [
    {
     "data": {
      "text/plain": [
       "['__class__',\n",
       " '__delattr__',\n",
       " '__dict__',\n",
       " '__dir__',\n",
       " '__doc__',\n",
       " '__eq__',\n",
       " '__format__',\n",
       " '__ge__',\n",
       " '__getattribute__',\n",
       " '__gt__',\n",
       " '__hash__',\n",
       " '__init__',\n",
       " '__init_subclass__',\n",
       " '__le__',\n",
       " '__lt__',\n",
       " '__module__',\n",
       " '__ne__',\n",
       " '__new__',\n",
       " '__reduce__',\n",
       " '__reduce_ex__',\n",
       " '__repr__',\n",
       " '__setattr__',\n",
       " '__sizeof__',\n",
       " '__str__',\n",
       " '__subclasshook__',\n",
       " '__weakref__',\n",
       " 'display_information',\n",
       " 'login']"
      ]
     },
     "execution_count": 15,
     "metadata": {},
     "output_type": "execute_result"
    }
   ],
   "source": [
    "dir(Student)"
   ]
  },
  {
   "cell_type": "code",
   "execution_count": 16,
   "id": "5c504773",
   "metadata": {},
   "outputs": [
    {
     "name": "stdout",
     "output_type": "stream",
     "text": [
      "['addresss', 'age', 'education', 'id', 'login', 'name', 'password', 'user']\n",
      "['addresss', 'age', 'education', 'id', 'login', 'name', 'password', 'user']\n",
      "['addresss', 'age', 'education', 'id', 'login', 'name', 'password', 'user']\n",
      "['addresss', 'age', 'education', 'id', 'login', 'name', 'password', 'user']\n"
     ]
    }
   ],
   "source": [
    "print([i for i in dir(s1) if \"_\" not in i])\n",
    "print([i for i in dir(s2) if \"_\" not in i])\n",
    "print([i for i in dir(s3) if \"_\" not in i])\n",
    "#print([i for i in dir(s4) if \"_\" not in i])\n",
    "print([i for i in dir(s5) if \"_\" not in i])#showing only the funcs that doesnt include underscore"
   ]
  },
  {
   "cell_type": "code",
   "execution_count": 17,
   "id": "fca765e7",
   "metadata": {},
   "outputs": [],
   "source": [
    "s1.password='abc123'"
   ]
  },
  {
   "cell_type": "code",
   "execution_count": 18,
   "id": "8d02ca61",
   "metadata": {},
   "outputs": [
    {
     "name": "stdout",
     "output_type": "stream",
     "text": [
      "abc123\n"
     ]
    }
   ],
   "source": [
    "print(s1.password)"
   ]
  },
  {
   "cell_type": "markdown",
   "id": "37d4f496",
   "metadata": {},
   "source": [
    "# Class Variable\n",
    " * always create in class body\n",
    " * calling `Class Name.Variable_name`\n",
    " * always same value for"
   ]
  },
  {
   "cell_type": "code",
   "execution_count": 58,
   "id": "40ab730d",
   "metadata": {},
   "outputs": [],
   "source": [
    "class Student(): #class\n",
    "    \n",
    "    counter=100\n",
    "    subject='Artificial Intelligence'\n",
    "    time='11:14 am'\n",
    "    \n",
    "    def __init__(self,sid,sname): #constructor method\n",
    "            self.id=sid   # self.attribute_name = constructor_local_variable\n",
    "            self.name=sname   # attribute\n",
    "            self.education= None  # attribute\n",
    "            self.addresss= None    # attribute\n",
    "            self.age= None  # attribute\n",
    "            self.user= sname\n",
    "            self.password=\"123\"\n",
    "            \n",
    "            Student.counter +=1  #calling class variable\n",
    "        \n",
    "    def login(self,user,pws):  #Method\n",
    "            if self.user == user and self.password==pws:\n",
    "                return 'Valid User'\n",
    "            else:\n",
    "                return 'Incorrect'\n",
    "    \n",
    "    def display_information(self):  #method\n",
    "            cards=f\"\"\"\n",
    "            PIAIC Student Card\n",
    "            Regestration No: {self.id}\n",
    "            Name: {self.name} \n",
    "            Education:{self.education}\n",
    "            \"\"\"\n",
    "                \n",
    "            return cards"
   ]
  },
  {
   "cell_type": "code",
   "execution_count": 59,
   "id": "f530572b",
   "metadata": {},
   "outputs": [
    {
     "name": "stdout",
     "output_type": "stream",
     "text": [
      "101 101 Artificial Intelligence\n",
      "102 102 Artificial Intelligence\n",
      "103 103 Artificial Intelligence\n",
      "104 104 Artificial Intelligence\n",
      "105 105 Artificial Intelligence\n"
     ]
    }
   ],
   "source": [
    "s1=Student(1,'Taqwa Khaliq')\n",
    "print(Student.counter, s1.counter ,Student.subject)\n",
    "s2=Student(2,'Komal')\n",
    "print(Student.counter, s1.counter ,Student.subject)\n",
    "s3=Student(3,'Adan')\n",
    "print(Student.counter, s1.counter ,Student.subject)\n",
    "s4=Student(4,'Yusra')\n",
    "print(Student.counter, s1.counter ,Student.subject)\n",
    "s5=Student(5,'Areeba')\n",
    "print(Student.counter, s1.counter ,Student.subject)"
   ]
  },
  {
   "cell_type": "code",
   "execution_count": 60,
   "id": "c6472fbd",
   "metadata": {},
   "outputs": [
    {
     "name": "stdout",
     "output_type": "stream",
     "text": [
      "105\n",
      "105\n",
      "105\n",
      "105\n",
      "105\n",
      "105\n",
      "Artificial Intelligence\n",
      "11:14 am\n"
     ]
    }
   ],
   "source": [
    "print(s1.counter)\n",
    "print(s2.counter)\n",
    "print(s3.counter)\n",
    "print(s4.counter)\n",
    "print(s5.counter)\n",
    "\n",
    "\n",
    "print(Student.counter)\n",
    "print(Student.subject)\n",
    "print(Student.time)"
   ]
  },
  {
   "cell_type": "code",
   "execution_count": 73,
   "id": "e96d6541",
   "metadata": {},
   "outputs": [
    {
     "name": "stdout",
     "output_type": "stream",
     "text": [
      "11:14 am\n",
      "11:14 am\n",
      "11:14 am\n",
      "11:14 am\n",
      "11:14 am\n"
     ]
    }
   ],
   "source": [
    "print(s1.time)\n",
    "print(s2.time)\n",
    "print(s3.time)\n",
    "print(s4.time)\n",
    "print(s5.time)\n"
   ]
  },
  {
   "cell_type": "markdown",
   "id": "5b458ba7",
   "metadata": {},
   "source": [
    "# Class 13"
   ]
  },
  {
   "cell_type": "markdown",
   "id": "d53e55b8",
   "metadata": {},
   "source": [
    "# Inheritence"
   ]
  },
  {
   "cell_type": "code",
   "execution_count": 2,
   "id": "c3f46166",
   "metadata": {},
   "outputs": [],
   "source": [
    "class Parent():\n",
    "    def __init__(self):\n",
    "        self.id=None\n",
    "        self.name=None\n",
    "        self.fname=None\n",
    "        \n",
    "    def eat(self,food):\n",
    "        return f\"{self.name} is eating{food}\"\n",
    "    def speak(self,words,language='Urdu'):\n",
    "        return f\"{words}. language={language}\"\n",
    "    \n",
    "class Child(Parent):\n",
    "    pass"
   ]
  },
  {
   "cell_type": "code",
   "execution_count": 39,
   "id": "a7808aec",
   "metadata": {},
   "outputs": [
    {
     "name": "stdout",
     "output_type": "stream",
     "text": [
      "Fazle Khaliq\n",
      "1\n",
      "Hussain Azad\n",
      "Fazle Khaliq is eatingPizza\n",
      "Pakistan Zindabad. language=Urdu\n"
     ]
    }
   ],
   "source": [
    "p1=Parent( )\n",
    "p1.id=1\n",
    "p1.name='Fazle Khaliq'\n",
    "p1.fname='Hussain Azad'\n",
    "\n",
    "print(p1.name)\n",
    "print(p1.id)\n",
    "print(p1.fname)\n",
    "print(p1.eat(\"Pizza\"))\n",
    "print(p1.speak(\"Pakistan Zindabad\"))"
   ]
  },
  {
   "cell_type": "code",
   "execution_count": 40,
   "id": "3b77007e",
   "metadata": {},
   "outputs": [
    {
     "name": "stdout",
     "output_type": "stream",
     "text": [
      "Taqwa Khaliq\n",
      "1\n",
      "Fazle Khaliq\n",
      "Taqwa Khaliq is eatingPizza\n",
      "Pakistan Zindabad. language=Urdu\n"
     ]
    }
   ],
   "source": [
    "c1=Child( )    #child instance object\n",
    "c1.id=1\n",
    "c1.name='Taqwa Khaliq'\n",
    "c1.fname='Fazle Khaliq'\n",
    "\n",
    "print(c1.name)\n",
    "print(c1.id)\n",
    "print(c1.fname)\n",
    "print(c1.eat(\"Pizza\"))\n",
    "print(p1.speak(\"Pakistan Zindabad\"))"
   ]
  },
  {
   "cell_type": "markdown",
   "id": "9a1c4687",
   "metadata": {},
   "source": [
    "## Inheritence Example 2\n",
    "* add some new methods in child class"
   ]
  },
  {
   "cell_type": "code",
   "execution_count": 64,
   "id": "adce1ae9",
   "metadata": {},
   "outputs": [],
   "source": [
    "class Parent():\n",
    "    def __init__(self):\n",
    "        self.id=None\n",
    "        self.name=None\n",
    "        self.fname=None\n",
    "        \n",
    "    def eat(self,food):\n",
    "        return f\"{self.name} is eating{food}\"\n",
    "    def speak(self,words,language='Urdu'):\n",
    "        return f\"{words}. language={language}\"\n",
    "    \n",
    "class Child(Parent):\n",
    "    def walk(self,distance):\n",
    "        return f\"{self.name} has covered {self.distance}\"\n",
    "    def play(self, game):\n",
    "        return f\"{self.name} is playing {game}\""
   ]
  },
  {
   "cell_type": "code",
   "execution_count": 65,
   "id": "d9d87a8b",
   "metadata": {},
   "outputs": [
    {
     "name": "stdout",
     "output_type": "stream",
     "text": [
      "['__add__', '__class__', '__class_getitem__', '__contains__', '__delattr__', '__delitem__', '__dir__', '__doc__', '__eq__', '__format__', '__ge__', '__getattribute__', '__getitem__', '__gt__', '__hash__', '__iadd__', '__imul__', '__init__', '__init_subclass__', '__iter__', '__le__', '__len__', '__lt__', '__mul__', '__ne__', '__new__', '__reduce__', '__reduce_ex__', '__repr__', '__reversed__', '__rmul__', '__setattr__', '__setitem__', '__sizeof__', '__str__', '__subclasshook__', 'append', 'clear', 'copy', 'count', 'extend', 'index', 'insert', 'pop', 'remove', 'reverse', 'sort']\n"
     ]
    }
   ],
   "source": [
    "p1=Parent()\n",
    "print(dir([p1]))"
   ]
  },
  {
   "cell_type": "code",
   "execution_count": 66,
   "id": "8f88bff3",
   "metadata": {},
   "outputs": [
    {
     "name": "stdout",
     "output_type": "stream",
     "text": [
      "['eat', 'fname', 'id', 'name', 'speak']\n"
     ]
    }
   ],
   "source": [
    "p1=Parent()\n",
    "print([ i for i  in dir(p1) if '_' not in i])   #methods and attributes"
   ]
  },
  {
   "cell_type": "code",
   "execution_count": 67,
   "id": "70664c05",
   "metadata": {},
   "outputs": [
    {
     "name": "stdout",
     "output_type": "stream",
     "text": [
      "['eat', 'fname', 'id', 'name', 'play', 'speak', 'walk']\n"
     ]
    }
   ],
   "source": [
    "c1=Child()\n",
    "print([ i for i  in dir(c1) if '_' not in i])"
   ]
  },
  {
   "cell_type": "code",
   "execution_count": 68,
   "id": "c13db310",
   "metadata": {},
   "outputs": [],
   "source": [
    "class Parent():\n",
    "    def __init__(self):\n",
    "        self.id=None\n",
    "        self.name=None\n",
    "        self.fname=None\n",
    "        \n",
    "    def eat(self,food):\n",
    "        return f\"{self.name} is eating{food}\"\n",
    "    def speak(self,words,language='Urdu'):\n",
    "        return f\"{words}. language={language}\"\n",
    "    \n",
    "class Child(Parent):\n",
    "    def walk(self,distance):\n",
    "        return f\"{self.name} has covered {self.distance}\"\n",
    "    def play(self, game):\n",
    "        return f\"{self.name} is playing {game}\"\n",
    "    "
   ]
  },
  {
   "cell_type": "code",
   "execution_count": 69,
   "id": "d2fb6afc",
   "metadata": {},
   "outputs": [
    {
     "name": "stdout",
     "output_type": "stream",
     "text": [
      "Fazle Khaliq\n",
      "1\n",
      "Hussain Azad\n",
      "Fazle Khaliq is eatingPizza\n",
      "Pakistan Zindabad. language=Urdu\n"
     ]
    }
   ],
   "source": [
    "p1=Parent( )\n",
    "p1.id=1\n",
    "p1.name='Fazle Khaliq'\n",
    "p1.fname='Hussain Azad'\n",
    "\n",
    "print(p1.name)\n",
    "print(p1.id)\n",
    "print(p1.fname)\n",
    "print(p1.eat(\"Pizza\"))\n",
    "print(p1.speak(\"Pakistan Zindabad\"))"
   ]
  },
  {
   "cell_type": "code",
   "execution_count": 70,
   "id": "5f7f4952",
   "metadata": {},
   "outputs": [
    {
     "ename": "AttributeError",
     "evalue": "'Parent' object has no attribute 'play'",
     "output_type": "error",
     "traceback": [
      "\u001b[1;31m---------------------------------------------------------------------------\u001b[0m",
      "\u001b[1;31mAttributeError\u001b[0m                            Traceback (most recent call last)",
      "Input \u001b[1;32mIn [70]\u001b[0m, in \u001b[0;36m<cell line: 1>\u001b[1;34m()\u001b[0m\n\u001b[1;32m----> 1\u001b[0m \u001b[43mp1\u001b[49m\u001b[38;5;241;43m.\u001b[39;49m\u001b[43mplay\u001b[49m(cricket)\n",
      "\u001b[1;31mAttributeError\u001b[0m: 'Parent' object has no attribute 'play'"
     ]
    }
   ],
   "source": [
    "p1.play(cricket)"
   ]
  },
  {
   "cell_type": "code",
   "execution_count": 71,
   "id": "ca0760d8",
   "metadata": {},
   "outputs": [
    {
     "name": "stdout",
     "output_type": "stream",
     "text": [
      "Taqwa Khaliq\n",
      "1\n",
      "Fazle Khaliq\n",
      "Taqwa Khaliq is eatingPizza\n",
      "Pakistan Zindabad. language=Urdu\n"
     ]
    }
   ],
   "source": [
    "c1=Child( )    #child instance object\n",
    "c1.id=1\n",
    "c1.name='Taqwa Khaliq'\n",
    "c1.fname='Fazle Khaliq'\n",
    "\n",
    "print(c1.name)\n",
    "print(c1.id)\n",
    "print(c1.fname)\n",
    "print(c1.eat(\"Pizza\"))\n",
    "print(p1.speak(\"Pakistan Zindabad\"))"
   ]
  },
  {
   "cell_type": "code",
   "execution_count": 72,
   "id": "5742f180",
   "metadata": {},
   "outputs": [
    {
     "data": {
      "text/plain": [
       "'Taqwa Khaliq is playing cricket'"
      ]
     },
     "execution_count": 72,
     "metadata": {},
     "output_type": "execute_result"
    }
   ],
   "source": [
    "c1.play('cricket')"
   ]
  },
  {
   "cell_type": "code",
   "execution_count": 73,
   "id": "78279e7d",
   "metadata": {},
   "outputs": [
    {
     "ename": "AttributeError",
     "evalue": "'Child' object has no attribute 'distance'",
     "output_type": "error",
     "traceback": [
      "\u001b[1;31m---------------------------------------------------------------------------\u001b[0m",
      "\u001b[1;31mAttributeError\u001b[0m                            Traceback (most recent call last)",
      "Input \u001b[1;32mIn [73]\u001b[0m, in \u001b[0;36m<cell line: 1>\u001b[1;34m()\u001b[0m\n\u001b[1;32m----> 1\u001b[0m \u001b[43mc1\u001b[49m\u001b[38;5;241;43m.\u001b[39;49m\u001b[43mwalk\u001b[49m\u001b[43m(\u001b[49m\u001b[38;5;124;43m'\u001b[39;49m\u001b[38;5;124;43m3 KM\u001b[39;49m\u001b[38;5;124;43m'\u001b[39;49m\u001b[43m)\u001b[49m\n",
      "Input \u001b[1;32mIn [68]\u001b[0m, in \u001b[0;36mChild.walk\u001b[1;34m(self, distance)\u001b[0m\n\u001b[0;32m     13\u001b[0m \u001b[38;5;28;01mdef\u001b[39;00m \u001b[38;5;21mwalk\u001b[39m(\u001b[38;5;28mself\u001b[39m,distance):\n\u001b[1;32m---> 14\u001b[0m     \u001b[38;5;28;01mreturn\u001b[39;00m \u001b[38;5;124mf\u001b[39m\u001b[38;5;124m\"\u001b[39m\u001b[38;5;132;01m{\u001b[39;00m\u001b[38;5;28mself\u001b[39m\u001b[38;5;241m.\u001b[39mname\u001b[38;5;132;01m}\u001b[39;00m\u001b[38;5;124m has covered \u001b[39m\u001b[38;5;132;01m{\u001b[39;00m\u001b[38;5;28mself\u001b[39m\u001b[38;5;241m.\u001b[39mdistance\u001b[38;5;132;01m}\u001b[39;00m\u001b[38;5;124m\"\u001b[39m\n",
      "\u001b[1;31mAttributeError\u001b[0m: 'Child' object has no attribute 'distance'"
     ]
    }
   ],
   "source": [
    "c1.walk('3 KM')"
   ]
  },
  {
   "cell_type": "markdown",
   "id": "a8ad6787",
   "metadata": {},
   "source": [
    "# Inheritence Example 2\n",
    " * add some new <b>attributes</b> in child class\n",
    " * super(). parent_method()"
   ]
  },
  {
   "cell_type": "code",
   "execution_count": 110,
   "id": "f3aa523a",
   "metadata": {},
   "outputs": [
    {
     "name": "stdout",
     "output_type": "stream",
     "text": [
      "None\n",
      "None\n",
      "None\n"
     ]
    }
   ],
   "source": [
    "class Parent():\n",
    "    def __init__(self):\n",
    "        self.id=None\n",
    "        self.name=None\n",
    "        self.fname=None\n",
    "        \n",
    "    def eat(self,food):\n",
    "        return f\"{self.name} is eating{food}\"\n",
    "    def speak(self,words,language='Urdu'):\n",
    "        return f\"{words}. language={language}\"\n",
    "    \n",
    "class Child(Parent):\n",
    "    \n",
    "    def walk(self,distance):\n",
    "        return f\"{self.name} has covered {self.distance}\"\n",
    "    def play(self, game):\n",
    "        return f\"{self.name} is playing {game}\"\n",
    "    def __init__(self):  # Create new child constructor\n",
    "        super(). __init__()     # call parent attribute   #super function is used to create additional attributes in a class\n",
    "        self.education=None  # Added additional attribute\n",
    "        self.height=None      # Added additional attribute\n",
    "        \n",
    "        \n",
    "   \n",
    "        \n",
    "#     def walk(self,distance):\n",
    "#         return f\"{self.name} has covered {self.distance}\"\n",
    "#     def play(self, game):\n",
    "#         return f\"{self.name} is playing {game}\""
   ]
  },
  {
   "cell_type": "code",
   "execution_count": 93,
   "id": "1c523c19",
   "metadata": {},
   "outputs": [
    {
     "name": "stdout",
     "output_type": "stream",
     "text": [
      "['eat', 'fname', 'id', 'name', 'speak']\n"
     ]
    }
   ],
   "source": [
    "p1=Parent()\n",
    "\n",
    "print([i for i in dir(p1) if '_' not in i]) #methods and attributes"
   ]
  },
  {
   "cell_type": "code",
   "execution_count": 94,
   "id": "0f197220",
   "metadata": {},
   "outputs": [
    {
     "data": {
      "text/plain": [
       "['__class__',\n",
       " '__delattr__',\n",
       " '__dict__',\n",
       " '__dir__',\n",
       " '__doc__',\n",
       " '__eq__',\n",
       " '__format__',\n",
       " '__ge__',\n",
       " '__getattribute__',\n",
       " '__gt__',\n",
       " '__hash__',\n",
       " '__init__',\n",
       " '__init_subclass__',\n",
       " '__le__',\n",
       " '__lt__',\n",
       " '__module__',\n",
       " '__ne__',\n",
       " '__new__',\n",
       " '__reduce__',\n",
       " '__reduce_ex__',\n",
       " '__repr__',\n",
       " '__setattr__',\n",
       " '__sizeof__',\n",
       " '__str__',\n",
       " '__subclasshook__',\n",
       " '__weakref__',\n",
       " 'eat',\n",
       " 'fname',\n",
       " 'id',\n",
       " 'name',\n",
       " 'speak']"
      ]
     },
     "execution_count": 94,
     "metadata": {},
     "output_type": "execute_result"
    }
   ],
   "source": [
    "dir(p1)"
   ]
  },
  {
   "cell_type": "code",
   "execution_count": 95,
   "id": "ef2fbcd7",
   "metadata": {},
   "outputs": [
    {
     "name": "stdout",
     "output_type": "stream",
     "text": [
      "['eat', 'fname', 'id', 'name', 'play', 'speak', 'walk']\n"
     ]
    }
   ],
   "source": [
    "p1=Child()\n",
    "\n",
    "print([i for i in dir(c1) if '_' not in i])"
   ]
  },
  {
   "cell_type": "code",
   "execution_count": 96,
   "id": "010dbda1",
   "metadata": {},
   "outputs": [
    {
     "data": {
      "text/plain": [
       "['__class__',\n",
       " '__delattr__',\n",
       " '__dict__',\n",
       " '__dir__',\n",
       " '__doc__',\n",
       " '__eq__',\n",
       " '__format__',\n",
       " '__ge__',\n",
       " '__getattribute__',\n",
       " '__gt__',\n",
       " '__hash__',\n",
       " '__init__',\n",
       " '__init_subclass__',\n",
       " '__le__',\n",
       " '__lt__',\n",
       " '__module__',\n",
       " '__ne__',\n",
       " '__new__',\n",
       " '__reduce__',\n",
       " '__reduce_ex__',\n",
       " '__repr__',\n",
       " '__setattr__',\n",
       " '__sizeof__',\n",
       " '__str__',\n",
       " '__subclasshook__',\n",
       " '__weakref__',\n",
       " 'eat',\n",
       " 'education',\n",
       " 'fname',\n",
       " 'height',\n",
       " 'id',\n",
       " 'name',\n",
       " 'play',\n",
       " 'speak',\n",
       " 'walk']"
      ]
     },
     "execution_count": 96,
     "metadata": {},
     "output_type": "execute_result"
    }
   ],
   "source": [
    "dir(p1)"
   ]
  },
  {
   "cell_type": "code",
   "execution_count": 113,
   "id": "a1ed2f8c",
   "metadata": {},
   "outputs": [
    {
     "name": "stdout",
     "output_type": "stream",
     "text": [
      "Fazle Khaliq\n"
     ]
    }
   ],
   "source": [
    "p1.name='Fazle Khaliq'\n",
    "print(p1.name)"
   ]
  },
  {
   "cell_type": "code",
   "execution_count": 98,
   "id": "845e7a59",
   "metadata": {},
   "outputs": [],
   "source": [
    "p1.height=\"7 feet\""
   ]
  },
  {
   "cell_type": "code",
   "execution_count": 99,
   "id": "9348d065",
   "metadata": {},
   "outputs": [
    {
     "data": {
      "text/plain": [
       "'7 feet'"
      ]
     },
     "execution_count": 99,
     "metadata": {},
     "output_type": "execute_result"
    }
   ],
   "source": [
    "p1.height"
   ]
  },
  {
   "cell_type": "code",
   "execution_count": 102,
   "id": "fbeb8121",
   "metadata": {},
   "outputs": [
    {
     "data": {
      "text/plain": [
       "'Bscs'"
      ]
     },
     "execution_count": 102,
     "metadata": {},
     "output_type": "execute_result"
    }
   ],
   "source": [
    "c1.education"
   ]
  },
  {
   "cell_type": "code",
   "execution_count": 103,
   "id": "ca70d31d",
   "metadata": {},
   "outputs": [
    {
     "name": "stdout",
     "output_type": "stream",
     "text": [
      "Bscs\n"
     ]
    }
   ],
   "source": [
    "c1.education='Bscs'\n",
    "print(c1.education)"
   ]
  },
  {
   "cell_type": "code",
   "execution_count": 104,
   "id": "8fb3b449",
   "metadata": {},
   "outputs": [
    {
     "ename": "AttributeError",
     "evalue": "'Child' object has no attribute 'height'",
     "output_type": "error",
     "traceback": [
      "\u001b[1;31m---------------------------------------------------------------------------\u001b[0m",
      "\u001b[1;31mAttributeError\u001b[0m                            Traceback (most recent call last)",
      "Input \u001b[1;32mIn [104]\u001b[0m, in \u001b[0;36m<cell line: 1>\u001b[1;34m()\u001b[0m\n\u001b[1;32m----> 1\u001b[0m \u001b[43mc1\u001b[49m\u001b[38;5;241;43m.\u001b[39;49m\u001b[43mheight\u001b[49m\n",
      "\u001b[1;31mAttributeError\u001b[0m: 'Child' object has no attribute 'height'"
     ]
    }
   ],
   "source": [
    "c1.height"
   ]
  },
  {
   "cell_type": "code",
   "execution_count": 109,
   "id": "34530a04",
   "metadata": {},
   "outputs": [],
   "source": [
    "c1.height='6.5'\n"
   ]
  },
  {
   "cell_type": "code",
   "execution_count": 112,
   "id": "936daa7d",
   "metadata": {},
   "outputs": [
    {
     "name": "stdout",
     "output_type": "stream",
     "text": [
      "None\n",
      "None\n",
      "None\n"
     ]
    }
   ],
   "source": [
    " c1=Child()\n",
    "print(c1.height)\n",
    "print(c1.name)\n",
    "print(c1.fname)\n",
    "    "
   ]
  },
  {
   "cell_type": "code",
   "execution_count": 114,
   "id": "d51e2ef2",
   "metadata": {},
   "outputs": [],
   "source": [
    "c1.name='Taqwa Khaliq '"
   ]
  },
  {
   "cell_type": "code",
   "execution_count": 115,
   "id": "93bf502b",
   "metadata": {},
   "outputs": [
    {
     "data": {
      "text/plain": [
       "'Taqwa Khaliq  is playing Cricket'"
      ]
     },
     "execution_count": 115,
     "metadata": {},
     "output_type": "execute_result"
    }
   ],
   "source": [
    "c1.play('Cricket')"
   ]
  },
  {
   "cell_type": "markdown",
   "id": "ca5c4c14",
   "metadata": {},
   "source": [
    "# Multilevel Inheritence"
   ]
  },
  {
   "cell_type": "code",
   "execution_count": 149,
   "id": "aa350eeb",
   "metadata": {},
   "outputs": [],
   "source": [
    "class Father():\n",
    "    def __init__(self,name):\n",
    "        self.name=name\n",
    "        self.fname=None\n",
    "        self.color='whitish'\n",
    "        self.hair_color='dark brown'\n",
    "        \n",
    "    def speak(self):\n",
    "        return 'hahahaha!'\n",
    "    \n",
    "class Mother():\n",
    "    def __init__(self):\n",
    "           self.height='5.8'\n",
    "           self.color='white'\n",
    "    def silent(self):\n",
    "         return '.....'\n",
    "        \n",
    "class Child(Father,Mother):  # If we write Mother first in the child classs argument\n",
    "               pass              #     then child characteristics will dominate mothers attribute  \n",
    "        "
   ]
  },
  {
   "cell_type": "code",
   "execution_count": 151,
   "id": "fddb08e4",
   "metadata": {},
   "outputs": [
    {
     "name": "stdout",
     "output_type": "stream",
     "text": [
      "['color', 'fname', 'hair_color', 'name', 'silent', 'speak']\n"
     ]
    }
   ],
   "source": [
    "c1=Child('Taqwa')\n",
    "print([i for i in dir(c1) if '__' not in i])"
   ]
  },
  {
   "cell_type": "markdown",
   "id": "6193f8d8",
   "metadata": {},
   "source": [
    "# Polymorphism\n",
    "if object behave Multiple Behaviours,with same method name and operators\n",
    " * Overloading\n",
    "    * Within same class \n",
    "    * method name same but pass arguments with different datatypes or\n",
    "       numbers of arguments variation(pass 1 or many)\n",
    "        * old programming syntax <br>\n",
    "        `def add(int num1,int num2):return num1+num2`<br>   \n",
    "        `def add(float num1,float num2):return num1+num2`<br>\n",
    "        `def add(int num1,float num2):return num1+num2` <br>\n",
    "        `def add(float num1,int num2):return num1+num2`<br>\n",
    "    \n",
    " * Overriding\n",
    "   * With parent and child"
   ]
  },
  {
   "cell_type": "code",
   "execution_count": 152,
   "id": "be7e8061",
   "metadata": {},
   "outputs": [
    {
     "name": "stdout",
     "output_type": "stream",
     "text": [
      "5\n",
      "10\n",
      "17\n"
     ]
    }
   ],
   "source": [
    "class MyMath():\n",
    "     def __init__(self):\n",
    "            pass\n",
    "        \n",
    "    def my_sum(self, *num):  # Overloading  in previous languages\n",
    "            return sum(num)\n",
    "m1=MyMath()\n",
    "print(m1.my_sum(2,3))  #two\n",
    "print(m1.my_sum(2,3,5)) #three\n",
    "print(m1.my_sum(2,3,5,7)) #four"
   ]
  },
  {
   "cell_type": "code",
   "execution_count": 162,
   "id": "d074be97",
   "metadata": {},
   "outputs": [
    {
     "name": "stdout",
     "output_type": "stream",
     "text": [
      "<built-in function sum>\n",
      "5\n",
      "<built-in function sum>\n",
      "10\n",
      "<built-in function sum>\n",
      "17\n"
     ]
    }
   ],
   "source": [
    "class MyMath():\n",
    "    def __init__(self):\n",
    "            pass\n",
    "        \n",
    "    def my_sum(self, *num): # Overloading  in previous languages\n",
    "             print(sum)\n",
    "             return sum(num)\n",
    "m1=MyMath()\n",
    "print(m1.my_sum(2,3))  #two\n",
    "print(m1.my_sum(2,3,5)) #three\n",
    "print(m1.my_sum(2,3,5,7)) #four"
   ]
  },
  {
   "cell_type": "code",
   "execution_count": 164,
   "id": "3cb9fd22",
   "metadata": {},
   "outputs": [
    {
     "name": "stdout",
     "output_type": "stream",
     "text": [
      "5\n",
      "6.4\n",
      "5.4\n",
      "5.6\n",
      "10\n",
      "17\n"
     ]
    }
   ],
   "source": [
    "class MyMath():\n",
    "    def __init__(self):\n",
    "            pass\n",
    "        \n",
    "    def my_sum(self, *num): # Overloading  in previous languages\n",
    "             \n",
    "             return sum(num)\n",
    "m1=MyMath()\n",
    "print(m1.my_sum(2,3)) \n",
    "print(m1.my_sum(2.5,3.9))\n",
    "print(m1.my_sum(2.4,3))\n",
    "print(m1.my_sum(2,3.6))#two\n",
    "print(m1.my_sum(2,3,5)) #three\n",
    "print(m1.my_sum(2,3,5,7)) #four"
   ]
  },
  {
   "cell_type": "code",
   "execution_count": 154,
   "id": "3657e7c8",
   "metadata": {},
   "outputs": [
    {
     "data": {
      "text/plain": [
       "__main__.MyMath"
      ]
     },
     "execution_count": 154,
     "metadata": {},
     "output_type": "execute_result"
    }
   ],
   "source": [
    "m1 .__class__"
   ]
  },
  {
   "cell_type": "code",
   "execution_count": 153,
   "id": "1b6b86f2",
   "metadata": {},
   "outputs": [
    {
     "data": {
      "text/plain": [
       "['__class__',\n",
       " '__delattr__',\n",
       " '__dict__',\n",
       " '__dir__',\n",
       " '__doc__',\n",
       " '__eq__',\n",
       " '__format__',\n",
       " '__ge__',\n",
       " '__getattribute__',\n",
       " '__gt__',\n",
       " '__hash__',\n",
       " '__init__',\n",
       " '__init_subclass__',\n",
       " '__le__',\n",
       " '__lt__',\n",
       " '__module__',\n",
       " '__ne__',\n",
       " '__new__',\n",
       " '__reduce__',\n",
       " '__reduce_ex__',\n",
       " '__repr__',\n",
       " '__setattr__',\n",
       " '__sizeof__',\n",
       " '__str__',\n",
       " '__subclasshook__',\n",
       " '__weakref__',\n",
       " 'my_sum']"
      ]
     },
     "execution_count": 153,
     "metadata": {},
     "output_type": "execute_result"
    }
   ],
   "source": [
    "dir(m1)"
   ]
  },
  {
   "cell_type": "code",
   "execution_count": 167,
   "id": "d9bfefd7",
   "metadata": {},
   "outputs": [
    {
     "name": "stdout",
     "output_type": "stream",
     "text": [
      "5\n",
      "6.4\n",
      "5.4\n",
      "5.6\n",
      "10\n",
      "17\n"
     ]
    }
   ],
   "source": [
    "class MyMath():\n",
    "    def __init__(self):\n",
    "            pass\n",
    "        \n",
    "    def my_sum(self, *num): # Overloading  in previous languages\n",
    "             return sum(num)\n",
    "    def __del__(self):\n",
    "        return print(\"Pakistan Zindabad\")\n",
    "    \n",
    "m1=MyMath()\n",
    "print(m1.my_sum(2,3)) \n",
    "print(m1.my_sum(2.5,3.9))\n",
    "print(m1.my_sum(2.4,3))\n",
    "print(m1.my_sum(2,3.6))#two\n",
    "print(m1.my_sum(2,3,5)) #three\n",
    "print(m1.my_sum(2,3,5,7)) #four"
   ]
  },
  {
   "cell_type": "code",
   "execution_count": 168,
   "id": "4b9e4b76",
   "metadata": {},
   "outputs": [
    {
     "name": "stdout",
     "output_type": "stream",
     "text": [
      "Pakistan Zindabad\n"
     ]
    }
   ],
   "source": [
    "del m1"
   ]
  },
  {
   "cell_type": "code",
   "execution_count": 169,
   "id": "3a58ffbb",
   "metadata": {},
   "outputs": [
    {
     "ename": "NameError",
     "evalue": "name 'm1' is not defined",
     "output_type": "error",
     "traceback": [
      "\u001b[1;31m---------------------------------------------------------------------------\u001b[0m",
      "\u001b[1;31mNameError\u001b[0m                                 Traceback (most recent call last)",
      "Input \u001b[1;32mIn [169]\u001b[0m, in \u001b[0;36m<cell line: 1>\u001b[1;34m()\u001b[0m\n\u001b[1;32m----> 1\u001b[0m \u001b[43mm1\u001b[49m\n",
      "\u001b[1;31mNameError\u001b[0m: name 'm1' is not defined"
     ]
    }
   ],
   "source": [
    "m1"
   ]
  },
  {
   "cell_type": "markdown",
   "id": "33ef2861",
   "metadata": {},
   "source": [
    "# Overriding\n",
    " "
   ]
  },
  {
   "cell_type": "code",
   "execution_count": 174,
   "id": "43480fb4",
   "metadata": {},
   "outputs": [
    {
     "data": {
      "text/plain": [
       "'Pakistan!'"
      ]
     },
     "execution_count": 174,
     "metadata": {},
     "output_type": "execute_result"
    }
   ],
   "source": [
    "class Mother():\n",
    "    def speak(self):  #Parent Method\n",
    "        return 'hahaha!'   # Original Line\n",
    "    \n",
    "class Child(Mother):  #Child Method overriding\n",
    "    def speak(self):    #update Line\n",
    "        return \"Pakistan!\"\n",
    "    class SubChild():   # We can create another class in already exsisting class\n",
    "        pass\n",
    "    \n",
    "c1=Child()\n",
    "c1.speak()\n",
    "    "
   ]
  },
  {
   "cell_type": "code",
   "execution_count": 175,
   "id": "8408ca04",
   "metadata": {},
   "outputs": [
    {
     "data": {
      "text/plain": [
       "'hahaha!'"
      ]
     },
     "execution_count": 175,
     "metadata": {},
     "output_type": "execute_result"
    }
   ],
   "source": [
    "m1=Mother()\n",
    "m1.speak()"
   ]
  },
  {
   "cell_type": "code",
   "execution_count": 176,
   "id": "73274979",
   "metadata": {},
   "outputs": [
    {
     "name": "stdout",
     "output_type": "stream",
     "text": [
      "9\n"
     ]
    }
   ],
   "source": [
    "a=1  #Logic behing above results\n",
    "a=7\n",
    "a=9\n",
    "print(a)"
   ]
  },
  {
   "cell_type": "code",
   "execution_count": 177,
   "id": "a0a051b8",
   "metadata": {},
   "outputs": [
    {
     "name": "stdout",
     "output_type": "stream",
     "text": [
      "1\n",
      "7\n",
      "9\n"
     ]
    }
   ],
   "source": [
    "a=1\n",
    "print(a)    #Logic behing above results\n",
    "a=7\n",
    "print(a)\n",
    "a=9\n",
    "print(a)"
   ]
  },
  {
   "cell_type": "code",
   "execution_count": null,
   "id": "d318b908",
   "metadata": {},
   "outputs": [],
   "source": []
  },
  {
   "cell_type": "markdown",
   "id": "670662a0",
   "metadata": {},
   "source": [
    "# Attendance"
   ]
  },
  {
   "cell_type": "code",
   "execution_count": 131,
   "id": "1c9276c8",
   "metadata": {},
   "outputs": [
    {
     "data": {
      "text/plain": [
       "[(' Imran Khalid', '85636')]"
      ]
     },
     "execution_count": 131,
     "metadata": {},
     "output_type": "execute_result"
    }
   ],
   "source": [
    "x=\"\"\"\n",
    "09:04:16 From junaid ali To Everyone : PIAIC174125\n",
    "Junaid ali bhatti\n",
    "09:04:40 From Muhammad Furqan(PIAIC183270) To Everyone : Assalam O Alaikum\n",
    "09:04:51 From Shoaib PIAIC-178354 To Everyone : Shoaib PIAIC178354\n",
    "09:04:52 From Nasrullah (PIAIC 180162) To Everyone : PIAIC180162\n",
    "09:04:58 From Usman Noor PIAIC-188401 To Everyone : PIAIC 188401\n",
    "09:04:59 From Amir Rashid To Everyone : aoa\n",
    "09:05:04 From Sadia To Everyone : piaic180028\n",
    "09:05:08 From Mohammad Javed To Everyone : PIAIC185754\n",
    "MOHAMMAD JAVED\n",
    "09:05:15 From ASIF ALI To Everyone : ASIF ALI\n",
    "09:05:20 From Mohammad Javed To Everyone : Assalamo Alykum\n",
    "09:05:25 From PIAIC172478 To Everyone : PIAIC172478\n",
    "09:05:25 From Amir Rashid To Everyone : PIAIC107890\n",
    "09:06:24 From Raashid To Everyone : quarter k end main show hoga\n",
    "09:06:25 From ASIF ALI To Everyone : ASIF ALI\n",
    "PIAIC183730\n",
    "09:07:56 From Sadia To Everyone : voice to low\n",
    "09:08:09 From Muhammad Furqan(PIAIC183270) To Everyone : PIAIC183270\n",
    "09:08:42 From Gulshan Ali To Everyone : Gulshan Ali PIAIC176719\n",
    "09:08:50 From Syed Amir PIAIC128409 To Everyone : PIAIC128409\n",
    "09:09:01 From Humera Naz To Everyone : PIAIC 173431\n",
    "09:09:36 From Saeed To Everyone : PIAIC131885\n",
    "09:09:38 From PIAIC177535 To Everyone : PIAIC177535\n",
    "09:10:02 From Faizan Muhammad To Everyone : PIAIC189427\n",
    "09:10:20 From Haider Ali-PIAIC179345 To Everyone : PIAIC179345\n",
    "09:10:35 From Syed Jawad [PIAIC185558] To Everyone : PIAIC185558\n",
    "09:13:05 From Muhammad Sadullah - PIAIC178950 To Everyone : PIAIC178950\n",
    "09:13:13 From Mohammad Ali Asif Khan - PIAIC-57947 To Everyone : Mohammad Ali Asif Khan - PIAIC-57947\n",
    "09:13:24 From SHEHZAD PIAIC180057 To Everyone : PIAIC180057\n",
    "09:14:37 From ALI ISMAIL HUSSAIN To Everyone : IOT048687\n",
    "09:14:45 From Shahid PIAIC134239 To Everyone : PIAIC-134239\n",
    "09:15:22 From Ihsan iphone To Everyone : Nida yaseen (PIAIC-183444)\n",
    "09:16:19 From PIAIC183349 Muahhamd Waseem To Everyone : PIAIC183349\n",
    "09:16:22 From RIMSHA KHAN To Everyone : PIAIC174812\n",
    "09:16:51 From PIAIC188523 - Subhan Ahmed To Everyone : PIAIC188523\n",
    "09:17:13 From Moattar Khanum(PIAIC170982) To Everyone : Moattar Khanum - PIAIC170982\n",
    "09:18:05 From Zeeshan Asim : PIAIC55300 To Everyone : PIAIC55300\n",
    "09:19:09 From Neelum Javaid PIAIC 172527 To Everyone : neelum javaid PIAIC 172527\n",
    "09:19:33 From Amna Liaqat PIAIC 133452 To Everyone : Amna Liaqat PIAIC133452\n",
    "09:20:49 From A.Rahman PIAIC150034 To Everyone : PIAIC150034\n",
    "09:21:02 From Ali Raza To Everyone : PIAIC62922\n",
    "09:21:28 From Irtiza Khan [PIAIC 171375] To Everyone : PIAIC171375\n",
    "09:21:30 From Muhammad Farhan Ahsan PIAIC-168894 To Everyone : PIAIC168894\n",
    "09:21:40 From Muhammad Owais PIAIC139392 To Everyone : PIAIC139392\n",
    "09:21:53 From PIAIC149101 sana To Everyone : PIAIC149101\n",
    "09:21:59 From vivo 1901 To Everyone : PIAIC74287\n",
    "09:22:00 From Ali Azam-PIAIC66597 To Everyone : PIAIC66597\n",
    "09:22:03 From Samina-PIAIC52499 To Everyone : PIAIC52499\n",
    "09:23:05 From Zeenat Zakir: Piaic 133802 To Everyone : volume is low\n",
    "09:23:59 From Humera Naz To Everyone : sir, can't hear you well\n",
    "09:24:39 From MOHAMMAD JAVED To Everyone : PIAIC185754\n",
    "09:25:38 From ABDUL BASIT To Everyone : PIAIC 59115\n",
    "09:25:45 From Muhammad Owais PIAIC139392 To Everyone : PIAIC139392\n",
    "09:25:56 From Samsung SM-A325F To Everyone : PIAIC178248\n",
    "09:26:31 From Maah Noor PIAIC168751 To Everyone : PIAIC168751\n",
    "09:27:17 From Kainat PIAIC182352 To Everyone : PIAIC 182352\n",
    "09:27:28 From Syed PIAIC168703 To Everyone : PIAIC 168703\n",
    "09:27:39 From Muhammad Sheraz-PIAIC68522 To Everyone : PIAIC68522\n",
    "09:29:03 From MUHAMMAD USMAN MANZOOR To Everyone : PIAIC119347\n",
    "09:31:07 From Mohammad Ali Asif Khan - PIAIC-57947 To Everyone : PIAIC57947\n",
    "09:36:26 From Asif Rehman PIAIC93717 To Everyone : PIAIC93717\n",
    "09:37:21 From Uzair Ullah To Everyone : PIAIC169405\n",
    "09:37:58 From Asim sharif(PIAIC172797) To Everyone : PIAIC172797\n",
    "09:38:29 From Maha Ilyas 2874 To Everyone : PIAIC 177982\n",
    "09:41:08 From Syed Jawad [PIAIC185558] To Everyone : best practice\n",
    "09:42:15 From M.Qasim(Teacher) To Everyone : https://peps.python.org/pep-0008/\n",
    "09:43:32 From Noman Saleem khan PIAIC-131844 To Everyone : PIAIC-131844\n",
    "09:44:08 From Adnan Ul Haq (PIAIC-103786) To Everyone : PIAIC103786\n",
    "09:44:43 From kashif.parvez To Everyone : Kashif PIAIC101207\n",
    "09:45:45 From Sheeraz PIAIC 132123 To Everyone : PIAIC132123\n",
    "09:46:48 From Noman Ali PIAIC 180111 To Everyone : PIAIC180111\n",
    "09:48:18 From Ali Raza To Everyone : PIAIC62922\n",
    "09:50:32 From M ADNAN SAEED (PIAIC-174751) To Everyone : PIAIC174751\n",
    "09:52:28 From M ADNAN SAEED (PIAIC-174751) To M.Qasim(Teacher)(Privately) : AoA, Sir, kindly accept my emg. class leaving. Thanks\n",
    "09:53:03 From Muhammad Shahid-AIC005259 To Everyone : PIAIC005259\n",
    "09:53:17 From Salman Nayyer To Everyone : PIAIC180996\n",
    "10:01:58 From LITTLE SPARROW To Everyone : Sir additional k spell theek kr lijiye\n",
    "10:05:07 From Saeed To M.Qasim(Teacher)(Privately) : ctrl forward ki konsi key hai\n",
    "10:06:19 From PIAIC172478 To Everyone : PIAIC172478\n",
    "10:07:51 From M.Qasim(Teacher) To Everyone : https://github.com/adam-p/markdown-here/wiki/Markdown-Cheatsheet\n",
    "10:08:35 From Mehdi Abbas To Everyone : https://us06web.zoom.us/j/85906490886?pwd=VExtSG92UjRsakd5ejZtVWk3NEUvUT09\n",
    "10:08:52 From Ali Raza To Everyone : PIAIC62922\n",
    "10:09:15 From M. Noman Farooq To Everyone : BCC001845\n",
    "10:09:25 From MOHAMMAD JAVED To Everyone : SIR your voice is clear hay\n",
    "10:09:37 From Syed Jawad [PIAIC185558] To Everyone : voice a kha rhe h\n",
    "10:09:48 From khurshed To Everyone : no voice\n",
    "10:11:18 From ZIA (PIAIC125141) To Everyone : fine\n",
    "10:11:23 From MOHAMMAD JAVED To Everyone : yes sir\n",
    "10:14:16 From Kashif Khan 143001 To Everyone : PIAIC 143001\n",
    "10:14:29 From Amir Rashid To Everyone : ok\n",
    "10:15:36 From Muhammad Mehroz To Everyone : PIAIC131496\n",
    "10:17:27 From Abdul rafiu To Everyone : PIAIC164489\n",
    "10:17:30 From Muhammad Sadullah - PIAIC178950 To Everyone : PIAIC178950\n",
    "10:18:52 From PIAIC177535 To Everyone : PIAIC177535\n",
    "10:21:25 From PIAIC172478 To Everyone : PIAIC172478\n",
    "10:28:19 From Raashid To Everyone : PIAIC55486\n",
    "10:28:42 From MOHAMMAD JAVED To Everyone : self mean?\n",
    "10:28:46 From Yousaf-173795 To Everyone : PIAIC173795\n",
    "10:29:43 From Mohsin Naseer PIAIC68513 To Everyone : PIAIC68513\n",
    "10:30:11 From Zaki To Everyone : PIAIC 172541\n",
    "10:33:40 From Syed Jawad [PIAIC185558] To Everyone : PIAIC185558\n",
    "10:38:51 From Agha ALi PIAIC164763 To Everyone : PIAIC164763\n",
    "10:40:44 From Ali Raza To Everyone : PIAIC62922\n",
    "10:40:46 From Muhammad Sheraz-PIAIC68522 To Everyone : PIAIC68522\n",
    "10:40:50 From PIAIC172478 To Everyone : PIAIC172478\n",
    "10:40:53 From Syed PIAIC168703 To Everyone : PIAIC168703\n",
    "10:40:58 From Assad Mahmood (PIAIC179144) To Everyone : PIAIC179144\n",
    "10:40:58 From Moeed Masood PIAIC185253 To Everyone : PIAIC185253\n",
    "10:40:59 From Salman Nayyer To Everyone : PIAIC180996\n",
    "10:40:59 From Amna Liaqat PIAIC 133452 To Everyone : PIAIC133452\n",
    "10:41:00 From Taqwa Khaliq To Everyone : PIAIC_173701 Taqwa\n",
    "10:41:01 From (PIAIC-189416) Muhammad Murtaza Khan To Everyone : PIAIC189416\n",
    "10:41:01 From PIAIC172478 To Everyone : PIAIC172478\n",
    "10:41:02 From Saeed To Everyone : PIAIC131885\n",
    "10:41:02 From Usman Noor PIAIC-188401 To Everyone : PIAIC 188401\n",
    "10:41:02 From PIAIC149101 sana To Everyone : PIAIC149101\n",
    "10:41:03 From Muhammad Mehroz To Everyone : PIAIC131496\n",
    "10:41:03 From Muhammad Sheraz-PIAIC68522 To Everyone : PIAIC68522\n",
    "10:41:03 From Amir Rashid To Everyone : PIAIC107890\n",
    "10:41:04 From Samina-PIAIC52499 To Everyone : PIAIC52499\n",
    "10:41:04 From Zaki To Everyone : PIAIC 172541\n",
    "10:41:04 From Muhammad Mehroz To Everyone : PIAIC131496\n",
    "10:41:04 From Nadeem ali Jamro PIAIC166522 To Everyone : PIAIC166522\n",
    "10:41:05 From Syed Jawad [PIAIC185558] To Everyone : PIAIC185558\n",
    "10:41:05 From Assad Mahmood (PIAIC179144) To Everyone : PIAIC179144\n",
    "10:41:06 From Muhammad Sheraz-PIAIC68522 To Everyone : PIAIC68522\n",
    "10:41:06 From Maah Noor PIAIC168751 To Everyone : PIAIC168751\n",
    "10:41:06 From Muhammad Sadullah - PIAIC178950 To Everyone : PIAIC178950\n",
    "10:41:07 From Farhan-PIAIC186218 To Everyone : PIAIC186218\n",
    "10:41:07 From Zeeshan : PIAIC55300 To Everyone : PIAIC55300\n",
    "10:41:08 From Saeed To Everyone : PIAIC131885\n",
    "10:41:08 From Majid Naru PIAIC-187644 To Everyone : PIAIC187644\n",
    "10:41:08 From PIAIC183349 Muahhamd Waseem To Everyone : PIAIC183349\n",
    "10:41:09 From SHEHZAD PIAIC180057 To Everyone : PIAIC180057\n",
    "10:41:09 From fozia-shareen-piaic-165097 To Everyone : PIAIC 165097 Fozia\n",
    "10:41:09 From Talha Munir To Everyone : PIAIC173761\n",
    "10:41:10 From Syed Amir PIAIC128409 To Everyone : PIAIC128409\n",
    "10:41:10 From Hamza To Everyone : PIAIC173652\n",
    "10:41:11 From Yousaf-173795 To Everyone : PIAIC173795\n",
    "10:41:11 From Uzair Ullah To Everyone : PIAIC169405\n",
    "10:41:11 From Kashif To Everyone : PIAIC181638\n",
    "10:41:11 From Ali Asar To Everyone : PIAIC188720\n",
    "10:41:13 From Muhammad Sadullah - PIAIC178950 To Everyone : PIAIC178950\n",
    "10:41:13 From Homesaira mehmood To Everyone : PIAIC176439\n",
    "10:41:13 From Muhammad Sheraz-PIAIC68522 To Everyone : PIAIC68522\n",
    "10:41:14 From Sehrish Fatima To Everyone : PIAIC174229\n",
    "10:41:15 From PIAIC-99685 To Everyone : PIAIC-99685\n",
    "10:41:15 From Sadia To Everyone : Piaic180028\n",
    "10:41:16 From Amna Liaqat PIAIC 133452 To Everyone : PIAIC133452\n",
    "10:41:17 From Asif Rehman PIAIC93717 To Everyone : PIAIC93717\n",
    "10:41:17 From Muhammad Shahid-AIC005259 To Everyone : PIAIC005259\n",
    "10:41:18 From Muhammad Faizan To Everyone : piaic172328\n",
    "10:41:18 From Muhammad Furqan(PIAIC183270) To Everyone : PIAIC183270\n",
    "10:41:18 From Zeeshan : PIAIC55300 To Everyone : PIAIC55300\n",
    "10:41:18 From Muhammad Sheraz-PIAIC68522 To Everyone : PIAIC68522\n",
    "10:41:19 From MUHAMMAD USMAN MANZOOR To Everyone : PIAIC119347\n",
    "10:41:19 From Wardah(PIAIC172641) To Everyone : PIAIC172641\n",
    "10:41:19 From Aisha Siddiqua To Everyone : PIAIC181221\n",
    "10:41:20 From PIAIC149101 sana To Everyone : PIAIC149101\n",
    "10:41:20 From Mehdi Abbas To Everyone : PIAIC187382\n",
    "10:41:21 From MOHAMMAD JAVED To Everyone : piAIC185754\n",
    "10:41:21 From Muhammad Uzair-177637 To Everyone : PIAIC177637\n",
    "10:41:21 From vivo 1901 To Everyone : PIAIC74287\n",
    "10:41:21 From Muneeb(PIAIC173219) To Everyone : PIAIC173219\n",
    "10:41:22 From (PIAIC-189416) Muhammad Murtaza Khan To Everyone : PIAIC189416\n",
    "10:41:22 From Ashraf Makhdoom Syed To Everyone : PIAIC155482\n",
    "10:41:22 From Afrooz Alam (PIAIC89531) To Everyone : PIAIC89531\n",
    "10:41:22 From Shoaib Ahmed Khan To Everyone : PIAIC159833\n",
    "10:41:22 From Asim sharif(PIAIC172797) To Everyone : PIAIC172797\n",
    "10:41:23 From Salma Asif To Everyone : PIAIC176945\n",
    "10:41:23 From Muhammad Sheraz-PIAIC68522 To Everyone : PIAIC68522\n",
    "10:41:24 From Faisal Bashir To Everyone : PIAIC177802\n",
    "10:41:24 From Shahid PIAIC134239 To Everyone : PIAIC-134239\n",
    "10:41:24 From Muhammad Furqan(PIAIC183270) To Everyone : PIAIC183270\n",
    "10:41:25 From Afrooz Alam (PIAIC89531) To Everyone : PIAIC89531\n",
    "10:41:25 From Wajeeha Ayaz To Everyone : PIAIC 175646\n",
    "10:41:26 From Moattar Khanum(PIAIC170982) To Everyone : PIAIC170982\n",
    "10:41:27 From PIAIC-99685 To Everyone : PIAIC-99685\n",
    "10:41:27 From Shoaib PIAIC-178354 To Everyone : Shoaib PIAIC178354\n",
    "10:41:28 From Aneeq To Everyone : PIAIC172924\n",
    "10:41:29 From Nasrullah (PIAIC 180162) To Everyone : PIAIC180162\n",
    "10:41:29 From Muhammad’s iPhone To Everyone : PIAIC49583\n",
    "10:41:30 From Naeem Balagam To Everyone : IOT045587\n",
    "10:41:30 From Muhammad Faizan To Everyone : piaic172328\n",
    "10:41:31 From syed ibad ur rehman To Everyone : PIAIC166678\n",
    "10:41:31 From piaic 178547 To Everyone : PIAIC178547\n",
    "10:41:32 From Ashraf Makhdoom Syed To Everyone : PIAIC155482\n",
    "10:41:32 From Zeenat Zakir: Piaic 133802 To Everyone : PIAIC133802\n",
    "10:41:32 From Qadeer Ahmed - 163577 To Everyone : PIAIC163577\n",
    "10:41:33 From 187118-Muhammad  Imran Wali - To Everyone : PIAIC187118\n",
    "10:41:34 From Azhar Piaic179898 To Everyone : Azhar Piaic179898\n",
    "10:41:34 From Agha ALi PIAIC164763 To Everyone : PIAIC164763\n",
    "10:41:34 From Moattar Khanum(PIAIC170982) To Everyone : PIAIC170982\n",
    "10:41:34 From Neelum Javaid 0828716 To Everyone : PIAIC 172527\n",
    "10:41:34 From PIAIC177535 To Everyone : PIAIC177535\n",
    "10:41:36 From ZIA (PIAIC125141) To Everyone : PIAIC125141\n",
    "10:41:37 From HuzaifaTahir PIAIC60925 To Everyone : PIAIC60925\n",
    "10:41:37 From khurshed To Everyone : PIAIC157450\n",
    "10:41:38 From Muhammad’s iPhone To Everyone : PIAIC49583\n",
    "10:41:38 From Aisha Siddiqua To Everyone : PIAIC181221\n",
    "10:41:38 From Muhammad Furqan(PIAIC183270) To Everyone : PIAIC183270\n",
    "10:41:38 From syed ibad ur rehman To Everyone : PIAIC166678\n",
    "10:41:39 From MOHAMMAD JAVED To Everyone : PIAIC185754\n",
    "10:41:39 From Ali Asar To Everyone : PIAIC187258\n",
    "10:41:40 From Maha Ilyas 2874 To Everyone : PIAIC 177982\n",
    "10:41:41 From Asim sharif(PIAIC172797) To Everyone : PIAIC172797\n",
    "10:41:41 From Haseeb Iqbal -PIAIC 180144 To Everyone : PIAIC180144\n",
    "10:41:43 From Afnan 182978 To Everyone : piaic 182978\n",
    "10:41:46 From Usama Rehman To Everyone : PIAIC171408\n",
    "10:41:47 From Abdul rafiu To Everyone : PIAIC164489\n",
    "10:41:47 From Ali Raza To Everyone : PIAIC6222\n",
    "10:41:48 From Muhammad Sadullah - PIAIC178950 To Everyone : PIAIC178950\n",
    "10:41:50 From PIAIC188523 - Subhan Ahmed To Everyone : PIAIC188523\n",
    "10:41:51 From Sadia To Everyone : PIAIC180028\n",
    "10:41:57 From Ali Raza To Everyone : PIAIC62922\n",
    "10:41:57 From Adil Naveed PIAIC167854 To Everyone : PIAIC167854\n",
    "10:41:57 From MOHAMMAD JAVED To Everyone : PIAIC185754\n",
    "10:41:59 From Aisha Siddiqua To Everyone : PIAIC181221\n",
    "10:42:03 From Ali Azam-PIAIC66597 To Everyone : PIAIC66597\n",
    "10:42:06 From Adil Naveed PIAIC167854 To Everyone : PIAIC167854\n",
    "10:42:13 From Zeenat Zakir: Piaic 133802 To Everyone : PIAIC133802\n",
    "10:42:14 From Maaz-PIAIC182239 To Everyone : PIAIC182239\n",
    "10:42:14 From cz 3 To Everyone : PIAIC 125164\n",
    "10:42:20 From Ali Azam-PIAIC66597 To Everyone : PIAIC66597\n",
    "10:42:21 From Muhammad Sheraz-PIAIC68522 To Everyone : PIAIC68522\n",
    "10:42:26 From Neelum Javaid 0828716 To Everyone : PIAIC172527\n",
    "10:42:31 From Hasnain Munir To Everyone : PIAIC187272\n",
    "10:42:32 From Sehrish Fatima To Everyone : PIAIC174229\n",
    "10:42:37 From Hasnain Munir To Everyone : PIAIC-187272\n",
    "10:42:42 From Aamna waheed To Everyone : PIAIC 177022\n",
    "10:42:45 From Hassan Ahmed - PIAIC 180140 To Everyone : PIAIC180140\n",
    "10:43:07 From vivo 1901 To Everyone : PIAIC74287\n",
    "10:43:17 From Irtiza Khan [PIAIC 171375] To Everyone : PIAIC171375\n",
    "10:43:55 From Jawad Ahmed PIAIC96020 To Everyone : piaic 96020\n",
    "10:43:56 From Humera Naz To Everyone : piaic 173431\n",
    "10:43:58 From Assad Mahmood (PIAIC179144) To Everyone : PIAIC179144\n",
    "10:44:17 From Samsung SM-A325F To Everyone : PIAIC178248\n",
    "10:44:22 From Shehzad Anjum 185122 To Everyone : PIAIC185122\n",
    "10:44:26 From Shehzad Anjum 185122 To Everyone : sorry having some issue\n",
    "10:44:28 From Ali Raza To Everyone : PIAIC62922\n",
    "10:44:28 From Musa Abkr To Everyone : PIAIC116498\n",
    "10:44:31 From Jawad Ahmed PIAIC96020 To Everyone : piaic96020\n",
    "10:44:39 From PIAIC172478 To Everyone : PIAIC172478\n",
    "10:44:42 From Zeeshan : PIAIC55300 To Everyone : PIAIC55300\n",
    "10:44:45 From Mohsin Naseer PIAIC68513 To Everyone : PIAIC68513\n",
    "10:45:07 From Irfan Ahmed - (PIAIC178547) To Everyone : PIAIC178547\n",
    "10:45:10 From Imran Khalid To Everyone : PIAIC185636\n",
    "10:45:12 From Dr. Engr. Bhagwan Das To Everyone : PIAIC96879\n",
    "\"\"\"\n",
    "import re\n",
    "re.findall(r'10:45:10 From(.*) To Everyone : .*(\\d{5,6})', x)"
   ]
  },
  {
   "cell_type": "code",
   "execution_count": 132,
   "id": "0e53f559",
   "metadata": {},
   "outputs": [
    {
     "data": {
      "text/plain": [
       "[(' junaid ali', '74125'),\n",
       " (' Shoaib PIAIC-178354', '78354'),\n",
       " (' Nasrullah (PIAIC 180162)', '80162'),\n",
       " (' Usman Noor PIAIC-188401', '88401'),\n",
       " (' Sadia', '80028'),\n",
       " (' Mohammad Javed', '85754'),\n",
       " (' PIAIC172478', '72478'),\n",
       " (' Amir Rashid', '07890'),\n",
       " (' Muhammad Furqan(PIAIC183270)', '83270'),\n",
       " (' Gulshan Ali', '76719'),\n",
       " (' Syed Amir PIAIC128409', '28409'),\n",
       " (' Humera Naz', '73431'),\n",
       " (' Saeed', '31885'),\n",
       " (' PIAIC177535', '77535'),\n",
       " (' Faizan Muhammad', '89427'),\n",
       " (' Haider Ali-PIAIC179345', '79345'),\n",
       " (' Syed Jawad [PIAIC185558]', '85558'),\n",
       " (' Muhammad Sadullah - PIAIC178950', '78950'),\n",
       " (' Mohammad Ali Asif Khan - PIAIC-57947', '57947'),\n",
       " (' SHEHZAD PIAIC180057', '80057'),\n",
       " (' ALI ISMAIL HUSSAIN', '48687'),\n",
       " (' Shahid PIAIC134239', '34239'),\n",
       " (' Ihsan iphone', '83444'),\n",
       " (' PIAIC183349 Muahhamd Waseem', '83349'),\n",
       " (' RIMSHA KHAN', '74812'),\n",
       " (' PIAIC188523 - Subhan Ahmed', '88523'),\n",
       " (' Moattar Khanum(PIAIC170982)', '70982'),\n",
       " (' Zeeshan Asim : PIAIC55300', '55300'),\n",
       " (' Neelum Javaid PIAIC 172527', '72527'),\n",
       " (' Amna Liaqat PIAIC 133452', '33452'),\n",
       " (' A.Rahman PIAIC150034', '50034'),\n",
       " (' Ali Raza', '62922'),\n",
       " (' Irtiza Khan [PIAIC 171375]', '71375'),\n",
       " (' Muhammad Farhan Ahsan PIAIC-168894', '68894'),\n",
       " (' Muhammad Owais PIAIC139392', '39392'),\n",
       " (' PIAIC149101 sana', '49101'),\n",
       " (' vivo 1901', '74287'),\n",
       " (' Ali Azam-PIAIC66597', '66597'),\n",
       " (' Samina-PIAIC52499', '52499'),\n",
       " (' MOHAMMAD JAVED', '85754'),\n",
       " (' ABDUL BASIT', '59115'),\n",
       " (' Muhammad Owais PIAIC139392', '39392'),\n",
       " (' Samsung SM-A325F', '78248'),\n",
       " (' Maah Noor PIAIC168751', '68751'),\n",
       " (' Kainat PIAIC182352', '82352'),\n",
       " (' Syed PIAIC168703', '68703'),\n",
       " (' Muhammad Sheraz-PIAIC68522', '68522'),\n",
       " (' MUHAMMAD USMAN MANZOOR', '19347'),\n",
       " (' Mohammad Ali Asif Khan - PIAIC-57947', '57947'),\n",
       " (' Asif Rehman PIAIC93717', '93717'),\n",
       " (' Uzair Ullah', '69405'),\n",
       " (' Asim sharif(PIAIC172797)', '72797'),\n",
       " (' Maha Ilyas 2874', '77982'),\n",
       " (' Noman Saleem khan PIAIC-131844', '31844'),\n",
       " (' Adnan Ul Haq (PIAIC-103786)', '03786'),\n",
       " (' kashif.parvez', '01207'),\n",
       " (' Sheeraz PIAIC 132123', '32123'),\n",
       " (' Noman Ali PIAIC 180111', '80111'),\n",
       " (' Ali Raza', '62922'),\n",
       " (' M ADNAN SAEED (PIAIC-174751)', '74751'),\n",
       " (' Muhammad Shahid-AIC005259', '05259'),\n",
       " (' Salman Nayyer', '80996'),\n",
       " (' PIAIC172478', '72478'),\n",
       " (' Mehdi Abbas', '90886'),\n",
       " (' Ali Raza', '62922'),\n",
       " (' M. Noman Farooq', '01845'),\n",
       " (' Kashif Khan 143001', '43001'),\n",
       " (' Muhammad Mehroz', '31496'),\n",
       " (' Abdul rafiu', '64489'),\n",
       " (' Muhammad Sadullah - PIAIC178950', '78950'),\n",
       " (' PIAIC177535', '77535'),\n",
       " (' PIAIC172478', '72478'),\n",
       " (' Raashid', '55486'),\n",
       " (' Yousaf-173795', '73795'),\n",
       " (' Mohsin Naseer PIAIC68513', '68513'),\n",
       " (' Zaki', '72541'),\n",
       " (' Syed Jawad [PIAIC185558]', '85558'),\n",
       " (' Agha ALi PIAIC164763', '64763'),\n",
       " (' Ali Raza', '62922'),\n",
       " (' Muhammad Sheraz-PIAIC68522', '68522'),\n",
       " (' PIAIC172478', '72478'),\n",
       " (' Syed PIAIC168703', '68703'),\n",
       " (' Assad Mahmood (PIAIC179144)', '79144'),\n",
       " (' Moeed Masood PIAIC185253', '85253'),\n",
       " (' Salman Nayyer', '80996'),\n",
       " (' Amna Liaqat PIAIC 133452', '33452'),\n",
       " (' Taqwa Khaliq', '73701'),\n",
       " (' (PIAIC-189416) Muhammad Murtaza Khan', '89416'),\n",
       " (' PIAIC172478', '72478'),\n",
       " (' Saeed', '31885'),\n",
       " (' Usman Noor PIAIC-188401', '88401'),\n",
       " (' PIAIC149101 sana', '49101'),\n",
       " (' Muhammad Mehroz', '31496'),\n",
       " (' Muhammad Sheraz-PIAIC68522', '68522'),\n",
       " (' Amir Rashid', '07890'),\n",
       " (' Samina-PIAIC52499', '52499'),\n",
       " (' Zaki', '72541'),\n",
       " (' Muhammad Mehroz', '31496'),\n",
       " (' Nadeem ali Jamro PIAIC166522', '66522'),\n",
       " (' Syed Jawad [PIAIC185558]', '85558'),\n",
       " (' Assad Mahmood (PIAIC179144)', '79144'),\n",
       " (' Muhammad Sheraz-PIAIC68522', '68522'),\n",
       " (' Maah Noor PIAIC168751', '68751'),\n",
       " (' Muhammad Sadullah - PIAIC178950', '78950'),\n",
       " (' Farhan-PIAIC186218', '86218'),\n",
       " (' Zeeshan : PIAIC55300', '55300'),\n",
       " (' Saeed', '31885'),\n",
       " (' Majid Naru PIAIC-187644', '87644'),\n",
       " (' PIAIC183349 Muahhamd Waseem', '83349'),\n",
       " (' SHEHZAD PIAIC180057', '80057'),\n",
       " (' fozia-shareen-piaic-165097', '65097'),\n",
       " (' Talha Munir', '73761'),\n",
       " (' Syed Amir PIAIC128409', '28409'),\n",
       " (' Hamza', '73652'),\n",
       " (' Yousaf-173795', '73795'),\n",
       " (' Uzair Ullah', '69405'),\n",
       " (' Kashif', '81638'),\n",
       " (' Ali Asar', '88720'),\n",
       " (' Muhammad Sadullah - PIAIC178950', '78950'),\n",
       " (' Homesaira mehmood', '76439'),\n",
       " (' Muhammad Sheraz-PIAIC68522', '68522'),\n",
       " (' Sehrish Fatima', '74229'),\n",
       " (' PIAIC-99685', '99685'),\n",
       " (' Sadia', '80028'),\n",
       " (' Amna Liaqat PIAIC 133452', '33452'),\n",
       " (' Asif Rehman PIAIC93717', '93717'),\n",
       " (' Muhammad Shahid-AIC005259', '05259'),\n",
       " (' Muhammad Faizan', '72328'),\n",
       " (' Muhammad Furqan(PIAIC183270)', '83270'),\n",
       " (' Zeeshan : PIAIC55300', '55300'),\n",
       " (' Muhammad Sheraz-PIAIC68522', '68522'),\n",
       " (' MUHAMMAD USMAN MANZOOR', '19347'),\n",
       " (' Wardah(PIAIC172641)', '72641'),\n",
       " (' Aisha Siddiqua', '81221'),\n",
       " (' PIAIC149101 sana', '49101'),\n",
       " (' Mehdi Abbas', '87382'),\n",
       " (' MOHAMMAD JAVED', '85754'),\n",
       " (' Muhammad Uzair-177637', '77637'),\n",
       " (' vivo 1901', '74287'),\n",
       " (' Muneeb(PIAIC173219)', '73219'),\n",
       " (' (PIAIC-189416) Muhammad Murtaza Khan', '89416'),\n",
       " (' Ashraf Makhdoom Syed', '55482'),\n",
       " (' Afrooz Alam (PIAIC89531)', '89531'),\n",
       " (' Shoaib Ahmed Khan', '59833'),\n",
       " (' Asim sharif(PIAIC172797)', '72797'),\n",
       " (' Salma Asif', '76945'),\n",
       " (' Muhammad Sheraz-PIAIC68522', '68522'),\n",
       " (' Faisal Bashir', '77802'),\n",
       " (' Shahid PIAIC134239', '34239'),\n",
       " (' Muhammad Furqan(PIAIC183270)', '83270'),\n",
       " (' Afrooz Alam (PIAIC89531)', '89531'),\n",
       " (' Wajeeha Ayaz', '75646'),\n",
       " (' Moattar Khanum(PIAIC170982)', '70982'),\n",
       " (' PIAIC-99685', '99685'),\n",
       " (' Shoaib PIAIC-178354', '78354'),\n",
       " (' Aneeq', '72924'),\n",
       " (' Nasrullah (PIAIC 180162)', '80162'),\n",
       " (' Muhammad’s iPhone', '49583'),\n",
       " (' Naeem Balagam', '45587'),\n",
       " (' Muhammad Faizan', '72328'),\n",
       " (' syed ibad ur rehman', '66678'),\n",
       " (' piaic 178547', '78547'),\n",
       " (' Ashraf Makhdoom Syed', '55482'),\n",
       " (' Zeenat Zakir: Piaic 133802', '33802'),\n",
       " (' Qadeer Ahmed - 163577', '63577'),\n",
       " (' 187118-Muhammad  Imran Wali -', '87118'),\n",
       " (' Azhar Piaic179898', '79898'),\n",
       " (' Agha ALi PIAIC164763', '64763'),\n",
       " (' Moattar Khanum(PIAIC170982)', '70982'),\n",
       " (' Neelum Javaid 0828716', '72527'),\n",
       " (' PIAIC177535', '77535'),\n",
       " (' ZIA (PIAIC125141)', '25141'),\n",
       " (' HuzaifaTahir PIAIC60925', '60925'),\n",
       " (' khurshed', '57450'),\n",
       " (' Muhammad’s iPhone', '49583'),\n",
       " (' Aisha Siddiqua', '81221'),\n",
       " (' Muhammad Furqan(PIAIC183270)', '83270'),\n",
       " (' syed ibad ur rehman', '66678'),\n",
       " (' MOHAMMAD JAVED', '85754'),\n",
       " (' Ali Asar', '87258'),\n",
       " (' Maha Ilyas 2874', '77982'),\n",
       " (' Asim sharif(PIAIC172797)', '72797'),\n",
       " (' Haseeb Iqbal -PIAIC 180144', '80144'),\n",
       " (' Afnan 182978', '82978'),\n",
       " (' Usama Rehman', '71408'),\n",
       " (' Abdul rafiu', '64489'),\n",
       " (' Muhammad Sadullah - PIAIC178950', '78950'),\n",
       " (' PIAIC188523 - Subhan Ahmed', '88523'),\n",
       " (' Sadia', '80028'),\n",
       " (' Ali Raza', '62922'),\n",
       " (' Adil Naveed PIAIC167854', '67854'),\n",
       " (' MOHAMMAD JAVED', '85754'),\n",
       " (' Aisha Siddiqua', '81221'),\n",
       " (' Ali Azam-PIAIC66597', '66597'),\n",
       " (' Adil Naveed PIAIC167854', '67854'),\n",
       " (' Zeenat Zakir: Piaic 133802', '33802'),\n",
       " (' Maaz-PIAIC182239', '82239'),\n",
       " (' cz 3', '25164'),\n",
       " (' Ali Azam-PIAIC66597', '66597'),\n",
       " (' Muhammad Sheraz-PIAIC68522', '68522'),\n",
       " (' Neelum Javaid 0828716', '72527'),\n",
       " (' Hasnain Munir', '87272'),\n",
       " (' Sehrish Fatima', '74229'),\n",
       " (' Hasnain Munir', '87272'),\n",
       " (' Aamna waheed', '77022'),\n",
       " (' Hassan Ahmed - PIAIC 180140', '80140'),\n",
       " (' vivo 1901', '74287'),\n",
       " (' Irtiza Khan [PIAIC 171375]', '71375'),\n",
       " (' Jawad Ahmed PIAIC96020', '96020'),\n",
       " (' Humera Naz', '73431'),\n",
       " (' Assad Mahmood (PIAIC179144)', '79144'),\n",
       " (' Samsung SM-A325F', '78248'),\n",
       " (' Shehzad Anjum 185122', '85122'),\n",
       " (' Ali Raza', '62922'),\n",
       " (' Musa Abkr', '16498'),\n",
       " (' Jawad Ahmed PIAIC96020', '96020'),\n",
       " (' PIAIC172478', '72478'),\n",
       " (' Zeeshan : PIAIC55300', '55300'),\n",
       " (' Mohsin Naseer PIAIC68513', '68513'),\n",
       " (' Irfan Ahmed - (PIAIC178547)', '78547'),\n",
       " (' Imran Khalid', '85636'),\n",
       " (' Dr. Engr. Bhagwan Das', '96879')]"
      ]
     },
     "execution_count": 132,
     "metadata": {},
     "output_type": "execute_result"
    }
   ],
   "source": [
    "import re\n",
    "re.findall(r'From(.*) To Everyone : .*(\\d{5,6})', x)"
   ]
  },
  {
   "cell_type": "code",
   "execution_count": 135,
   "id": "bf2782e7",
   "metadata": {},
   "outputs": [
    {
     "data": {
      "text/plain": [
       "['177982',\n",
       " '66597',\n",
       " '177637',\n",
       " '175646',\n",
       " '173431',\n",
       " '59115',\n",
       " '172527',\n",
       " '188720',\n",
       " '150034',\n",
       " '143001',\n",
       " '189427',\n",
       " '155482',\n",
       " '164489',\n",
       " '172478',\n",
       " '188523',\n",
       " '52499',\n",
       " '89531',\n",
       " '174751',\n",
       " '168703',\n",
       " '174229',\n",
       " '180111',\n",
       " '60925',\n",
       " '62922',\n",
       " '189416',\n",
       " '168751',\n",
       " '005259',\n",
       " '125164',\n",
       " '173701',\n",
       " '178248',\n",
       " '177022',\n",
       " '131496',\n",
       " '183444',\n",
       " '57947',\n",
       " '173761',\n",
       " '183270',\n",
       " '171375',\n",
       " '177802',\n",
       " '180144',\n",
       " '181638',\n",
       " '187118',\n",
       " '99685',\n",
       " '131844',\n",
       " '048687',\n",
       " '159833',\n",
       " '49583',\n",
       " '185754',\n",
       " '187644',\n",
       " '133452',\n",
       " '178950',\n",
       " '172797',\n",
       " '139392',\n",
       " '182978',\n",
       " '172328',\n",
       " '166678',\n",
       " '178354',\n",
       " '163577',\n",
       " '185122',\n",
       " '173652',\n",
       " '176719',\n",
       " '180140',\n",
       " '132123',\n",
       " '68522',\n",
       " '164763',\n",
       " '178547',\n",
       " '179898',\n",
       " '101207',\n",
       " '180028',\n",
       " '165097',\n",
       " '55486',\n",
       " '174812',\n",
       " '180057',\n",
       " '168894',\n",
       " '180162',\n",
       " '68513',\n",
       " '172541',\n",
       " '167854',\n",
       " '96879',\n",
       " '490886',\n",
       " '187382',\n",
       " '182239',\n",
       " '172924',\n",
       " '128409',\n",
       " '183730',\n",
       " '116498',\n",
       " '74287',\n",
       " '171408',\n",
       " '103786',\n",
       " '045587',\n",
       " '96020',\n",
       " '149101',\n",
       " '182352',\n",
       " '185253',\n",
       " '125141',\n",
       " '133802',\n",
       " '55300',\n",
       " '187272',\n",
       " '107890',\n",
       " '180996',\n",
       " '181221',\n",
       " '173219',\n",
       " '172641',\n",
       " '166522',\n",
       " '174125',\n",
       " '828716',\n",
       " '134239',\n",
       " '176439',\n",
       " '185636',\n",
       " '131885',\n",
       " '157450',\n",
       " '185558',\n",
       " '93717',\n",
       " '183349',\n",
       " '176945',\n",
       " '179345',\n",
       " '119347',\n",
       " '186218',\n",
       " '188401',\n",
       " '173795',\n",
       " '170982',\n",
       " '187258',\n",
       " '169405',\n",
       " '177535',\n",
       " '179144',\n",
       " '001845']"
      ]
     },
     "execution_count": 135,
     "metadata": {},
     "output_type": "execute_result"
    }
   ],
   "source": [
    "import re\n",
    "list(set(re.findall(r'(\\d{5,6})\\b', x)))"
   ]
  },
  {
   "cell_type": "code",
   "execution_count": 136,
   "id": "5ebd87ea",
   "metadata": {},
   "outputs": [
    {
     "name": "stdout",
     "output_type": "stream",
     "text": [
      "124\n"
     ]
    }
   ],
   "source": [
    "import re\n",
    "numbers=list(set(re.findall(r'(\\d{5,6})\\b', x)))\n",
    "print(len(numbers))"
   ]
  },
  {
   "cell_type": "code",
   "execution_count": null,
   "id": "947e91cc",
   "metadata": {},
   "outputs": [],
   "source": []
  }
 ],
 "metadata": {
  "kernelspec": {
   "display_name": "Python 3 (ipykernel)",
   "language": "python",
   "name": "python3"
  },
  "language_info": {
   "codemirror_mode": {
    "name": "ipython",
    "version": 3
   },
   "file_extension": ".py",
   "mimetype": "text/x-python",
   "name": "python",
   "nbconvert_exporter": "python",
   "pygments_lexer": "ipython3",
   "version": "3.9.12"
  }
 },
 "nbformat": 4,
 "nbformat_minor": 5
}
