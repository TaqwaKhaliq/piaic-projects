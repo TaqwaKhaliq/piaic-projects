{
 "cells": [
  {
   "cell_type": "markdown",
   "id": "1943a75e",
   "metadata": {},
   "source": [
    "# Error Types\n",
    "* Compile time error\n",
    "    * during coding\n",
    "* Logical Error\n",
    "     * bussiness logic write wrong\n",
    "* Run Time Error\n",
    "    * live production applications errors"
   ]
  },
  {
   "cell_type": "code",
   "execution_count": 8,
   "id": "b7d733bd",
   "metadata": {},
   "outputs": [
    {
     "ename": "IndexError",
     "evalue": "list index out of range",
     "output_type": "error",
     "traceback": [
      "\u001b[1;31m---------------------------------------------------------------------------\u001b[0m",
      "\u001b[1;31mIndexError\u001b[0m                                Traceback (most recent call last)",
      "Input \u001b[1;32mIn [8]\u001b[0m, in \u001b[0;36m<cell line: 2>\u001b[1;34m()\u001b[0m\n\u001b[0;32m      1\u001b[0m l \u001b[38;5;241m=\u001b[39m [\u001b[38;5;241m1\u001b[39m,\u001b[38;5;241m2\u001b[39m]\n\u001b[1;32m----> 2\u001b[0m \u001b[43ml\u001b[49m\u001b[43m[\u001b[49m\u001b[38;5;241;43m7\u001b[39;49m\u001b[43m]\u001b[49m\n",
      "\u001b[1;31mIndexError\u001b[0m: list index out of range"
     ]
    }
   ],
   "source": [
    "l = [1,2]\n",
    "l[7]# try to access index 7 value"
   ]
  },
  {
   "cell_type": "code",
   "execution_count": 9,
   "id": "03c60b40",
   "metadata": {},
   "outputs": [
    {
     "data": {
      "text/plain": [
       "1"
      ]
     },
     "execution_count": 9,
     "metadata": {},
     "output_type": "execute_result"
    }
   ],
   "source": [
    "l = [1,2]\n",
    "l[0]"
   ]
  },
  {
   "cell_type": "code",
   "execution_count": 26,
   "id": "5b8d20aa",
   "metadata": {},
   "outputs": [
    {
     "data": {
      "text/plain": [
       "14"
      ]
     },
     "execution_count": 26,
     "metadata": {},
     "output_type": "execute_result"
    }
   ],
   "source": [
    "def my_sum(x,y):\n",
    "    return x + x # write wrong logic\n",
    "my_sum(7,9) # We can resolve this error through testing\n",
    "#The answer should be 13 but it shows 14 therefore it is logic  x+x isnt correct"
   ]
  },
  {
   "cell_type": "code",
   "execution_count": 12,
   "id": "24b42e11",
   "metadata": {},
   "outputs": [
    {
     "data": {
      "text/plain": [
       "16"
      ]
     },
     "execution_count": 12,
     "metadata": {},
     "output_type": "execute_result"
    }
   ],
   "source": [
    "def my_sum(x,y):\n",
    "    return x + y # write wrong logic\n",
    "\n",
    "my_sum(7,9) # We can resolve this error through testing\n"
   ]
  },
  {
   "cell_type": "code",
   "execution_count": 13,
   "id": "630f16b2",
   "metadata": {},
   "outputs": [
    {
     "data": {
      "text/plain": [
       "1440000"
      ]
     },
     "execution_count": 13,
     "metadata": {},
     "output_type": "execute_result"
    }
   ],
   "source": [
    "1000*60*24"
   ]
  },
  {
   "cell_type": "code",
   "execution_count": 27,
   "id": "bdab545d",
   "metadata": {},
   "outputs": [
    {
     "data": {
      "text/plain": [
       "120000"
      ]
     },
     "execution_count": 27,
     "metadata": {},
     "output_type": "execute_result"
    }
   ],
   "source": [
    "1000*60*2"
   ]
  },
  {
   "cell_type": "markdown",
   "id": "08a13f2f",
   "metadata": {},
   "source": [
    "# Some Examples Of Errors"
   ]
  },
  {
   "cell_type": "code",
   "execution_count": 14,
   "id": "25ce0c3f",
   "metadata": {},
   "outputs": [
    {
     "name": "stdout",
     "output_type": "stream",
     "text": [
      "line1\n",
      "line2\n"
     ]
    },
    {
     "ename": "NameError",
     "evalue": "name 'abc' is not defined",
     "output_type": "error",
     "traceback": [
      "\u001b[1;31m---------------------------------------------------------------------------\u001b[0m",
      "\u001b[1;31mNameError\u001b[0m                                 Traceback (most recent call last)",
      "Input \u001b[1;32mIn [14]\u001b[0m, in \u001b[0;36m<cell line: 3>\u001b[1;34m()\u001b[0m\n\u001b[0;32m      1\u001b[0m \u001b[38;5;28mprint\u001b[39m(\u001b[38;5;124m\"\u001b[39m\u001b[38;5;124mline1\u001b[39m\u001b[38;5;124m\"\u001b[39m)\n\u001b[0;32m      2\u001b[0m \u001b[38;5;28mprint\u001b[39m(\u001b[38;5;124m\"\u001b[39m\u001b[38;5;124mline2\u001b[39m\u001b[38;5;124m\"\u001b[39m)\n\u001b[1;32m----> 3\u001b[0m \u001b[38;5;28mprint\u001b[39m(\u001b[43mabc\u001b[49m)\n\u001b[0;32m      4\u001b[0m \u001b[38;5;28mprint\u001b[39m(\u001b[38;5;124m\"\u001b[39m\u001b[38;5;124mLine4\u001b[39m\u001b[38;5;124m\"\u001b[39m)\n\u001b[0;32m      5\u001b[0m \u001b[38;5;28mprint\u001b[39m(\u001b[38;5;124m\"\u001b[39m\u001b[38;5;124mLine5\u001b[39m\u001b[38;5;124m\"\u001b[39m)\n",
      "\u001b[1;31mNameError\u001b[0m: name 'abc' is not defined"
     ]
    }
   ],
   "source": [
    "print(\"line1\")\n",
    "print(\"line2\")\n",
    "print(abc)   #IT DOESNT EXECUTE FURTHUR WILL FIRST RESOLVE THIS ERROR\n",
    "print(\"Line4\")\n",
    "print(\"Line5\")\n"
   ]
  },
  {
   "cell_type": "code",
   "execution_count": 15,
   "id": "ebd16ce8",
   "metadata": {},
   "outputs": [
    {
     "ename": "ZeroDivisionError",
     "evalue": "division by zero",
     "output_type": "error",
     "traceback": [
      "\u001b[1;31m---------------------------------------------------------------------------\u001b[0m",
      "\u001b[1;31mZeroDivisionError\u001b[0m                         Traceback (most recent call last)",
      "Input \u001b[1;32mIn [15]\u001b[0m, in \u001b[0;36m<cell line: 3>\u001b[1;34m()\u001b[0m\n\u001b[0;32m      1\u001b[0m a \u001b[38;5;241m=\u001b[39m \u001b[38;5;241m7\u001b[39m\n\u001b[0;32m      2\u001b[0m b \u001b[38;5;241m=\u001b[39m \u001b[38;5;241m0\u001b[39m\n\u001b[1;32m----> 3\u001b[0m \u001b[38;5;28mprint\u001b[39m(\u001b[43ma\u001b[49m\u001b[43m \u001b[49m\u001b[38;5;241;43m/\u001b[39;49m\u001b[43m \u001b[49m\u001b[43mb\u001b[49m)\n\u001b[0;32m      4\u001b[0m \u001b[38;5;28mprint\u001b[39m(\u001b[38;5;124m\"\u001b[39m\u001b[38;5;124mPakistan\u001b[39m\u001b[38;5;124m\"\u001b[39m)\n",
      "\u001b[1;31mZeroDivisionError\u001b[0m: division by zero"
     ]
    }
   ],
   "source": [
    "a = 7\n",
    "b = 0\n",
    "print(a / b)\n",
    "print(\"Pakistan\")"
   ]
  },
  {
   "cell_type": "code",
   "execution_count": 16,
   "id": "8e4bcc1d",
   "metadata": {},
   "outputs": [
    {
     "ename": "TypeError",
     "evalue": "unsupported operand type(s) for +: 'int' and 'str'",
     "output_type": "error",
     "traceback": [
      "\u001b[1;31m---------------------------------------------------------------------------\u001b[0m",
      "\u001b[1;31mTypeError\u001b[0m                                 Traceback (most recent call last)",
      "Input \u001b[1;32mIn [16]\u001b[0m, in \u001b[0;36m<cell line: 1>\u001b[1;34m()\u001b[0m\n\u001b[1;32m----> 1\u001b[0m \u001b[38;5;241;43m2\u001b[39;49m\u001b[43m \u001b[49m\u001b[38;5;241;43m+\u001b[39;49m\u001b[43m \u001b[49m\u001b[38;5;124;43m\"\u001b[39;49m\u001b[38;5;124;43mpakistan\u001b[39;49m\u001b[38;5;124;43m\"\u001b[39;49m\n",
      "\u001b[1;31mTypeError\u001b[0m: unsupported operand type(s) for +: 'int' and 'str'"
     ]
    }
   ],
   "source": [
    "2 + \"pakistan\""
   ]
  },
  {
   "cell_type": "code",
   "execution_count": 17,
   "id": "6a9a0f17",
   "metadata": {},
   "outputs": [
    {
     "ename": "TypeError",
     "evalue": "unsupported operand type(s) for +: 'int' and 'tuple'",
     "output_type": "error",
     "traceback": [
      "\u001b[1;31m---------------------------------------------------------------------------\u001b[0m",
      "\u001b[1;31mTypeError\u001b[0m                                 Traceback (most recent call last)",
      "Input \u001b[1;32mIn [17]\u001b[0m, in \u001b[0;36m<cell line: 1>\u001b[1;34m()\u001b[0m\n\u001b[1;32m----> 1\u001b[0m \u001b[38;5;241;43m2\u001b[39;49m\u001b[43m \u001b[49m\u001b[38;5;241;43m+\u001b[39;49m\u001b[43m \u001b[49m\u001b[43m(\u001b[49m\u001b[38;5;241;43m2\u001b[39;49m\u001b[43m,\u001b[49m\u001b[38;5;241;43m3\u001b[39;49m\u001b[43m,\u001b[49m\u001b[38;5;241;43m4\u001b[39;49m\u001b[43m)\u001b[49m\n",
      "\u001b[1;31mTypeError\u001b[0m: unsupported operand type(s) for +: 'int' and 'tuple'"
     ]
    }
   ],
   "source": [
    "2 + (2,3,4)"
   ]
  },
  {
   "cell_type": "code",
   "execution_count": 18,
   "id": "8f70630d",
   "metadata": {},
   "outputs": [
    {
     "ename": "TypeError",
     "evalue": "unsupported operand type(s) for +: 'int' and 'list'",
     "output_type": "error",
     "traceback": [
      "\u001b[1;31m---------------------------------------------------------------------------\u001b[0m",
      "\u001b[1;31mTypeError\u001b[0m                                 Traceback (most recent call last)",
      "Input \u001b[1;32mIn [18]\u001b[0m, in \u001b[0;36m<cell line: 1>\u001b[1;34m()\u001b[0m\n\u001b[1;32m----> 1\u001b[0m \u001b[38;5;241;43m2\u001b[39;49m\u001b[43m \u001b[49m\u001b[38;5;241;43m+\u001b[39;49m\u001b[43m \u001b[49m\u001b[43m[\u001b[49m\u001b[38;5;241;43m1\u001b[39;49m\u001b[43m,\u001b[49m\u001b[38;5;241;43m2\u001b[39;49m\u001b[43m,\u001b[49m\u001b[38;5;241;43m3\u001b[39;49m\u001b[43m]\u001b[49m\n",
      "\u001b[1;31mTypeError\u001b[0m: unsupported operand type(s) for +: 'int' and 'list'"
     ]
    }
   ],
   "source": [
    "2 + [1,2,3]"
   ]
  },
  {
   "cell_type": "code",
   "execution_count": 28,
   "id": "1c60e1c6",
   "metadata": {},
   "outputs": [
    {
     "data": {
      "text/plain": [
       "[2, 2, 3, 2, 2, 3]"
      ]
     },
     "execution_count": 28,
     "metadata": {},
     "output_type": "execute_result"
    }
   ],
   "source": [
    "2*[2,2,3]"
   ]
  },
  {
   "cell_type": "code",
   "execution_count": 19,
   "id": "62d89a09",
   "metadata": {},
   "outputs": [
    {
     "ename": "ValueError",
     "evalue": "invalid literal for int() with base 10: '7.2'",
     "output_type": "error",
     "traceback": [
      "\u001b[1;31m---------------------------------------------------------------------------\u001b[0m",
      "\u001b[1;31mValueError\u001b[0m                                Traceback (most recent call last)",
      "Input \u001b[1;32mIn [19]\u001b[0m, in \u001b[0;36m<cell line: 1>\u001b[1;34m()\u001b[0m\n\u001b[1;32m----> 1\u001b[0m \u001b[38;5;28;43mint\u001b[39;49m\u001b[43m(\u001b[49m\u001b[38;5;124;43m\"\u001b[39;49m\u001b[38;5;124;43m7.2\u001b[39;49m\u001b[38;5;124;43m\"\u001b[39;49m\u001b[43m)\u001b[49m\n",
      "\u001b[1;31mValueError\u001b[0m: invalid literal for int() with base 10: '7.2'"
     ]
    }
   ],
   "source": [
    "int(\"7.2\")  #Cannot be converted to integer directly"
   ]
  },
  {
   "cell_type": "code",
   "execution_count": 20,
   "id": "c202f9aa",
   "metadata": {},
   "outputs": [
    {
     "data": {
      "text/plain": [
       "7"
      ]
     },
     "execution_count": 20,
     "metadata": {},
     "output_type": "execute_result"
    }
   ],
   "source": [
    "int(float(\"7.2\"))"
   ]
  },
  {
   "cell_type": "code",
   "execution_count": 21,
   "id": "ab42addd",
   "metadata": {},
   "outputs": [
    {
     "ename": "ValueError",
     "evalue": "invalid literal for int() with base 10: 'a'",
     "output_type": "error",
     "traceback": [
      "\u001b[1;31m---------------------------------------------------------------------------\u001b[0m",
      "\u001b[1;31mValueError\u001b[0m                                Traceback (most recent call last)",
      "Input \u001b[1;32mIn [21]\u001b[0m, in \u001b[0;36m<cell line: 1>\u001b[1;34m()\u001b[0m\n\u001b[1;32m----> 1\u001b[0m \u001b[38;5;28;43mint\u001b[39;49m\u001b[43m(\u001b[49m\u001b[38;5;124;43m\"\u001b[39;49m\u001b[38;5;124;43ma\u001b[39;49m\u001b[38;5;124;43m\"\u001b[39;49m\u001b[43m)\u001b[49m\n",
      "\u001b[1;31mValueError\u001b[0m: invalid literal for int() with base 10: 'a'"
     ]
    }
   ],
   "source": [
    "int(\"a\")"
   ]
  },
  {
   "cell_type": "code",
   "execution_count": 22,
   "id": "9781673b",
   "metadata": {},
   "outputs": [
    {
     "ename": "IndexError",
     "evalue": "list index out of range",
     "output_type": "error",
     "traceback": [
      "\u001b[1;31m---------------------------------------------------------------------------\u001b[0m",
      "\u001b[1;31mIndexError\u001b[0m                                Traceback (most recent call last)",
      "Input \u001b[1;32mIn [22]\u001b[0m, in \u001b[0;36m<cell line: 2>\u001b[1;34m()\u001b[0m\n\u001b[0;32m      1\u001b[0m l \u001b[38;5;241m=\u001b[39m [\u001b[38;5;241m1\u001b[39m,\u001b[38;5;241m2\u001b[39m]\n\u001b[1;32m----> 2\u001b[0m \u001b[43ml\u001b[49m\u001b[43m[\u001b[49m\u001b[38;5;241;43m8\u001b[39;49m\u001b[43m]\u001b[49m\n",
      "\u001b[1;31mIndexError\u001b[0m: list index out of range"
     ]
    }
   ],
   "source": [
    "l = [1,2]\n",
    "l[8]"
   ]
  },
  {
   "cell_type": "code",
   "execution_count": 23,
   "id": "3259ec70",
   "metadata": {},
   "outputs": [
    {
     "ename": "FileNotFoundError",
     "evalue": "[Errno 2] No such file or directory: 'abc.txt'",
     "output_type": "error",
     "traceback": [
      "\u001b[1;31m---------------------------------------------------------------------------\u001b[0m",
      "\u001b[1;31mFileNotFoundError\u001b[0m                         Traceback (most recent call last)",
      "Input \u001b[1;32mIn [23]\u001b[0m, in \u001b[0;36m<cell line: 1>\u001b[1;34m()\u001b[0m\n\u001b[1;32m----> 1\u001b[0m \u001b[38;5;28;43mopen\u001b[39;49m\u001b[43m(\u001b[49m\u001b[38;5;124;43m\"\u001b[39;49m\u001b[38;5;124;43mabc.txt\u001b[39;49m\u001b[38;5;124;43m\"\u001b[39;49m\u001b[43m)\u001b[49m\n",
      "\u001b[1;31mFileNotFoundError\u001b[0m: [Errno 2] No such file or directory: 'abc.txt'"
     ]
    }
   ],
   "source": [
    "open(\"abc.txt\")"
   ]
  },
  {
   "cell_type": "code",
   "execution_count": 24,
   "id": "58a52545",
   "metadata": {},
   "outputs": [
    {
     "ename": "TypeError",
     "evalue": "'tuple' object does not support item assignment",
     "output_type": "error",
     "traceback": [
      "\u001b[1;31m---------------------------------------------------------------------------\u001b[0m",
      "\u001b[1;31mTypeError\u001b[0m                                 Traceback (most recent call last)",
      "Input \u001b[1;32mIn [24]\u001b[0m, in \u001b[0;36m<cell line: 2>\u001b[1;34m()\u001b[0m\n\u001b[0;32m      1\u001b[0m a \u001b[38;5;241m=\u001b[39m (\u001b[38;5;241m1\u001b[39m,\u001b[38;5;241m2\u001b[39m,\u001b[38;5;241m3\u001b[39m)\n\u001b[1;32m----> 2\u001b[0m a[\u001b[38;5;241m0\u001b[39m]\u001b[38;5;241m=\u001b[39m\u001b[38;5;241m20\u001b[39m\n",
      "\u001b[1;31mTypeError\u001b[0m: 'tuple' object does not support item assignment"
     ]
    }
   ],
   "source": [
    "a = (1,2,3)\n",
    "a[0]=20"
   ]
  },
  {
   "cell_type": "code",
   "execution_count": 29,
   "id": "10139384",
   "metadata": {},
   "outputs": [
    {
     "ename": "KeyError",
     "evalue": "'edcation'",
     "output_type": "error",
     "traceback": [
      "\u001b[1;31m---------------------------------------------------------------------------\u001b[0m",
      "\u001b[1;31mKeyError\u001b[0m                                  Traceback (most recent call last)",
      "Input \u001b[1;32mIn [29]\u001b[0m, in \u001b[0;36m<cell line: 4>\u001b[1;34m()\u001b[0m\n\u001b[0;32m      1\u001b[0m a \u001b[38;5;241m=\u001b[39m {\u001b[38;5;124m\"\u001b[39m\u001b[38;5;124mname\u001b[39m\u001b[38;5;124m\"\u001b[39m:\u001b[38;5;124m\"\u001b[39m\u001b[38;5;124mTaqwa Khaliq\u001b[39m\u001b[38;5;124m\"\u001b[39m,\n\u001b[0;32m      2\u001b[0m     \u001b[38;5;124m\"\u001b[39m\u001b[38;5;124mfname\u001b[39m\u001b[38;5;124m\"\u001b[39m:\u001b[38;5;124m\"\u001b[39m\u001b[38;5;124mFazle Khaliq\u001b[39m\u001b[38;5;124m\"\u001b[39m}\n\u001b[1;32m----> 4\u001b[0m \u001b[43ma\u001b[49m\u001b[43m[\u001b[49m\u001b[38;5;124;43m\"\u001b[39;49m\u001b[38;5;124;43medcation\u001b[39;49m\u001b[38;5;124;43m\"\u001b[39;49m\u001b[43m]\u001b[49m\n",
      "\u001b[1;31mKeyError\u001b[0m: 'edcation'"
     ]
    }
   ],
   "source": [
    "a = {\"name\":\"Taqwa Khaliq\",\n",
    "    \"fname\":\"Fazle Khaliq\"}\n",
    "\n",
    "a[\"edcation\"]"
   ]
  },
  {
   "cell_type": "code",
   "execution_count": 32,
   "id": "10dac563",
   "metadata": {},
   "outputs": [
    {
     "name": "stdout",
     "output_type": "stream",
     "text": [
      "13\n"
     ]
    }
   ],
   "source": [
    "code_a=\"\"\"\n",
    "a=7\n",
    "b=6\n",
    "print(a+b)\n",
    "\"\"\"\n",
    "code=compile(code_a,\"aa\",\"exec\")\n",
    "exec(code)"
   ]
  },
  {
   "cell_type": "code",
   "execution_count": 35,
   "id": "944358b2",
   "metadata": {},
   "outputs": [
    {
     "ename": "TypeError",
     "evalue": "unsupported operand type(s) for +: 'int' and 'str'",
     "output_type": "error",
     "traceback": [
      "\u001b[1;31m---------------------------------------------------------------------------\u001b[0m",
      "\u001b[1;31mTypeError\u001b[0m                                 Traceback (most recent call last)",
      "Input \u001b[1;32mIn [35]\u001b[0m, in \u001b[0;36m<cell line: 7>\u001b[1;34m()\u001b[0m\n\u001b[0;32m      1\u001b[0m a\u001b[38;5;241m=\u001b[39m\u001b[38;5;124m\"\"\"\u001b[39m\n\u001b[0;32m      2\u001b[0m \u001b[38;5;124ma=7\u001b[39m\n\u001b[0;32m      3\u001b[0m \u001b[38;5;124mb=\u001b[39m\u001b[38;5;124m\"\u001b[39m\u001b[38;5;124mA\u001b[39m\u001b[38;5;124m\"\u001b[39m\n\u001b[0;32m      4\u001b[0m \u001b[38;5;124mprint(a+b)\u001b[39m\n\u001b[0;32m      5\u001b[0m \u001b[38;5;124m\"\"\"\u001b[39m\n\u001b[0;32m      6\u001b[0m b\u001b[38;5;241m=\u001b[39m\u001b[38;5;28mcompile\u001b[39m(a,\u001b[38;5;124m\"\u001b[39m\u001b[38;5;124maa\u001b[39m\u001b[38;5;124m\"\u001b[39m,\u001b[38;5;124m\"\u001b[39m\u001b[38;5;124mexec\u001b[39m\u001b[38;5;124m\"\u001b[39m)\n\u001b[1;32m----> 7\u001b[0m \u001b[43mexec\u001b[49m\u001b[43m(\u001b[49m\u001b[43mb\u001b[49m\u001b[43m)\u001b[49m\n",
      "File \u001b[1;32maa:4\u001b[0m, in \u001b[0;36m<module>\u001b[1;34m\u001b[0m\n",
      "\u001b[1;31mTypeError\u001b[0m: unsupported operand type(s) for +: 'int' and 'str'"
     ]
    }
   ],
   "source": [
    "a=\"\"\"\n",
    "a=7\n",
    "b=\"A\"\n",
    "print(a+b)\n",
    "\"\"\"\n",
    "b=compile(a,\"aa\",\"exec\")\n",
    "exec(b)"
   ]
  },
  {
   "cell_type": "markdown",
   "id": "4c2cb4bd",
   "metadata": {},
   "source": [
    "# How To Deal RunTime Error\n",
    " ` ` `\n",
    " try:\n",
    "   statement\n",
    "     write statement where error is most likely to occur\n",
    " except(ErrorClassName..e2,e3...)\n",
    "   run if error occured in above statement\n",
    " else:\n",
    "  run if error hasnt occured in above statement\n",
    " finally:\n",
    "  always run\n",
    " ` ` `"
   ]
  },
  {
   "cell_type": "code",
   "execution_count": 36,
   "id": "9806912a",
   "metadata": {},
   "outputs": [
    {
     "ename": "ZeroDivisionError",
     "evalue": "division by zero",
     "output_type": "error",
     "traceback": [
      "\u001b[1;31m---------------------------------------------------------------------------\u001b[0m",
      "\u001b[1;31mZeroDivisionError\u001b[0m                         Traceback (most recent call last)",
      "Input \u001b[1;32mIn [36]\u001b[0m, in \u001b[0;36m<cell line: 3>\u001b[1;34m()\u001b[0m\n\u001b[0;32m      1\u001b[0m a\u001b[38;5;241m=\u001b[39m\u001b[38;5;241m7\u001b[39m\n\u001b[0;32m      2\u001b[0m b\u001b[38;5;241m=\u001b[39m\u001b[38;5;241m0\u001b[39m\n\u001b[1;32m----> 3\u001b[0m \u001b[38;5;28mprint\u001b[39m(\u001b[43ma\u001b[49m\u001b[38;5;241;43m/\u001b[39;49m\u001b[43mb\u001b[49m)\n",
      "\u001b[1;31mZeroDivisionError\u001b[0m: division by zero"
     ]
    }
   ],
   "source": [
    "a=7\n",
    "b=0\n",
    "print(a/b)"
   ]
  },
  {
   "cell_type": "code",
   "execution_count": 37,
   "id": "5796063e",
   "metadata": {},
   "outputs": [
    {
     "name": "stdout",
     "output_type": "stream",
     "text": [
      "Start Line\n",
      "We cant divide any value by zero\n",
      "End Line\n"
     ]
    }
   ],
   "source": [
    "print('Start Line')\n",
    "a=7\n",
    "b=0\n",
    "try:\n",
    "    print(a/b)\n",
    "except(ZeroDivisionError):\n",
    "    print('We cant divide any value by zero')\n",
    "print(\"End Line\")    \n",
    "    \n",
    "    "
   ]
  },
  {
   "cell_type": "code",
   "execution_count": 38,
   "id": "336bf05d",
   "metadata": {},
   "outputs": [
    {
     "name": "stdout",
     "output_type": "stream",
     "text": [
      "Start Line\n",
      "2.0\n",
      "End Line\n"
     ]
    }
   ],
   "source": [
    "print('Start Line')\n",
    "a=6\n",
    "b=3\n",
    "try:\n",
    "    print(a/b)\n",
    "except(ZeroDivisionError):\n",
    "    print('We cant divide any value by zero')\n",
    "print(\"End Line\")    \n",
    "    \n",
    "    "
   ]
  },
  {
   "cell_type": "code",
   "execution_count": 46,
   "id": "c74ce2c5",
   "metadata": {},
   "outputs": [
    {
     "name": "stdout",
     "output_type": "stream",
     "text": [
      "Start Line\n",
      "You Write Something Wrong\n",
      "End Line\n"
     ]
    }
   ],
   "source": [
    "print('Start Line')\n",
    "a=7\n",
    "b=0\n",
    "l=[1,2,3,4]\n",
    "\n",
    "try:\n",
    "#print(a/b)\n",
    "#print(l[5])\n",
    "    open(\"abc.txt\")\n",
    "except(ZeroDivisionError,FileNotFoundError,IndexError):\n",
    "    print(\"You Write Something Wrong\")\n",
    "\n",
    "print(\"End Line\")"
   ]
  },
  {
   "cell_type": "code",
   "execution_count": 47,
   "id": "0245c23e",
   "metadata": {},
   "outputs": [
    {
     "name": "stdout",
     "output_type": "stream",
     "text": [
      "Start Line\n",
      "Cant be divided by zero\n",
      "Index Not Found\n",
      "File NoT Found\n",
      "End Line\n"
     ]
    }
   ],
   "source": [
    "print('Start Line')\n",
    "a=7\n",
    "b=0\n",
    "l=[1,2,3,4]\n",
    "\n",
    "try:\n",
    "    print(a/b)\n",
    "except(ZeroDivisionError):\n",
    "    print(\"Cant be divided by zero\")\n",
    "try:\n",
    "    print(l[5])\n",
    "except(IndexError):\n",
    "    print(\"Index Not Found\")\n",
    "    \n",
    "try:\n",
    "    open(\"abc.txt\")\n",
    "except(FileNotFoundError):\n",
    "    print(\"File NoT Found\")\n",
    "\n",
    "print(\"End Line\")"
   ]
  },
  {
   "cell_type": "markdown",
   "id": "1ad9d4f1",
   "metadata": {},
   "source": [
    "# Dynamic Runtime Error Handling with custom message"
   ]
  },
  {
   "cell_type": "code",
   "execution_count": 48,
   "id": "a94fac16",
   "metadata": {},
   "outputs": [
    {
     "name": "stdout",
     "output_type": "stream",
     "text": [
      "Start Line\n",
      "u write something Wrong! division by zero\n",
      "End Line\n"
     ]
    }
   ],
   "source": [
    "print('Start Line')\n",
    "a=7\n",
    "b=0\n",
    "l=[1,2,3,4]\n",
    "try:\n",
    "    print(a/b)\n",
    "except Exception  as e:\n",
    "    print('u write something Wrong!',e)\n",
    "    \n",
    "print(\"End Line\") "
   ]
  },
  {
   "cell_type": "code",
   "execution_count": 49,
   "id": "8ce8002e",
   "metadata": {},
   "outputs": [
    {
     "name": "stdout",
     "output_type": "stream",
     "text": [
      "Start Line\n",
      "u write something Wrong! [Errno 2] No such file or directory: 'abc.txt'\n",
      "End Line\n"
     ]
    }
   ],
   "source": [
    "print('Start Line')\n",
    "a=7\n",
    "b=0\n",
    "l=[1,2,3,4]\n",
    "try:\n",
    "    #print(a/b)\n",
    "    open('abc.txt')\n",
    "except Exception  as e:\n",
    "    print('u write something Wrong!',e)\n",
    "    \n",
    "print(\"End Line\")"
   ]
  },
  {
   "cell_type": "code",
   "execution_count": 52,
   "id": "8eca40ed",
   "metadata": {},
   "outputs": [
    {
     "name": "stdout",
     "output_type": "stream",
     "text": [
      "Start Line\n",
      "2.0\n",
      "Run if error doesnt occured in above statement\n",
      "End Line\n"
     ]
    }
   ],
   "source": [
    "print('Start Line')\n",
    "a=6\n",
    "b=3\n",
    "l=[1,2,3,4]\n",
    "try:\n",
    "    print(a/b)\n",
    "    #open('abc.txt')\n",
    "except Exception  as e:\n",
    "    print('u write something Wrong!',e)\n",
    "else:\n",
    "    print(\"Run if error doesnt occured in above statement\")\n",
    "    \n",
    "print(\"End Line\")"
   ]
  },
  {
   "cell_type": "code",
   "execution_count": 53,
   "id": "970780b1",
   "metadata": {},
   "outputs": [
    {
     "name": "stdout",
     "output_type": "stream",
     "text": [
      "Start Line\n",
      "2.0\n",
      "Run if error doesnt occured in above statement\n",
      "Always Run\n",
      "End Line\n"
     ]
    }
   ],
   "source": [
    "print('Start Line')\n",
    "a=6\n",
    "b=3\n",
    "l=[1,2,3,4]\n",
    "try:\n",
    "    print(a/b)\n",
    "    #open('abc.txt')\n",
    "except Exception  as e:\n",
    "    print('u write something Wrong!',e)\n",
    "else:\n",
    "    print(\"Run if error doesnt occured in above statement\")\n",
    "finally:\n",
    "    print(\"Always Run\")\n",
    "    \n",
    "print(\"End Line\")"
   ]
  },
  {
   "cell_type": "code",
   "execution_count": 54,
   "id": "4d6f4d73",
   "metadata": {},
   "outputs": [
    {
     "data": {
      "text/plain": [
       "datetime.datetime(2022, 10, 1, 3, 14, 51, 503506)"
      ]
     },
     "execution_count": 54,
     "metadata": {},
     "output_type": "execute_result"
    }
   ],
   "source": [
    "import datetime as dt\n",
    "dt.datetime.now()"
   ]
  },
  {
   "cell_type": "markdown",
   "id": "b5e3d978",
   "metadata": {},
   "source": [
    "# Create our own Exception Class"
   ]
  },
  {
   "cell_type": "code",
   "execution_count": 56,
   "id": "ff66f65f",
   "metadata": {},
   "outputs": [
    {
     "name": "stdout",
     "output_type": "stream",
     "text": [
      "1\n",
      "TaqwaKhaliq\n",
      "30\n"
     ]
    }
   ],
   "source": [
    "class StudentCard():\n",
    "    def __init__(self,roll,name,age):\n",
    "        if age <18 or age >60:\n",
    "            raise \"Not Allowed Less Than 18 or greater than 60\"\n",
    "        self.roll=roll\n",
    "        self.name=name\n",
    "        self.age=age\n",
    "s1=StudentCard(1,'TaqwaKhaliq',30)\n",
    "print(s1.roll)\n",
    "print(s1.name)\n",
    "print(s1.age)\n"
   ]
  },
  {
   "cell_type": "code",
   "execution_count": 57,
   "id": "080ca0de",
   "metadata": {},
   "outputs": [
    {
     "name": "stdout",
     "output_type": "stream",
     "text": [
      "1\n",
      "TaqwaKhaliq\n",
      "30\n"
     ]
    }
   ],
   "source": [
    "s2=StudentCard(1,'TaqwaKhaliq',30)\n",
    "print(s2.roll)\n",
    "print(s2.name)\n",
    "print(s2.age)"
   ]
  },
  {
   "cell_type": "code",
   "execution_count": 67,
   "id": "1f950720",
   "metadata": {},
   "outputs": [
    {
     "name": "stdout",
     "output_type": "stream",
     "text": [
      "1\n",
      "KomalBasharat\n",
      "30\n"
     ]
    }
   ],
   "source": [
    "class StudentCard():\n",
    "    def __init__(self,roll,name,age):\n",
    "        if age <18 or age >60:\n",
    "            raise StudentAgeError(\"Not Allowed Less Than 18 or greater than 60\")\n",
    "        self.roll=roll\n",
    "        self.name=name\n",
    "        self.age=age   \n",
    "class StudentAgeError(Exception):\n",
    "      pass\n",
    "      \n",
    "s1=StudentCard(1,'KomalBasharat',30)\n",
    "print(s1.roll)\n",
    "print(s1.name)\n",
    "print(s1.age)\n"
   ]
  },
  {
   "cell_type": "code",
   "execution_count": 70,
   "id": "b5ed0f29",
   "metadata": {},
   "outputs": [
    {
     "ename": "StudentAgeError",
     "evalue": "Not Allowed Less Than 18 or greater than 60",
     "output_type": "error",
     "traceback": [
      "\u001b[1;31m---------------------------------------------------------------------------\u001b[0m",
      "\u001b[1;31mStudentAgeError\u001b[0m                           Traceback (most recent call last)",
      "Input \u001b[1;32mIn [70]\u001b[0m, in \u001b[0;36m<cell line: 1>\u001b[1;34m()\u001b[0m\n\u001b[1;32m----> 1\u001b[0m s2\u001b[38;5;241m=\u001b[39m\u001b[43mStudentCard\u001b[49m\u001b[43m(\u001b[49m\u001b[38;5;241;43m20\u001b[39;49m\u001b[43m,\u001b[49m\u001b[38;5;124;43m'\u001b[39;49m\u001b[38;5;124;43mAdanWaqas\u001b[39;49m\u001b[38;5;124;43m'\u001b[39;49m\u001b[43m,\u001b[49m\u001b[38;5;241;43m78\u001b[39;49m\u001b[43m)\u001b[49m\n",
      "Input \u001b[1;32mIn [67]\u001b[0m, in \u001b[0;36mStudentCard.__init__\u001b[1;34m(self, roll, name, age)\u001b[0m\n\u001b[0;32m      2\u001b[0m \u001b[38;5;28;01mdef\u001b[39;00m \u001b[38;5;21m__init__\u001b[39m(\u001b[38;5;28mself\u001b[39m,roll,name,age):\n\u001b[0;32m      3\u001b[0m     \u001b[38;5;28;01mif\u001b[39;00m age \u001b[38;5;241m<\u001b[39m\u001b[38;5;241m18\u001b[39m \u001b[38;5;129;01mor\u001b[39;00m age \u001b[38;5;241m>\u001b[39m\u001b[38;5;241m60\u001b[39m:\n\u001b[1;32m----> 4\u001b[0m         \u001b[38;5;28;01mraise\u001b[39;00m StudentAgeError(\u001b[38;5;124m\"\u001b[39m\u001b[38;5;124mNot Allowed Less Than 18 or greater than 60\u001b[39m\u001b[38;5;124m\"\u001b[39m)\n\u001b[0;32m      5\u001b[0m     \u001b[38;5;28mself\u001b[39m\u001b[38;5;241m.\u001b[39mroll\u001b[38;5;241m=\u001b[39mroll\n\u001b[0;32m      6\u001b[0m     \u001b[38;5;28mself\u001b[39m\u001b[38;5;241m.\u001b[39mname\u001b[38;5;241m=\u001b[39mname\n",
      "\u001b[1;31mStudentAgeError\u001b[0m: Not Allowed Less Than 18 or greater than 60"
     ]
    }
   ],
   "source": [
    "s2=StudentCard(20,'AdanWaqas',78)"
   ]
  },
  {
   "cell_type": "code",
   "execution_count": 72,
   "id": "060aa76a",
   "metadata": {},
   "outputs": [
    {
     "name": "stdout",
     "output_type": "stream",
     "text": [
      "Something is Wrong Not Allowed Less Than 18 or greater than 60\n"
     ]
    }
   ],
   "source": [
    "try:\n",
    "    s2=StudentCard(20,'AdanWaqas',78)\n",
    "except Exception as e:\n",
    "    print(\"Something is Wrong\",e)"
   ]
  },
  {
   "cell_type": "code",
   "execution_count": null,
   "id": "240d4a8f",
   "metadata": {},
   "outputs": [],
   "source": []
  }
 ],
 "metadata": {
  "kernelspec": {
   "display_name": "Python 3 (ipykernel)",
   "language": "python",
   "name": "python3"
  },
  "language_info": {
   "codemirror_mode": {
    "name": "ipython",
    "version": 3
   },
   "file_extension": ".py",
   "mimetype": "text/x-python",
   "name": "python",
   "nbconvert_exporter": "python",
   "pygments_lexer": "ipython3",
   "version": "3.9.12"
  }
 },
 "nbformat": 4,
 "nbformat_minor": 5
}
