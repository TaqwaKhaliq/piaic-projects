{
 "cells": [
  {
   "cell_type": "markdown",
   "id": "803b6d16",
   "metadata": {},
   "source": [
    "# how to assign string values in variables"
   ]
  },
  {
   "cell_type": "code",
   "execution_count": 2,
   "id": "2d8168ff",
   "metadata": {},
   "outputs": [
    {
     "name": "stdout",
     "output_type": "stream",
     "text": [
      "Taqwa Khaliq <class 'str'>\n"
     ]
    }
   ],
   "source": [
    "name=\"Taqwa Khaliq\"  #1\n",
    "print(name,type(name))"
   ]
  },
  {
   "cell_type": "code",
   "execution_count": 3,
   "id": "b33b3232",
   "metadata": {},
   "outputs": [
    {
     "name": "stdout",
     "output_type": "stream",
     "text": [
      "Taqwa Khaliq <class 'str'>\n"
     ]
    }
   ],
   "source": [
    "name='Taqwa Khaliq'  #2\n",
    "print(name,type(name))"
   ]
  },
  {
   "cell_type": "code",
   "execution_count": 6,
   "id": "420926c1",
   "metadata": {},
   "outputs": [
    {
     "name": "stdout",
     "output_type": "stream",
     "text": [
      "Name:\t\tTaqwa\n",
      "father Name:\tFazle Khaliq\n",
      "Batch:\t\t36-37\n"
     ]
    }
   ],
   "source": [
    "# we have to define space characters(\\n \\t)\n",
    "data='Name:\\t\\tTaqwa\\nfather Name:\\tFazle Khaliq\\nBatch:\\t\\t36-37'\n",
    "print(data)"
   ]
  },
  {
   "cell_type": "code",
   "execution_count": 2,
   "id": "aaf2ed94",
   "metadata": {},
   "outputs": [
    {
     "name": "stdout",
     "output_type": "stream",
     "text": [
      "name:\t\tTaqwa\n",
      "Father:\t\tFazleKhaliq\n",
      "Batch:\t\t36-37\n"
     ]
    }
   ],
   "source": [
    "#if you are using single quote at the start or end\n",
    "# or you want to use in middle of the text then you place (\\)  before middle single quote\n",
    "data='name:\\t\\tTaqwa\\nFather:\\t\\tFazleKhaliq\\nBatch:\\t\\t36-37'\n",
    "print(data)\n"
   ]
  },
  {
   "cell_type": "code",
   "execution_count": 3,
   "id": "6f32f893",
   "metadata": {},
   "outputs": [
    {
     "name": "stdout",
     "output_type": "stream",
     "text": [
      "PIAIC\" ss \"Pakistan Zindabad\n"
     ]
    }
   ],
   "source": [
    "data=\"PIAIC\\\" ss \\\"Pakistan Zindabad\"\n",
    "print(data)"
   ]
  },
  {
   "cell_type": "code",
   "execution_count": 5,
   "id": "283999fc",
   "metadata": {},
   "outputs": [
    {
     "name": "stdout",
     "output_type": "stream",
     "text": [
      "Taqwa \"K\"haliq <class 'str'>\n"
     ]
    }
   ],
   "source": [
    "name=\"Taqwa \\\"K\\\"haliq\"\n",
    "print(name,type(name))"
   ]
  },
  {
   "cell_type": "code",
   "execution_count": 11,
   "id": "fdad02e9",
   "metadata": {},
   "outputs": [
    {
     "name": "stdout",
     "output_type": "stream",
     "text": [
      "\n",
      "Name:\t\tTaqwa\n",
      "father Name:\tFazle Khaliq\n",
      "Batch:\t\t36-37\n",
      "\n"
     ]
    }
   ],
   "source": [
    "#  triple single quote or triple single quote=multi line sting\n",
    "data=\"\"\"\n",
    "Name:\t\tTaqwa\n",
    "father Name:\tFazle Khaliq\n",
    "Batch:\t\t36-37\n",
    "\"\"\"\n",
    "print(data)"
   ]
  },
  {
   "cell_type": "code",
   "execution_count": 10,
   "id": "7d387bc2",
   "metadata": {},
   "outputs": [
    {
     "data": {
      "text/plain": [
       "'Taqwa \"K\"haliq'"
      ]
     },
     "execution_count": 10,
     "metadata": {},
     "output_type": "execute_result"
    }
   ],
   "source": [
    "name"
   ]
  },
  {
   "cell_type": "code",
   "execution_count": 12,
   "id": "5640d12c",
   "metadata": {},
   "outputs": [
    {
     "name": "stdout",
     "output_type": "stream",
     "text": [
      "\n",
      "Name:\t\tTaqwa\n",
      "father Name:\tFazle Khaliq\n",
      "Batch:\t\t36-37\n",
      "\n"
     ]
    }
   ],
   "source": [
    "print(data)"
   ]
  },
  {
   "cell_type": "code",
   "execution_count": 8,
   "id": "5d7ef2c1",
   "metadata": {},
   "outputs": [
    {
     "data": {
      "text/plain": [
       "'\\nName:\\t\\tTaqwa\\nfather Name:\\tFazle Khaliq\\nBatch:\\t\\t36-37\\n'"
      ]
     },
     "execution_count": 8,
     "metadata": {},
     "output_type": "execute_result"
    }
   ],
   "source": [
    "data=\"\"\"\n",
    "Name:\t\tTaqwa\n",
    "father Name:\tFazle Khaliq\n",
    "Batch:\t\t36-37\n",
    "\"\"\"\n",
    "data #if you write in lastline=output raw text"
   ]
  },
  {
   "cell_type": "code",
   "execution_count": 13,
   "id": "7b79c41b",
   "metadata": {},
   "outputs": [],
   "source": [
    "# https://www.w3schools.com/python/gloss_python_variable_names.asp#:~:text=Rules%20for%20Python%20variables%3A,0%2D9%2C%20and%20_%20)"
   ]
  },
  {
   "cell_type": "markdown",
   "id": "56087e3c",
   "metadata": {},
   "source": [
    "# how to apply  variable name rules"
   ]
  },
  {
   "cell_type": "code",
   "execution_count": 9,
   "id": "a7722381",
   "metadata": {},
   "outputs": [
    {
     "ename": "SyntaxError",
     "evalue": "invalid syntax (2116635035.py, line 1)",
     "output_type": "error",
     "traceback": [
      "\u001b[1;36m  Input \u001b[1;32mIn [9]\u001b[1;36m\u001b[0m\n\u001b[1;33m    1name=\"Taqwa\"\u001b[0m\n\u001b[1;37m     ^\u001b[0m\n\u001b[1;31mSyntaxError\u001b[0m\u001b[1;31m:\u001b[0m invalid syntax\n"
     ]
    }
   ],
   "source": [
    "1name=\"Taqwa\""
   ]
  },
  {
   "cell_type": "code",
   "execution_count": 10,
   "id": "f547adf6",
   "metadata": {},
   "outputs": [
    {
     "data": {
      "text/plain": [
       "'Taqwa'"
      ]
     },
     "execution_count": 10,
     "metadata": {},
     "output_type": "execute_result"
    }
   ],
   "source": [
    "_1name=\"Taqwa\"\n",
    "_1name"
   ]
  },
  {
   "cell_type": "code",
   "execution_count": 14,
   "id": "0731752f",
   "metadata": {},
   "outputs": [
    {
     "data": {
      "text/plain": [
       "'Fazle-e-Khaliq'"
      ]
     },
     "execution_count": 14,
     "metadata": {},
     "output_type": "execute_result"
    }
   ],
   "source": [
    "father_Name=\"Fazle-e-Khaliq\"\n",
    "father_Name"
   ]
  },
  {
   "cell_type": "code",
   "execution_count": 15,
   "id": "f58854e0",
   "metadata": {},
   "outputs": [
    {
     "ename": "SyntaxError",
     "evalue": "cannot assign to operator (4276802103.py, line 1)",
     "output_type": "error",
     "traceback": [
      "\u001b[1;36m  Input \u001b[1;32mIn [15]\u001b[1;36m\u001b[0m\n\u001b[1;33m    father@Name=\"Fazle-e-Khaliq\"\u001b[0m\n\u001b[1;37m    ^\u001b[0m\n\u001b[1;31mSyntaxError\u001b[0m\u001b[1;31m:\u001b[0m cannot assign to operator\n"
     ]
    }
   ],
   "source": [
    "father@Name=\"Fazle-e-Khaliq\"\n",
    "father@Name"
   ]
  },
  {
   "cell_type": "code",
   "execution_count": 16,
   "id": "87df942f",
   "metadata": {},
   "outputs": [
    {
     "ename": "NameError",
     "evalue": "name 'Name' is not defined",
     "output_type": "error",
     "traceback": [
      "\u001b[1;31m---------------------------------------------------------------------------\u001b[0m",
      "\u001b[1;31mNameError\u001b[0m                                 Traceback (most recent call last)",
      "Input \u001b[1;32mIn [16]\u001b[0m, in \u001b[0;36m<cell line: 2>\u001b[1;34m()\u001b[0m\n\u001b[0;32m      1\u001b[0m name\u001b[38;5;241m=\u001b[39m\u001b[38;5;124m\"\u001b[39m\u001b[38;5;124mTaqwa Khaliq\u001b[39m\u001b[38;5;124m\"\u001b[39m\n\u001b[1;32m----> 2\u001b[0m \u001b[38;5;28mprint\u001b[39m(\u001b[43mName\u001b[49m)\n",
      "\u001b[1;31mNameError\u001b[0m: name 'Name' is not defined"
     ]
    }
   ],
   "source": [
    "name=\"Taqwa Khaliq\"\n",
    "print(Name)"
   ]
  },
  {
   "cell_type": "code",
   "execution_count": 11,
   "id": "62738f52",
   "metadata": {},
   "outputs": [
    {
     "data": {
      "text/plain": [
       "'c'"
      ]
     },
     "execution_count": 11,
     "metadata": {},
     "output_type": "execute_result"
    }
   ],
   "source": [
    "\"a\"\n",
    "'b'\n",
    "'c'#jupyter cell always returns last line"
   ]
  },
  {
   "cell_type": "markdown",
   "id": "ca5ec1bc",
   "metadata": {},
   "source": [
    "# Concatenation(combine 2 or more values and variables)|Text Formation"
   ]
  },
  {
   "cell_type": "code",
   "execution_count": 12,
   "id": "f1f617d1",
   "metadata": {},
   "outputs": [
    {
     "name": "stdout",
     "output_type": "stream",
     "text": [
      "Taqwa Khaliq Fazl_e_Khaliq BS Null\n"
     ]
    }
   ],
   "source": [
    "name=\"Taqwa Khaliq\"\n",
    "father_name=\"Fazl_e_Khaliq\"\n",
    "education=\"BS\"\n",
    "designation=\"Null\"\n",
    "print(name,father_name,education,designation)"
   ]
  },
  {
   "cell_type": "code",
   "execution_count": 13,
   "id": "b6316f61",
   "metadata": {},
   "outputs": [
    {
     "name": "stdout",
     "output_type": "stream",
     "text": [
      "Taqwa Khaliq\n",
      "Fazl_e_Khaliq\n",
      "BS\n",
      "Null\n"
     ]
    }
   ],
   "source": [
    "name=\"Taqwa Khaliq\"\n",
    "father_name=\"Fazl_e_Khaliq\"\n",
    "education=\"BS\"\n",
    "designation=\"Null\"\n",
    "print(name,father_name,education,designation,sep=\"\\n\")"
   ]
  },
  {
   "cell_type": "code",
   "execution_count": 17,
   "id": "6273e482",
   "metadata": {},
   "outputs": [
    {
     "name": "stdout",
     "output_type": "stream",
     "text": [
      "a\n",
      "b\n"
     ]
    }
   ],
   "source": [
    "print('a')\n",
    "print('b')"
   ]
  },
  {
   "cell_type": "code",
   "execution_count": 18,
   "id": "d0a49824",
   "metadata": {},
   "outputs": [
    {
     "name": "stdout",
     "output_type": "stream",
     "text": [
      "PIAIC Student Card\n",
      "Name:Taqwa Khaliqfather_name:Fazl_e_Khaliq\n",
      "Education:BS\n",
      "Designation:Null\n",
      "Height:5.11\n"
     ]
    }
   ],
   "source": [
    "name=\"Taqwa Khaliq\"\n",
    "father_name=\"Fazl_e_Khaliq\"\n",
    "education=\"BS\"\n",
    "designation=\"Null\"\n",
    "height=5.11\n",
    "# + operator on string join two strings variables\n",
    "\n",
    "result=\"PIAIC Student Card\\nName:\"+name+\"father_name:\"+father_name+\"\\nEducation:\"+education+\"\\nDesignation:\"+designation+\"\\nHeight:\"+str(height)\n",
    "print(result)"
   ]
  },
  {
   "cell_type": "code",
   "execution_count": 19,
   "id": "887eb3fd",
   "metadata": {},
   "outputs": [
    {
     "name": "stdout",
     "output_type": "stream",
     "text": [
      "\n",
      "PIAIC Teacher Card\n",
      "Name:Taqwa Khaliq\n",
      "Father's Name:Fazl_e_Khaliq\n",
      "Education:BS\n",
      "Designation:Null\n",
      "Height:5.11\n",
      "\n"
     ]
    }
   ],
   "source": [
    "name=\"Taqwa Khaliq\"\n",
    "father_name=\"Fazl_e_Khaliq\"\n",
    "education=\"BS\"\n",
    "designation=\"Null\"\n",
    "height=5.11\n",
    "\n",
    "data=\"\"\"\n",
    "PIAIC Teacher Card\n",
    "Name:{4}\n",
    "Father's Name:{0}\n",
    "Education:{2}\n",
    "Designation:{3}\n",
    "Height:{1}\n",
    "\"\"\".format(father_name,height,education,designation,name)  #now we dont need to typecast\n",
    "#            0            1       2        3          4\n",
    "print(data)"
   ]
  },
  {
   "cell_type": "code",
   "execution_count": 20,
   "id": "194cfa08",
   "metadata": {},
   "outputs": [
    {
     "name": "stdout",
     "output_type": "stream",
     "text": [
      "\n",
      "PIAIC Teacher Card\n",
      "Name:{name}\n",
      "Father's Name:{father_name}\n",
      "Education:{education}\n",
      "Designation:{designation}\n",
      "Height:{height}\n",
      "\n"
     ]
    }
   ],
   "source": [
    "name=\"Taqwa Khaliq\"\n",
    "father_name=\"Fazl_e_Khaliq\"\n",
    "education=\"BS\"\n",
    "designation=\"Null\"\n",
    "height=5.11\n",
    "\n",
    "data=\"\"\"\n",
    "PIAIC Teacher Card\n",
    "Name:{name}\n",
    "Father's Name:{father_name}\n",
    "Education:{education}\n",
    "Designation:{designation}\n",
    "Height:{height}\n",
    "\"\"\"\n",
    "print(data)"
   ]
  },
  {
   "cell_type": "code",
   "execution_count": 21,
   "id": "67c1dc8f",
   "metadata": {},
   "outputs": [
    {
     "data": {
      "text/plain": [
       "'Taqwa Khaliq'"
      ]
     },
     "execution_count": 21,
     "metadata": {},
     "output_type": "execute_result"
    }
   ],
   "source": [
    "name\n"
   ]
  },
  {
   "cell_type": "code",
   "execution_count": null,
   "id": "147d1296",
   "metadata": {},
   "outputs": [],
   "source": [
    "  0  1  2  3  4\n",
    "( a, b, c, d, e)"
   ]
  },
  {
   "cell_type": "code",
   "execution_count": 25,
   "id": "c812bbb7",
   "metadata": {},
   "outputs": [
    {
     "ename": "TypeError",
     "evalue": "can only concatenate str (not \"int\") to str",
     "output_type": "error",
     "traceback": [
      "\u001b[1;31m---------------------------------------------------------------------------\u001b[0m",
      "\u001b[1;31mTypeError\u001b[0m                                 Traceback (most recent call last)",
      "Input \u001b[1;32mIn [25]\u001b[0m, in \u001b[0;36m<cell line: 3>\u001b[1;34m()\u001b[0m\n\u001b[0;32m      1\u001b[0m a\u001b[38;5;241m=\u001b[39m\u001b[38;5;124m\"\u001b[39m\u001b[38;5;124mPakistan\u001b[39m\u001b[38;5;124m\"\u001b[39m\n\u001b[0;32m      2\u001b[0m b\u001b[38;5;241m=\u001b[39m\u001b[38;5;241m1000\u001b[39m\n\u001b[1;32m----> 3\u001b[0m \u001b[43ma\u001b[49m\u001b[38;5;241;43m+\u001b[39;49m\u001b[43mb\u001b[49m\n",
      "\u001b[1;31mTypeError\u001b[0m: can only concatenate str (not \"int\") to str"
     ]
    }
   ],
   "source": [
    " a=\"Pakistan\"\n",
    " b=1000\n",
    " a+b"
   ]
  },
  {
   "cell_type": "code",
   "execution_count": 26,
   "id": "fb348e58",
   "metadata": {},
   "outputs": [
    {
     "data": {
      "text/plain": [
       "100"
      ]
     },
     "execution_count": 26,
     "metadata": {},
     "output_type": "execute_result"
    }
   ],
   "source": [
    "int('100')"
   ]
  },
  {
   "cell_type": "code",
   "execution_count": 27,
   "id": "3d1d81dc",
   "metadata": {},
   "outputs": [
    {
     "data": {
      "text/plain": [
       "'Pakistan1000'"
      ]
     },
     "execution_count": 27,
     "metadata": {},
     "output_type": "execute_result"
    }
   ],
   "source": [
    "a=\"Pakistan\"\n",
    "b=1000\n",
    "a+str(b)"
   ]
  },
  {
   "cell_type": "code",
   "execution_count": 32,
   "id": "6b109152",
   "metadata": {},
   "outputs": [
    {
     "name": "stdout",
     "output_type": "stream",
     "text": [
      "Enter any valuePakistan Zindabad\n",
      "Pakistan Zindabad\n"
     ]
    }
   ],
   "source": [
    "abc= input(\"Enter any value\") #always return text value\n",
    "print(abc)"
   ]
  },
  {
   "cell_type": "code",
   "execution_count": 33,
   "id": "8edf9dd1",
   "metadata": {},
   "outputs": [
    {
     "name": "stdout",
     "output_type": "stream",
     "text": [
      "Enter Your NameTaqwa Khaliq\n",
      "Father NameFazleKhaliq\n",
      "EducationBS\n",
      "Your DsignationNULL\n",
      "Your Height5.11\n",
      "\n",
      "Name:Taqwa Khaliq\n",
      "Father's Name:Fazl_e_Khaliq\n",
      "Education:BS\n",
      "Designation:Null\n",
      "Height:5.11\n",
      "\n"
     ]
    }
   ],
   "source": [
    "Name=input(\"Enter Your Name\")\n",
    "Father_name=input(\"Father Name\")\n",
    "Education=input(\"Education\")\n",
    "Designation=input(\"Your Dsignation\")\n",
    "Height=float(input(\"Your Height\"))\n",
    "data=f\"\"\"\n",
    "Name:{name}\n",
    "Father's Name:{father_name}\n",
    "Education:{education}\n",
    "Designation:{designation}\n",
    "Height:{height}\n",
    "\"\"\"\n",
    "print(data)"
   ]
  },
  {
   "cell_type": "code",
   "execution_count": 35,
   "id": "c85167eb",
   "metadata": {},
   "outputs": [
    {
     "data": {
      "text/plain": [
       "'Taqwa khaliq'"
      ]
     },
     "execution_count": 35,
     "metadata": {},
     "output_type": "execute_result"
    }
   ],
   "source": [
    "name=\"TAQWA KHALIQ\"\n",
    "name.capitalize()"
   ]
  },
  {
   "cell_type": "code",
   "execution_count": 38,
   "id": "07e3f4a6",
   "metadata": {},
   "outputs": [
    {
     "data": {
      "text/plain": [
       "'taqwa khaliq'"
      ]
     },
     "execution_count": 38,
     "metadata": {},
     "output_type": "execute_result"
    }
   ],
   "source": [
    "name=\"TAQWA KHALIQ\"\n",
    "name.casefold()"
   ]
  },
  {
   "cell_type": "code",
   "execution_count": 41,
   "id": "95573117",
   "metadata": {},
   "outputs": [
    {
     "data": {
      "text/plain": [
       "'    TAQWA KHALIQ    '"
      ]
     },
     "execution_count": 41,
     "metadata": {},
     "output_type": "execute_result"
    }
   ],
   "source": [
    "name=\"TAQWA KHALIQ\"\n",
    "name.center(20)"
   ]
  },
  {
   "cell_type": "code",
   "execution_count": 48,
   "id": "1c8a680b",
   "metadata": {},
   "outputs": [
    {
     "name": "stdout",
     "output_type": "stream",
     "text": [
      "<built-in method encode of str object at 0x0000028079217CF0>\n"
     ]
    }
   ],
   "source": [
    "name=\"TAQWA KHALIQ\"\n",
    "name.encode(encoding='utf-8', errors='strict')\n",
    "print(name.encode)"
   ]
  },
  {
   "cell_type": "code",
   "execution_count": 54,
   "id": "52134e0b",
   "metadata": {},
   "outputs": [
    {
     "data": {
      "text/plain": [
       "True"
      ]
     },
     "execution_count": 54,
     "metadata": {},
     "output_type": "execute_result"
    }
   ],
   "source": [
    "name=\"TAQWA KHALIQ\"\n",
    "name.endswith(\"KHALIQ\")"
   ]
  },
  {
   "cell_type": "code",
   "execution_count": 64,
   "id": "8bbbba95",
   "metadata": {},
   "outputs": [
    {
     "data": {
      "text/plain": [
       "'Taq       wa        Khaliq'"
      ]
     },
     "execution_count": 64,
     "metadata": {},
     "output_type": "execute_result"
    }
   ],
   "source": [
    "name=\"Taq\\twa\\tKhaliq\"\n",
    "name.expandtabs(10)"
   ]
  },
  {
   "cell_type": "code",
   "execution_count": 74,
   "id": "1ee65ec3",
   "metadata": {},
   "outputs": [
    {
     "data": {
      "text/plain": [
       "24"
      ]
     },
     "execution_count": 74,
     "metadata": {},
     "output_type": "execute_result"
    }
   ],
   "source": [
    "string1=\"Remember Allah Wherever you are\"\n",
    "string1.find(\"you\")\n",
    "#print(string)"
   ]
  },
  {
   "cell_type": "code",
   "execution_count": 82,
   "id": "7a3459e7",
   "metadata": {},
   "outputs": [
    {
     "name": "stdout",
     "output_type": "stream",
     "text": [
      "Remember Allah Wherever are are\n"
     ]
    }
   ],
   "source": [
    "string1=\"Remember Allah Wherever you are\"\n",
    "x=\"you\"\n",
    "y=\"are\"\n",
    "mytable = string1.maketrans(x, y)\n",
    "\n",
    "print(string1.translate(mytable))\n",
    "\n"
   ]
  },
  {
   "cell_type": "code",
   "execution_count": 87,
   "id": "96c88a8e",
   "metadata": {},
   "outputs": [
    {
     "name": "stdout",
     "output_type": "stream",
     "text": [
      "6\n",
      "17\n",
      "28\n"
     ]
    }
   ],
   "source": [
    "string1=\"Remember Allah Wherever you are\"\n",
    "print(string1.find(\"er\"))\n",
    "print(string1.find(\"er\",7))\n",
    "print(string1.find(\"a\",20))"
   ]
  },
  {
   "cell_type": "code",
   "execution_count": 88,
   "id": "befd774d",
   "metadata": {},
   "outputs": [
    {
     "data": {
      "text/plain": [
       "'membe'"
      ]
     },
     "execution_count": 88,
     "metadata": {},
     "output_type": "execute_result"
    }
   ],
   "source": [
    "string1=\"Remember Allah Wherever you are\"\n",
    "string1[2:7]"
   ]
  },
  {
   "cell_type": "code",
   "execution_count": 90,
   "id": "683311ce",
   "metadata": {},
   "outputs": [
    {
     "data": {
      "text/plain": [
       "15"
      ]
     },
     "execution_count": 90,
     "metadata": {},
     "output_type": "execute_result"
    }
   ],
   "source": [
    "string1=\"Remember Allah Wherever you are\"\n",
    "string1.index(\"W\")"
   ]
  },
  {
   "cell_type": "code",
   "execution_count": null,
   "id": "5742c06d",
   "metadata": {},
   "outputs": [],
   "source": []
  }
 ],
 "metadata": {
  "kernelspec": {
   "display_name": "Python 3 (ipykernel)",
   "language": "python",
   "name": "python3"
  },
  "language_info": {
   "codemirror_mode": {
    "name": "ipython",
    "version": 3
   },
   "file_extension": ".py",
   "mimetype": "text/x-python",
   "name": "python",
   "nbconvert_exporter": "python",
   "pygments_lexer": "ipython3",
   "version": "3.9.12"
  }
 },
 "nbformat": 4,
 "nbformat_minor": 5
}
