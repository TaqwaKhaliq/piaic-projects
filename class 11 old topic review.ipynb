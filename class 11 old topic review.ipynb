{
 "cells": [
  {
   "cell_type": "markdown",
   "id": "bc5318db",
   "metadata": {},
   "source": [
    "# Review "
   ]
  },
  {
   "cell_type": "code",
   "execution_count": 1,
   "id": "357e0ea3",
   "metadata": {},
   "outputs": [
    {
     "ename": "IndentationError",
     "evalue": "unexpected indent (2179349127.py, line 3)",
     "output_type": "error",
     "traceback": [
      "\u001b[1;36m  Input \u001b[1;32mIn [1]\u001b[1;36m\u001b[0m\n\u001b[1;33m    def abc():\u001b[0m\n\u001b[1;37m    ^\u001b[0m\n\u001b[1;31mIndentationError\u001b[0m\u001b[1;31m:\u001b[0m unexpected indent\n"
     ]
    }
   ],
   "source": [
    "a=7 #Global Variable\n",
    " \n",
    "    def abc():\n",
    "        a=8  #local variable\n",
    "        return a\n",
    "    \n",
    "print(abc())#call function and return local variable value\n",
    "    print(a)"
   ]
  },
  {
   "cell_type": "code",
   "execution_count": 2,
   "id": "8728795f",
   "metadata": {},
   "outputs": [
    {
     "ename": "IndentationError",
     "evalue": "unexpected indent (292697332.py, line 3)",
     "output_type": "error",
     "traceback": [
      "\u001b[1;36m  Input \u001b[1;32mIn [2]\u001b[1;36m\u001b[0m\n\u001b[1;33m    def abc():\u001b[0m\n\u001b[1;37m    ^\u001b[0m\n\u001b[1;31mIndentationError\u001b[0m\u001b[1;31m:\u001b[0m unexpected indent\n"
     ]
    }
   ],
   "source": [
    "a=7 #Global Variable\n",
    "b=1 \n",
    "    def abc():\n",
    "    global a #update global Variable using global keyword\n",
    "    a=8\n",
    "    b=20\n",
    "        return a\n",
    "    \n",
    "    print(abc())#call function and return local variable value\n",
    "    print(a)"
   ]
  },
  {
   "cell_type": "code",
   "execution_count": 3,
   "id": "51e30ffb",
   "metadata": {},
   "outputs": [],
   "source": [
    "a=7 #Global Variable\n",
    "b=1 \n",
    "def abc():\n",
    "    a=8\n",
    "    b=20\n",
    "    global c\n",
    "    c='Pakistan'\n",
    "    return a,b,c\n",
    "    \n",
    "    print(abc())#call function and return local variable value\n",
    "    print(a)"
   ]
  },
  {
   "cell_type": "code",
   "execution_count": 4,
   "id": "2fd021dd",
   "metadata": {},
   "outputs": [],
   "source": [
    "a=7 #Global Variable\n",
    "b=1 \n",
    "z='ABC'\n",
    "def abc():\n",
    "    a=8\n",
    "    b=20\n",
    "    global c\n",
    "    c='Pakistan'\n",
    "    return a,b,c\n",
    "    \n",
    "    print(abc())#call function and return local variable value\n",
    "    print(z)"
   ]
  },
  {
   "cell_type": "code",
   "execution_count": 5,
   "id": "5ade1e78",
   "metadata": {},
   "outputs": [
    {
     "data": {
      "text/plain": [
       "True"
      ]
     },
     "execution_count": 5,
     "metadata": {},
     "output_type": "execute_result"
    }
   ],
   "source": [
    "a =5\n",
    "b =5\n",
    "a==b  #Compare Values"
   ]
  },
  {
   "cell_type": "code",
   "execution_count": 6,
   "id": "14f820ce",
   "metadata": {},
   "outputs": [
    {
     "data": {
      "text/plain": [
       "True"
      ]
     },
     "execution_count": 6,
     "metadata": {},
     "output_type": "execute_result"
    }
   ],
   "source": [
    "a is b #compare objects"
   ]
  },
  {
   "cell_type": "code",
   "execution_count": 7,
   "id": "d4d20366",
   "metadata": {},
   "outputs": [
    {
     "name": "stdout",
     "output_type": "stream",
     "text": [
      "2090413550064\n",
      "2090413550064\n"
     ]
    }
   ],
   "source": [
    "xyz=7\n",
    "abc=7\n",
    "\n",
    "print(id(xyz)) #same object\n",
    "print(id(abc))  #same object"
   ]
  },
  {
   "cell_type": "code",
   "execution_count": 8,
   "id": "a8eec700",
   "metadata": {},
   "outputs": [
    {
     "data": {
      "text/plain": [
       "False"
      ]
     },
     "execution_count": 8,
     "metadata": {},
     "output_type": "execute_result"
    }
   ],
   "source": [
    "a=\"1\"\n",
    "b=1\n",
    "\n",
    "a==b"
   ]
  },
  {
   "cell_type": "markdown",
   "id": "5416fde5",
   "metadata": {},
   "source": [
    "# Nested Condition"
   ]
  },
  {
   "cell_type": "code",
   "execution_count": 10,
   "id": "4798b01e",
   "metadata": {},
   "outputs": [
    {
     "ename": "IndentationError",
     "evalue": "unindent does not match any outer indentation level (<tokenize>, line 10)",
     "output_type": "error",
     "traceback": [
      "\u001b[1;36m  File \u001b[1;32m<tokenize>:10\u001b[1;36m\u001b[0m\n\u001b[1;33m    elif qlt2 =='python1 test1':\u001b[0m\n\u001b[1;37m    ^\u001b[0m\n\u001b[1;31mIndentationError\u001b[0m\u001b[1;31m:\u001b[0m unindent does not match any outer indentation level\n"
     ]
    }
   ],
   "source": [
    "course==\"CNC\"\n",
    "\n",
    "q1t1=\"AI for everyone\"\n",
    "q1t2=\"python1 test\"\n",
    "q1t3=\"python2 test\"\n",
    "\n",
    "if course==\"AI\":\n",
    "     if q1t1=='AI for everyone' and q1t3=='python2 test':\n",
    "        print('attempt 1st and Last Quiz')\n",
    "    elif qlt2 =='python1 test1':\n",
    "        print('attempt 1st and 2nd Quiz')\n",
    "    elif q1t1=='Pakistan':\n",
    "        print('Pakistan Zindabad')  \n",
    "    else:\n",
    "        print(\"Not Attempt any Quiz\")\n",
    "else:\n",
    "    print('He or She is not an AI student')"
   ]
  },
  {
   "cell_type": "code",
   "execution_count": 11,
   "id": "a456770d",
   "metadata": {},
   "outputs": [
    {
     "ename": "IndentationError",
     "evalue": "unexpected indent (478016556.py, line 4)",
     "output_type": "error",
     "traceback": [
      "\u001b[1;36m  Input \u001b[1;32mIn [11]\u001b[1;36m\u001b[0m\n\u001b[1;33m    '''\u001b[0m\n\u001b[1;37m    ^\u001b[0m\n\u001b[1;31mIndentationError\u001b[0m\u001b[1;31m:\u001b[0m unexpected indent\n"
     ]
    }
   ],
   "source": [
    "#if q1t1=='AI for everyone' and q1t3=='python2 test':\n",
    "       # print('attempt 1st and Last Quiz')\n",
    " \n",
    " '''\n",
    " elif qlt2 =='python1 test1':\n",
    "        print('attempt 1st and 2nd Quiz')\n",
    "    elif q1t1=='Pakistan':\n",
    "        print('Pakistan Zindabad')  \n",
    "    else:\n",
    "        print(\"Not Attempt any Quiz\")\n",
    "        \n",
    " '''"
   ]
  },
  {
   "cell_type": "code",
   "execution_count": 14,
   "id": "70699df7",
   "metadata": {},
   "outputs": [
    {
     "name": "stdout",
     "output_type": "stream",
     "text": [
      "15\n"
     ]
    }
   ],
   "source": [
    "x=\"\"\"\n",
    "a=7\n",
    "b=8\n",
    "print(a+b)\n",
    "\"\"\"\n",
    "result=compile(x,\"aaa\",'exec')\n",
    "exec(result)"
   ]
  },
  {
   "cell_type": "code",
   "execution_count": 16,
   "id": "8f2438bf",
   "metadata": {},
   "outputs": [
    {
     "name": "stdout",
     "output_type": "stream",
     "text": [
      "[1, 2, 3, 4, 5, 5, 5]\n"
     ]
    }
   ],
   "source": [
    "numbers=[1,2,3,4,5,5,5]\n",
    "print(numbers)\n",
    "del numbers[-1]   #Remove func reads the text "
   ]
  },
  {
   "cell_type": "code",
   "execution_count": 17,
   "id": "35c129fc",
   "metadata": {},
   "outputs": [
    {
     "data": {
      "text/plain": [
       "{1, 2, 3, 4, 5}"
      ]
     },
     "execution_count": 17,
     "metadata": {},
     "output_type": "execute_result"
    }
   ],
   "source": [
    "numbers=[1,2,3,4,5,5,5]\n",
    "set(numbers)"
   ]
  },
  {
   "cell_type": "code",
   "execution_count": 18,
   "id": "b61d9c7c",
   "metadata": {},
   "outputs": [
    {
     "data": {
      "text/plain": [
       "[1, 2, 3, 4, 5]"
      ]
     },
     "execution_count": 18,
     "metadata": {},
     "output_type": "execute_result"
    }
   ],
   "source": [
    "numbers=[1,2,2,3,3,1,4,5,5,5]    #set function gives out a unique value\n",
    "list(set(numbers))"
   ]
  },
  {
   "cell_type": "code",
   "execution_count": 29,
   "id": "7fe8c50f",
   "metadata": {},
   "outputs": [
    {
     "ename": "IndentationError",
     "evalue": "expected an indented block (2015208695.py, line 6)",
     "output_type": "error",
     "traceback": [
      "\u001b[1;36m  Input \u001b[1;32mIn [29]\u001b[1;36m\u001b[0m\n\u001b[1;33m    full_names.append(a_first_name + \" \" +a_last_name)\u001b[0m\n\u001b[1;37m    ^\u001b[0m\n\u001b[1;31mIndentationError\u001b[0m\u001b[1;31m:\u001b[0m expected an indented block\n"
     ]
    }
   ],
   "source": [
    "first_names = [\"BlueRay \", \"Upchuck \", \"Lojack \",\"Gizmo \", \"Do-Rag \"]\n",
    "last_names = [\"Zzz\", \"Burp\", \"Dogbone\", \"Droop\"]\n",
    "full_names = []\n",
    "for a_first_name in first_names:\n",
    "    for a_last_name in last_names:\n",
    "    full_names.append(a_first_name + \" \" +a_last_name)\n",
    "\n",
    "full_names"
   ]
  },
  {
   "cell_type": "code",
   "execution_count": 33,
   "id": "18e778bd",
   "metadata": {},
   "outputs": [
    {
     "ename": "NameError",
     "evalue": "name 'tests' is not defined",
     "output_type": "error",
     "traceback": [
      "\u001b[1;31m---------------------------------------------------------------------------\u001b[0m",
      "\u001b[1;31mNameError\u001b[0m                                 Traceback (most recent call last)",
      "Input \u001b[1;32mIn [33]\u001b[0m, in \u001b[0;36m<cell line: 5>\u001b[1;34m()\u001b[0m\n\u001b[0;32m      4\u001b[0m result\u001b[38;5;241m=\u001b[39m[]\n\u001b[0;32m      5\u001b[0m \u001b[38;5;28;01mfor\u001b[39;00m name \u001b[38;5;129;01min\u001b[39;00m names:\n\u001b[1;32m----> 6\u001b[0m     \u001b[38;5;28;01mfor\u001b[39;00m test \u001b[38;5;129;01min\u001b[39;00m \u001b[43mtests\u001b[49m:\n\u001b[0;32m      7\u001b[0m         result\u001b[38;5;241m.\u001b[39mappend(name\u001b[38;5;241m+\u001b[39m\u001b[38;5;124m\"\u001b[39m\u001b[38;5;124m \u001b[39m\u001b[38;5;124m\"\u001b[39m\u001b[38;5;241m+\u001b[39mtest)\n\u001b[0;32m      9\u001b[0m result\n",
      "\u001b[1;31mNameError\u001b[0m: name 'tests' is not defined"
     ]
    }
   ],
   "source": [
    "names=['Taqwa','Adan','Komal']\n",
    "test=['AI For Everyone','python test1','python test2']\n",
    "\n",
    "result=[]\n",
    "for name in names:\n",
    "    for test in tests:\n",
    "        result.append(name+\" \"+test)\n",
    "        \n",
    "result"
   ]
  },
  {
   "cell_type": "code",
   "execution_count": 34,
   "id": "b916da12",
   "metadata": {},
   "outputs": [
    {
     "data": {
      "text/plain": [
       "{'id': 1,\n",
       " 'name': 'Taqwa Khaliq',\n",
       " 'fname': 'Fazle Khaliq',\n",
       " 'education': 'BSCS',\n",
       " 'age': 21}"
      ]
     },
     "execution_count": 34,
     "metadata": {},
     "output_type": "execute_result"
    }
   ],
   "source": [
    "d={\n",
    "    'id':1,\n",
    "    'name':'Taqwa Khaliq',\n",
    "    'fname':'Fazle Khaliq',\n",
    "    'education':'BSCS',\n",
    "     'age':21\n",
    "}\n",
    "\n",
    "d"
   ]
  },
  {
   "cell_type": "code",
   "execution_count": 36,
   "id": "6aa7f84a",
   "metadata": {},
   "outputs": [
    {
     "name": "stdout",
     "output_type": "stream",
     "text": [
      "id\n",
      "name\n",
      "fname\n",
      "education\n",
      "age\n"
     ]
    }
   ],
   "source": [
    "for abc in d:   #return keys\n",
    "    print(abc)"
   ]
  },
  {
   "cell_type": "code",
   "execution_count": 37,
   "id": "15f9e334",
   "metadata": {},
   "outputs": [
    {
     "name": "stdout",
     "output_type": "stream",
     "text": [
      "1\n",
      "Taqwa Khaliq\n",
      "Fazle Khaliq\n",
      "BSCS\n",
      "21\n"
     ]
    }
   ],
   "source": [
    "for abc in d.values():   #return values\n",
    "    print(abc)"
   ]
  },
  {
   "cell_type": "code",
   "execution_count": 38,
   "id": "ef0d5f66",
   "metadata": {},
   "outputs": [
    {
     "name": "stdout",
     "output_type": "stream",
     "text": [
      "('id', 1)\n",
      "('name', 'Taqwa Khaliq')\n",
      "('fname', 'Fazle Khaliq')\n",
      "('education', 'BSCS')\n",
      "('age', 21)\n"
     ]
    }
   ],
   "source": [
    "for abc in d.items():   #return items\n",
    "    print(abc)"
   ]
  },
  {
   "cell_type": "code",
   "execution_count": 39,
   "id": "752c6e64",
   "metadata": {},
   "outputs": [
    {
     "name": "stdout",
     "output_type": "stream",
     "text": [
      "id 1\n",
      "name Taqwa Khaliq\n",
      "fname Fazle Khaliq\n",
      "education BSCS\n",
      "age 21\n"
     ]
    }
   ],
   "source": [
    "for k,v in d.items():  #return keys and values both\n",
    "    print(k,v)"
   ]
  },
  {
   "cell_type": "code",
   "execution_count": 40,
   "id": "1639580d",
   "metadata": {},
   "outputs": [
    {
     "data": {
      "text/plain": [
       "dict_keys(['id', 'name', 'fname', 'education', 'age'])"
      ]
     },
     "execution_count": 40,
     "metadata": {},
     "output_type": "execute_result"
    }
   ],
   "source": [
    "d.keys()"
   ]
  },
  {
   "cell_type": "code",
   "execution_count": 41,
   "id": "d507c18c",
   "metadata": {},
   "outputs": [
    {
     "data": {
      "text/plain": [
       "dict_values([1, 'Taqwa Khaliq', 'Fazle Khaliq', 'BSCS', 21])"
      ]
     },
     "execution_count": 41,
     "metadata": {},
     "output_type": "execute_result"
    }
   ],
   "source": [
    "d.values()"
   ]
  },
  {
   "cell_type": "code",
   "execution_count": 42,
   "id": "62ac1a5a",
   "metadata": {},
   "outputs": [
    {
     "data": {
      "text/plain": [
       "dict_items([('id', 1), ('name', 'Taqwa Khaliq'), ('fname', 'Fazle Khaliq'), ('education', 'BSCS'), ('age', 21)])"
      ]
     },
     "execution_count": 42,
     "metadata": {},
     "output_type": "execute_result"
    }
   ],
   "source": [
    "d.items()"
   ]
  },
  {
   "cell_type": "markdown",
   "id": "b27384b7",
   "metadata": {},
   "source": [
    "# List Of Dictionaary"
   ]
  },
  {
   "cell_type": "code",
   "execution_count": 44,
   "id": "baebe660",
   "metadata": {},
   "outputs": [],
   "source": [
    "students=[\n",
    "    {'id':1,\n",
    "    'name':'Taqwa'},\n",
    "  {  'id':2,\n",
    "   'name':'Komal'},\n",
    "    {\n",
    "        'id':3,\n",
    "        'name':'Adan'\n",
    "    }\n",
    "]   "
   ]
  },
  {
   "cell_type": "code",
   "execution_count": 45,
   "id": "fd37c2aa",
   "metadata": {},
   "outputs": [
    {
     "data": {
      "text/plain": [
       "{'id': 1, 'name': 'Taqwa'}"
      ]
     },
     "execution_count": 45,
     "metadata": {},
     "output_type": "execute_result"
    }
   ],
   "source": [
    "students[0]"
   ]
  },
  {
   "cell_type": "code",
   "execution_count": 46,
   "id": "a83f68e2",
   "metadata": {},
   "outputs": [
    {
     "data": {
      "text/plain": [
       "'Taqwa'"
      ]
     },
     "execution_count": 46,
     "metadata": {},
     "output_type": "execute_result"
    }
   ],
   "source": [
    "students[0]['name']"
   ]
  },
  {
   "cell_type": "code",
   "execution_count": 47,
   "id": "dfb3acdf",
   "metadata": {},
   "outputs": [
    {
     "data": {
      "text/plain": [
       "[{'id': 1, 'name': 'Taqwa'},\n",
       " {'id': 2, 'name': 'Komal'},\n",
       " {'id': 3, 'name': 'Adan'},\n",
       " {'id': 4, 'name': 'Taqwa'}]"
      ]
     },
     "execution_count": 47,
     "metadata": {},
     "output_type": "execute_result"
    }
   ],
   "source": [
    "new_st={'id':4,\n",
    "        'name':'Taqwa'}\n",
    "\n",
    "students.append(new_st)\n",
    "\n",
    "students"
   ]
  },
  {
   "cell_type": "code",
   "execution_count": 48,
   "id": "0533e181",
   "metadata": {},
   "outputs": [
    {
     "data": {
      "text/plain": [
       "[{'id': 1, 'name': 'Taqwa', 'skills': ['python', 'tensorflow', 'aws']},\n",
       " {'id': 2, 'name': 'Komal'},\n",
       " {'id': 3, 'name': 'Adan'},\n",
       " {'id': 4, 'name': 'Taqwa'}]"
      ]
     },
     "execution_count": 48,
     "metadata": {},
     "output_type": "execute_result"
    }
   ],
   "source": [
    "students[0]['skills']=['python','tensorflow','aws']\n",
    "students"
   ]
  },
  {
   "cell_type": "code",
   "execution_count": 49,
   "id": "956acc97",
   "metadata": {},
   "outputs": [
    {
     "data": {
      "text/plain": [
       "['python', 'tensorflow', 'aws']"
      ]
     },
     "execution_count": 49,
     "metadata": {},
     "output_type": "execute_result"
    }
   ],
   "source": [
    "students[0]['skills']"
   ]
  },
  {
   "cell_type": "code",
   "execution_count": 50,
   "id": "de178368",
   "metadata": {},
   "outputs": [
    {
     "data": {
      "text/plain": [
       "'tensorflow'"
      ]
     },
     "execution_count": 50,
     "metadata": {},
     "output_type": "execute_result"
    }
   ],
   "source": [
    "students[0]['skills'][1]"
   ]
  },
  {
   "cell_type": "code",
   "execution_count": 52,
   "id": "1aa2181e",
   "metadata": {},
   "outputs": [
    {
     "data": {
      "text/plain": [
       "{'VIT': '7 years', 'MITI': '5 years'}"
      ]
     },
     "execution_count": 52,
     "metadata": {},
     "output_type": "execute_result"
    }
   ],
   "source": [
    "Dict={\n",
    "    'name':'Taqwa',\n",
    "    'fname':'Fazle Khaliq',\n",
    "    'skills':['python','AI'],\n",
    "    'Job Experience':{'VIT':'7 years',\n",
    "                      'MITI':'5 years'}\n",
    "}\n",
    "Dict['Job Experience']"
   ]
  },
  {
   "cell_type": "code",
   "execution_count": 54,
   "id": "86e756cb",
   "metadata": {},
   "outputs": [
    {
     "data": {
      "text/plain": [
       "'5 years'"
      ]
     },
     "execution_count": 54,
     "metadata": {},
     "output_type": "execute_result"
    }
   ],
   "source": [
    "Dict['Job Experience']['MITI']"
   ]
  },
  {
   "cell_type": "code",
   "execution_count": null,
   "id": "725b2f61",
   "metadata": {},
   "outputs": [],
   "source": [
    "Paradiam\n",
    "*Linear Programming\n",
    "*Structural/procedural/control_block/sub_routing\n",
    "*Object Oriented Programming"
   ]
  },
  {
   "cell_type": "code",
   "execution_count": 56,
   "id": "cf3cddca",
   "metadata": {},
   "outputs": [
    {
     "name": "stdout",
     "output_type": "stream",
     "text": [
      "Pakistan Zinabad\n",
      "Pakistan Zinabad\n",
      "Pakistan Zinabad\n",
      "Pakistan Zinabad\n",
      "Pakistan Zinabad\n",
      "Pakistan Zinabad\n",
      "Pakistan Zinabad\n"
     ]
    }
   ],
   "source": [
    "print(\"Pakistan Zinabad\")\n",
    "print(\"Pakistan Zinabad\")\n",
    "print(\"Pakistan Zinabad\")\n",
    "print(\"Pakistan Zinabad\")\n",
    "print(\"Pakistan Zinabad\")\n",
    "print(\"Pakistan Zinabad\")\n",
    "print(\"Pakistan Zinabad\")"
   ]
  },
  {
   "cell_type": "code",
   "execution_count": 57,
   "id": "19c6e8ad",
   "metadata": {},
   "outputs": [
    {
     "name": "stdout",
     "output_type": "stream",
     "text": [
      "Pakistan Zindabad\n",
      "Pakistan Zindabad\n",
      "Pakistan Zindabad\n",
      "Pakistan Zindabad\n",
      "Pakistan Zindabad\n",
      "Pakistan Zindabad\n",
      "Pakistan Zindabad\n",
      "Pakistan Zindabad\n",
      "Pakistan Zindabad\n",
      "Pakistan Zindabad\n"
     ]
    }
   ],
   "source": [
    "for i in range(10):\n",
    "    print(\"Pakistan Zindabad\")"
   ]
  },
  {
   "cell_type": "code",
   "execution_count": 58,
   "id": "683691a6",
   "metadata": {},
   "outputs": [],
   "source": [
    "def taq_speak():\n",
    "    pass\n",
    "def taq_listening():\n",
    "    pass\n",
    "def taq_eating():\n",
    "    pass\n",
    "\n",
    "def nim_speak():\n",
    "    pass\n",
    "def nim_list():\n",
    "    pass\n",
    "def nim_eating():\n",
    "    pass"
   ]
  },
  {
   "cell_type": "code",
   "execution_count": null,
   "id": "74d057ee",
   "metadata": {},
   "outputs": [],
   "source": []
  }
 ],
 "metadata": {
  "kernelspec": {
   "display_name": "Python 3 (ipykernel)",
   "language": "python",
   "name": "python3"
  },
  "language_info": {
   "codemirror_mode": {
    "name": "ipython",
    "version": 3
   },
   "file_extension": ".py",
   "mimetype": "text/x-python",
   "name": "python",
   "nbconvert_exporter": "python",
   "pygments_lexer": "ipython3",
   "version": "3.9.12"
  }
 },
 "nbformat": 4,
 "nbformat_minor": 5
}
