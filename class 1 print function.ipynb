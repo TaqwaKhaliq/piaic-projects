{
 "cells": [
  {
   "cell_type": "markdown",
   "id": "530a6eec",
   "metadata": {},
   "source": [
    "# Use of Pre Defined Function \"Print()\""
   ]
  },
  {
   "cell_type": "code",
   "execution_count": 1,
   "id": "8f39464f",
   "metadata": {},
   "outputs": [
    {
     "name": "stdout",
     "output_type": "stream",
     "text": [
      "Hello World\n"
     ]
    }
   ],
   "source": [
    "print(\"Hello World\")"
   ]
  },
  {
   "cell_type": "code",
   "execution_count": 2,
   "id": "5a59b842",
   "metadata": {},
   "outputs": [
    {
     "name": "stdout",
     "output_type": "stream",
     "text": [
      "Pakistan Zindabad=============\n"
     ]
    }
   ],
   "source": [
    "print(\"Pakistan Zindabad=============\")"
   ]
  },
  {
   "cell_type": "code",
   "execution_count": 3,
   "id": "05e5358c",
   "metadata": {},
   "outputs": [
    {
     "name": "stdout",
     "output_type": "stream",
     "text": [
      "Hello\n"
     ]
    }
   ],
   "source": [
    "print(\"Hello\")"
   ]
  },
  {
   "cell_type": "code",
   "execution_count": 4,
   "id": "4581d07f",
   "metadata": {},
   "outputs": [
    {
     "name": "stdout",
     "output_type": "stream",
     "text": [
      "ABC\n"
     ]
    }
   ],
   "source": [
    "print(\"ABC\")"
   ]
  },
  {
   "cell_type": "code",
   "execution_count": 5,
   "id": "8689f568",
   "metadata": {},
   "outputs": [
    {
     "name": "stdout",
     "output_type": "stream",
     "text": [
      "adfght\n"
     ]
    }
   ],
   "source": [
    "print(\"adfght\")"
   ]
  },
  {
   "cell_type": "code",
   "execution_count": null,
   "id": "56061b46",
   "metadata": {},
   "outputs": [],
   "source": []
  }
 ],
 "metadata": {
  "kernelspec": {
   "display_name": "Python 3 (ipykernel)",
   "language": "python",
   "name": "python3"
  },
  "language_info": {
   "codemirror_mode": {
    "name": "ipython",
    "version": 3
   },
   "file_extension": ".py",
   "mimetype": "text/x-python",
   "name": "python",
   "nbconvert_exporter": "python",
   "pygments_lexer": "ipython3",
   "version": "3.9.12"
  }
 },
 "nbformat": 4,
 "nbformat_minor": 5
}
