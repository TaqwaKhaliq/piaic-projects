{
 "cells": [
  {
   "cell_type": "markdown",
   "id": "e03d14f1",
   "metadata": {},
   "source": [
    "#   List and Tuples\n",
    "    * list mutable[,,,]\n",
    "    * list immutable(,,,)\n",
    "     \n",
    "  ## list[index]\n",
    "    extract single value from list or tuple\n",
    "   \n",
    "  ## list[start:end]\n",
    "       extract multiple values from the list or tuple(start include,end exclude one minus)\n",
    "  \n",
    "  ## list[start:end:seq]\n",
    "     extract multiple values from the list or tuple also define sequence\n",
    "     \n",
    "     "
   ]
  },
  {
   "cell_type": "code",
   "execution_count": 1,
   "id": "2bfb5418",
   "metadata": {},
   "outputs": [],
   "source": [
    "name=\"Taqwa Khaliq\""
   ]
  },
  {
   "cell_type": "code",
   "execution_count": 2,
   "id": "b6e89fb0",
   "metadata": {},
   "outputs": [],
   "source": [
    "# ->     0        1       2      3      4\n",
    "names=[\"Komal\",\"Taqwa\",\"Adan\",\"Yusra\",\"Eman\"]\n",
    "#        -5      -4    -3       -2       -1   <-\n",
    "#list[index]\n",
    "#list[start:end:seq]\n",
    "#list[start:end:seq]\n"
   ]
  },
  {
   "cell_type": "markdown",
   "id": "e25602a7",
   "metadata": {},
   "source": [
    "# list[index]\n",
    " extract single value from list or tuple"
   ]
  },
  {
   "cell_type": "code",
   "execution_count": 3,
   "id": "8d58538e",
   "metadata": {},
   "outputs": [
    {
     "name": "stdout",
     "output_type": "stream",
     "text": [
      "['Komal', 'Taqwa', 'Adan', 'Yusra', 'Eman']\n",
      "Eman\n",
      "Adan\n"
     ]
    }
   ],
   "source": [
    "# ->     0        1       2      3      4\n",
    "names=[\"Komal\",\"Taqwa\",\"Adan\",\"Yusra\",\"Eman\"] \n",
    "#        -5      -4    -3       -2       -1   <-\n",
    "print(names)\n",
    "print(names[4])#extract values with positive index\n",
    "print(names[-3])#extract values with negative index"
   ]
  },
  {
   "cell_type": "code",
   "execution_count": 4,
   "id": "9a1b1369",
   "metadata": {},
   "outputs": [
    {
     "name": "stdout",
     "output_type": "stream",
     "text": [
      "Before ['Komal', 'Taqwa', 'Adan', 'Yusra', 'Eman']\n",
      "After ['Taqwa Khaliq', 'Taqwa', 'Adan', 'Yusra', 'Eman']\n"
     ]
    }
   ],
   "source": [
    "# ->     0        1       2      3      4\n",
    "names=[\"Komal\",\"Taqwa\",\"Adan\",\"Yusra\",\"Eman\"] #elements,items\n",
    "#        -5      -4    -3       -2       -1   <-\n",
    "print(\"Before\",names)\n",
    "\n",
    "names[0]=\"Taqwa Khaliq\"   #update value with index number\n",
    "print(\"After\",names)"
   ]
  },
  {
   "cell_type": "code",
   "execution_count": 5,
   "id": "cd27d9b1",
   "metadata": {},
   "outputs": [
    {
     "data": {
      "text/plain": [
       "['Taqwa Khaliq', 'Taqwa', 'Adan', 'Yusra', 'Eman']"
      ]
     },
     "execution_count": 5,
     "metadata": {},
     "output_type": "execute_result"
    }
   ],
   "source": [
    "names"
   ]
  },
  {
   "cell_type": "markdown",
   "id": "3b9183c3",
   "metadata": {},
   "source": [
    "## list[start:end]"
   ]
  },
  {
   "cell_type": "markdown",
   "id": "a6049a3b",
   "metadata": {},
   "source": [
    "# Slicing(extract multiple values in a sequence)\n",
    "  extract multiple values from list or tuple(start include,end exclude,index-1)\n",
    "\n",
    "   esc->m->shift+enter"
   ]
  },
  {
   "cell_type": "code",
   "execution_count": 5,
   "id": "83690cc1",
   "metadata": {},
   "outputs": [
    {
     "name": "stdout",
     "output_type": "stream",
     "text": [
      "['Taqwa', 'Adan']\n",
      "['Taqwa', 'Adan', 'Yusra']\n",
      "['Taqwa', 'Adan', 'Yusra', 'Eman']\n"
     ]
    }
   ],
   "source": [
    "# ->     0        1       2      3      4\n",
    "names=[\"Komal\",\"Taqwa\",\"Adan\",\"Yusra\",\"Eman\"] #elements,items\n",
    "#        -5      -4    -3       -2       -1   <-\n",
    "\n",
    "print(names[1:3]) #start include,end exclude index-1\n",
    "print(names[1:4])\n",
    "print(names[1:5])\n"
   ]
  },
  {
   "cell_type": "code",
   "execution_count": 6,
   "id": "64745b0d",
   "metadata": {},
   "outputs": [
    {
     "name": "stdout",
     "output_type": "stream",
     "text": [
      "Komal\n",
      "Taqwa\n",
      "Adan\n",
      "Yusra\n",
      "Eman\n"
     ]
    }
   ],
   "source": [
    "names=[\"Komal\",\"Taqwa\",\"Adan\",\"Yusra\",\"Eman\"] #elements,items\n",
    "\n",
    "i = 0\n",
    "while i<len(names):\n",
    "    print(names[i])\n",
    "    i += 1"
   ]
  },
  {
   "cell_type": "code",
   "execution_count": 7,
   "id": "b8cf6541",
   "metadata": {},
   "outputs": [
    {
     "name": "stdout",
     "output_type": "stream",
     "text": [
      "start no:1\n",
      "end no:4\n",
      "Taqwa\n",
      "Adan\n",
      "Yusra\n"
     ]
    }
   ],
   "source": [
    "names=[\"Komal\",\"Taqwa\",\"Adan\",\"Yusra\",\"Eman\"] #elements,items\n",
    "\n",
    "s=int(input(\"start no:\"))\n",
    "e=int(input(\"end no:\"))\n",
    "i=s\n",
    "while  i<e:\n",
    "    print(names[i])\n",
    "    i += 1"
   ]
  },
  {
   "cell_type": "markdown",
   "id": "d57ab48d",
   "metadata": {},
   "source": [
    "# list[start:end:seq]\n",
    "  extract multiple values from list or tuple also define sequance\n",
    "  \n",
    "  start = include\n",
    "  \n",
    "    end = exclude or index-1\n",
    "    \n",
    "  sequance = steps (defualt value of step=1)\n",
    "  \n",
    "    range(start,end,step)"
   ]
  },
  {
   "cell_type": "code",
   "execution_count": 9,
   "id": "1d2af51e",
   "metadata": {},
   "outputs": [
    {
     "name": "stdout",
     "output_type": "stream",
     "text": [
      "[1, 2, 3, 4, 5, 6, 7, 8, 9, 10, 11, 12, 13, 14, 15, 16, 17, 18, 19, 20]\n"
     ]
    }
   ],
   "source": [
    "numbers=list(range(1,21))\n",
    "print(numbers)"
   ]
  },
  {
   "cell_type": "code",
   "execution_count": 10,
   "id": "acd47c8a",
   "metadata": {},
   "outputs": [
    {
     "name": "stdout",
     "output_type": "stream",
     "text": [
      "[1, 2, 3, 4, 5, 6, 7, 8, 9, 10, 11, 12, 13, 14, 15, 16, 17, 18, 19, 20]\n",
      "[9, 10, 11, 12, 13, 14, 15, 16, 17, 18, 19, 20]\n"
     ]
    }
   ],
   "source": [
    "numbers=list(range(1,21))\n",
    "print(numbers)\n",
    "#[start:end:step]\n",
    "print(numbers[8:])"
   ]
  },
  {
   "cell_type": "code",
   "execution_count": 8,
   "id": "c6763332",
   "metadata": {},
   "outputs": [
    {
     "name": "stdout",
     "output_type": "stream",
     "text": [
      "[1, 2, 3, 4, 5, 6, 7, 8, 9, 10, 11, 12, 13, 14, 15, 16, 17, 18, 19, 20]\n",
      "[1, 2, 3, 4, 5, 6, 7, 8, 9, 10, 11, 12, 13, 14, 15, 16]\n"
     ]
    }
   ],
   "source": [
    "numbers = [1,2,3,4,5,6,7,8,9,10,11,12,13,14,15,16,17,18,19,20]\n",
    "print(numbers)\n",
    "#[start:end:step]\n",
    "print(numbers[:16])"
   ]
  },
  {
   "cell_type": "code",
   "execution_count": 12,
   "id": "2c343a3c",
   "metadata": {},
   "outputs": [
    {
     "name": "stdout",
     "output_type": "stream",
     "text": [
      "[1, 2, 3, 4, 5, 6, 7, 8, 9, 10, 11, 12, 13, 14, 15, 16, 17, 18, 19, 20]\n",
      "[8, 9, 10, 11, 12, 13, 14, 15, 16]\n"
     ]
    }
   ],
   "source": [
    "numbers = [1,2,3,4,5,6,7,8,9,10,11,12,13,14,15,16,17,18,19,20]\n",
    "print(numbers)\n",
    "#[start:end:step]\n",
    "print(numbers[7:16]) #numbers[7:16:1]"
   ]
  },
  {
   "cell_type": "code",
   "execution_count": 13,
   "id": "e6a9796a",
   "metadata": {},
   "outputs": [
    {
     "name": "stdout",
     "output_type": "stream",
     "text": [
      "[1, 2, 3, 4, 5, 6, 7, 8, 9, 10, 11, 12, 13, 14, 15, 16, 17, 18, 19, 20]\n",
      "[1, 3, 5, 7, 9, 11, 13, 15, 17, 19]\n"
     ]
    }
   ],
   "source": [
    "numbers = [1,2,3,4,5,6,7,8,9,10,11,12,13,14,15,16,17,18,19,20]\n",
    "print(numbers)\n",
    "#[start:end:step]\n",
    "print(numbers[::2]) #numbers[7:16:1]"
   ]
  },
  {
   "cell_type": "code",
   "execution_count": 14,
   "id": "f78a6341",
   "metadata": {},
   "outputs": [
    {
     "name": "stdout",
     "output_type": "stream",
     "text": [
      "[1, 2, 3, 4, 5, 6, 7, 8, 9, 10, 11, 12, 13, 14, 15, 16, 17, 18, 19, 20]\n",
      "[1, 4, 7, 10, 13, 16, 19]\n"
     ]
    }
   ],
   "source": [
    "numbers = [1,2,3,4,5,6,7,8,9,10,11,12,13,14,15,16,17,18,19,20]\n",
    "print(numbers)\n",
    "#[start:end:step]\n",
    "print(numbers[::3]) #numbers[7:16:1]"
   ]
  },
  {
   "cell_type": "code",
   "execution_count": null,
   "id": "2cf1f9d2",
   "metadata": {},
   "outputs": [],
   "source": [
    "# if step=1(slicing left to right)\n",
    " #if step=-1(slicing right to left)"
   ]
  },
  {
   "cell_type": "code",
   "execution_count": 21,
   "id": "eadf0932",
   "metadata": {},
   "outputs": [
    {
     "name": "stdout",
     "output_type": "stream",
     "text": [
      "[1, 2, 3, 4, 5, 6, 7, 8, 9, 10, 11, 12, 13, 14, 15, 16, 17, 18, 19, 20]\n",
      "[20, 19, 18, 17, 16, 15, 14, 13, 12, 11, 10, 9, 8, 7, 6, 5, 4, 3, 2, 1]\n"
     ]
    }
   ],
   "source": [
    "numbers = [1,2,3,4,5,6,7,8,9,10,11,12,13,14,15,16,17,18,19,20]\n",
    "print(numbers)\n",
    "#[start:end:step]\n",
    "print(numbers[::-1]) # right to left"
   ]
  },
  {
   "cell_type": "code",
   "execution_count": 22,
   "id": "6c6c9997",
   "metadata": {},
   "outputs": [
    {
     "name": "stdout",
     "output_type": "stream",
     "text": [
      "[1, 2, 3, 4, 5, 6, 7, 8, 9, 10, 11, 12, 13, 14, 15, 16, 17, 18, 19, 20]\n",
      "[]\n",
      "[20, 19, 18, 17, 16, 15, 14, 13, 12, 11, 10, 9, 8, 7, 6, 5, 4, 3, 2, 1]\n",
      "[10, 9, 8, 7, 6, 5, 4, 3, 2, 1]\n",
      "[10, 9, 8, 7, 6, 5, 4, 3, 2, 1]\n"
     ]
    }
   ],
   "source": [
    "numbers=[1,2,3,4,5,6,7,8,9,10,11,12,13,14,15,16,17,18,19,20]\n",
    "print(numbers)\n",
    "#[start:end:step]\n",
    "print(numbers[0:10:-1])#right to left\n",
    "print(numbers[::-1])#right to left\n",
    "print(numbers[-11:-21:-1])\n",
    "print(numbers[9::-1])"
   ]
  },
  {
   "cell_type": "code",
   "execution_count": 24,
   "id": "917f44cd",
   "metadata": {},
   "outputs": [
    {
     "name": "stdout",
     "output_type": "stream",
     "text": [
      "[1, 2, 3, 4, 5]\n",
      "[5, 4, 3, 2, 1]\n",
      "[4, 3, 2]\n",
      "[4, 3, 2]\n"
     ]
    }
   ],
   "source": [
    "numbers=[1,2,3,4,5]\n",
    "print(numbers)\n",
    "print(numbers[::-1])\n",
    "print(numbers[3:0:-1])#4,3,2\n",
    "print(numbers[-2:-5:-1])#4,3,2\n"
   ]
  },
  {
   "cell_type": "code",
   "execution_count": 25,
   "id": "b00bb9fd",
   "metadata": {},
   "outputs": [
    {
     "name": "stdout",
     "output_type": "stream",
     "text": [
      "[1, 2, 3, 4, 5]\n",
      "[]\n",
      "[1, 2, 3]\n",
      "[3, 2, 1]\n"
     ]
    }
   ],
   "source": [
    "numbers = [1,2,3,4,5]\n",
    "print(numbers)\n",
    "print(numbers[-2:-5:]) #4,3,2\n",
    "print(numbers[-5:-2:1])\n",
    "print(numbers[2::-1])\n"
   ]
  },
  {
   "cell_type": "markdown",
   "id": "fb5225fc",
   "metadata": {},
   "source": [
    "# List Methods"
   ]
  },
  {
   "cell_type": "code",
   "execution_count": 3,
   "id": "ffa563db",
   "metadata": {},
   "outputs": [
    {
     "data": {
      "text/plain": [
       "['Komal', 'Taqwa', 'Adan', 'Yusra', 'Eman']"
      ]
     },
     "execution_count": 3,
     "metadata": {},
     "output_type": "execute_result"
    }
   ],
   "source": [
    "names=[\"Komal\",\"Taqwa\",\"Adan\",\"Yusra\",\"Eman\"]\n",
    "names"
   ]
  },
  {
   "cell_type": "code",
   "execution_count": 4,
   "id": "4aa69a2e",
   "metadata": {},
   "outputs": [
    {
     "data": {
      "text/plain": [
       "['__add__',\n",
       " '__class__',\n",
       " '__class_getitem__',\n",
       " '__contains__',\n",
       " '__delattr__',\n",
       " '__delitem__',\n",
       " '__dir__',\n",
       " '__doc__',\n",
       " '__eq__',\n",
       " '__format__',\n",
       " '__ge__',\n",
       " '__getattribute__',\n",
       " '__getitem__',\n",
       " '__gt__',\n",
       " '__hash__',\n",
       " '__iadd__',\n",
       " '__imul__',\n",
       " '__init__',\n",
       " '__init_subclass__',\n",
       " '__iter__',\n",
       " '__le__',\n",
       " '__len__',\n",
       " '__lt__',\n",
       " '__mul__',\n",
       " '__ne__',\n",
       " '__new__',\n",
       " '__reduce__',\n",
       " '__reduce_ex__',\n",
       " '__repr__',\n",
       " '__reversed__',\n",
       " '__rmul__',\n",
       " '__setattr__',\n",
       " '__setitem__',\n",
       " '__sizeof__',\n",
       " '__str__',\n",
       " '__subclasshook__',\n",
       " 'append',\n",
       " 'clear',\n",
       " 'copy',\n",
       " 'count',\n",
       " 'extend',\n",
       " 'index',\n",
       " 'insert',\n",
       " 'pop',\n",
       " 'remove',\n",
       " 'reverse',\n",
       " 'sort']"
      ]
     },
     "execution_count": 4,
     "metadata": {},
     "output_type": "execute_result"
    }
   ],
   "source": [
    "dir(names)"
   ]
  },
  {
   "cell_type": "code",
   "execution_count": 11,
   "id": "b7ba70a4",
   "metadata": {},
   "outputs": [
    {
     "name": "stdout",
     "output_type": "stream",
     "text": [
      "['Komal', 'Taqwa', 'Adan', 'Yusra', 'Eman', 'Areeba', 'Maham']\n",
      "['Komal', 'Taqwa', 'Adan', 'Yusra', 'Eman', 'Areeba', 'Maham', 'Areeba']\n"
     ]
    }
   ],
   "source": [
    "print(names)\n",
    "names.append(\"Areeba\") #add element in the list at all\n",
    "print(names)"
   ]
  },
  {
   "cell_type": "code",
   "execution_count": 6,
   "id": "1d2fe697",
   "metadata": {},
   "outputs": [],
   "source": [
    "names.append(\"Maham\")"
   ]
  },
  {
   "cell_type": "code",
   "execution_count": 7,
   "id": "1e8ec6ee",
   "metadata": {},
   "outputs": [
    {
     "data": {
      "text/plain": [
       "['Komal', 'Taqwa', 'Adan', 'Yusra', 'Eman', 'Areeba', 'Maham']"
      ]
     },
     "execution_count": 7,
     "metadata": {},
     "output_type": "execute_result"
    }
   ],
   "source": [
    "names"
   ]
  },
  {
   "cell_type": "code",
   "execution_count": 10,
   "id": "881ba1ac",
   "metadata": {},
   "outputs": [
    {
     "name": "stdout",
     "output_type": "stream",
     "text": [
      "[1, 2, 3, 4, 5, 6, 7, 8, 9, 10, 11, 12, 13, 14, 15, 16, 17, 18, 19, 20]\n",
      "[]\n"
     ]
    }
   ],
   "source": [
    "print(numbers)\n",
    "numbers.clear()\n",
    "print(numbers)"
   ]
  },
  {
   "cell_type": "code",
   "execution_count": 12,
   "id": "6e392e3f",
   "metadata": {},
   "outputs": [
    {
     "name": "stdout",
     "output_type": "stream",
     "text": [
      "['Komal', 'Taqwa', 'Adan', 'Yusra', 'Eman', 'Areeba', 'Maham', 'Areeba']\n",
      "['Komal', 'Taqwa', 'Adan', 'Yusra', 'Eman', 'Areeba', 'Maham', 'Areeba']\n",
      "['Taqwa Khaliq', 'Taqwa', 'Adan', 'Yusra', 'Eman', 'Areeba', 'Maham', 'Areeba']\n",
      "['Taqwa Khaliq', 'Taqwa', 'Adan', 'Yusra', 'Eman', 'Areeba', 'Maham', 'Areeba']\n"
     ]
    }
   ],
   "source": [
    "sname=names\n",
    "print(sname)\n",
    "print(names)\n",
    "names[0]=\"Taqwa Khaliq\"\n",
    "print(sname)\n",
    "print(names)"
   ]
  },
  {
   "cell_type": "code",
   "execution_count": 14,
   "id": "2ed3c5f0",
   "metadata": {},
   "outputs": [
    {
     "name": "stdout",
     "output_type": "stream",
     "text": [
      "['1', '2', '3']\n",
      "['1', '2', '3']\n"
     ]
    }
   ],
   "source": [
    "l1=['1','2','3']\n",
    "l2=l1.copy()\n",
    "print(l1)\n",
    "print(l2)"
   ]
  },
  {
   "cell_type": "code",
   "execution_count": 15,
   "id": "4c44d682",
   "metadata": {},
   "outputs": [
    {
     "name": "stdout",
     "output_type": "stream",
     "text": [
      "['1', 'ABC', '3']\n",
      "['1', '2', '3']\n"
     ]
    }
   ],
   "source": [
    "l1[1]=\"ABC\"\n",
    "\n",
    "print(l1)\n",
    "print(l2)"
   ]
  },
  {
   "cell_type": "code",
   "execution_count": 16,
   "id": "59a4dc52",
   "metadata": {},
   "outputs": [
    {
     "data": {
      "text/plain": [
       "['Taqwa Khaliq', 'Taqwa', 'Adan', 'Yusra', 'Eman', 'Areeba', 'Maham', 'Areeba']"
      ]
     },
     "execution_count": 16,
     "metadata": {},
     "output_type": "execute_result"
    }
   ],
   "source": [
    "names"
   ]
  },
  {
   "cell_type": "code",
   "execution_count": 17,
   "id": "360a5db5",
   "metadata": {},
   "outputs": [
    {
     "name": "stdout",
     "output_type": "stream",
     "text": [
      "['ABC', '2', '3']\n",
      "['ABC', '2', '3']\n",
      "['ABC', '2', '3']\n",
      "['ABC', '2', '3']\n"
     ]
    }
   ],
   "source": [
    "l1=['1','2','3']\n",
    "l2=l3=l4=l1 #nick name or shallow copy\n",
    "\n",
    "l4[0]='ABC'\n",
    "\n",
    "print(l1)\n",
    "print(l2)\n",
    "print(l3)\n",
    "print(l4)"
   ]
  },
  {
   "cell_type": "code",
   "execution_count": 18,
   "id": "ced33035",
   "metadata": {},
   "outputs": [
    {
     "name": "stdout",
     "output_type": "stream",
     "text": [
      "['1', '2', '3']\n",
      "['ABC', '2', '3']\n"
     ]
    }
   ],
   "source": [
    "l1=['1','2','3']\n",
    "l4=l1.copy() #deep copy\n",
    "\n",
    "l4[0]='ABC'\n",
    "\n",
    "print(l1)\n",
    "print(l4)"
   ]
  },
  {
   "cell_type": "code",
   "execution_count": 1,
   "id": "7e277480",
   "metadata": {},
   "outputs": [
    {
     "data": {
      "text/plain": [
       "[1, 2, 3, 3, 4, 5]"
      ]
     },
     "execution_count": 1,
     "metadata": {},
     "output_type": "execute_result"
    }
   ],
   "source": [
    "l1=[1,2,3]\n",
    "l2=[3,4,5]\n",
    "l1+l2"
   ]
  },
  {
   "cell_type": "code",
   "execution_count": 4,
   "id": "733bcc3a",
   "metadata": {},
   "outputs": [
    {
     "name": "stdout",
     "output_type": "stream",
     "text": [
      "[1, 2, 3, [3, 4, 5]]\n",
      "[3, 4, 5]\n"
     ]
    }
   ],
   "source": [
    "l1=[1,2,3]\n",
    "l2=[3,4,5]\n",
    "l1.append(l2)\n",
    "    \n",
    "print(l1)\n",
    "print(l2)"
   ]
  },
  {
   "cell_type": "code",
   "execution_count": 6,
   "id": "19d58c4b",
   "metadata": {},
   "outputs": [
    {
     "name": "stdout",
     "output_type": "stream",
     "text": [
      "[1, 2, 3, 3, 4, 5]\n",
      "[3, 4, 5]\n"
     ]
    }
   ],
   "source": [
    "l1=[1,2,3]\n",
    "l2=[3,4,5]\n",
    "l1.extend(l2)\n",
    "print(l1)\n",
    "print(l2)"
   ]
  },
  {
   "cell_type": "code",
   "execution_count": 7,
   "id": "f7b81d18",
   "metadata": {},
   "outputs": [
    {
     "data": {
      "text/plain": [
       "[1, 2, 3, 3, 4, 5]"
      ]
     },
     "execution_count": 7,
     "metadata": {},
     "output_type": "execute_result"
    }
   ],
   "source": [
    "l1"
   ]
  },
  {
   "cell_type": "code",
   "execution_count": null,
   "id": "2afd8ef9",
   "metadata": {},
   "outputs": [],
   "source": []
  }
 ],
 "metadata": {
  "kernelspec": {
   "display_name": "Python 3 (ipykernel)",
   "language": "python",
   "name": "python3"
  },
  "language_info": {
   "codemirror_mode": {
    "name": "ipython",
    "version": 3
   },
   "file_extension": ".py",
   "mimetype": "text/x-python",
   "name": "python",
   "nbconvert_exporter": "python",
   "pygments_lexer": "ipython3",
   "version": "3.9.12"
  }
 },
 "nbformat": 4,
 "nbformat_minor": 5
}
