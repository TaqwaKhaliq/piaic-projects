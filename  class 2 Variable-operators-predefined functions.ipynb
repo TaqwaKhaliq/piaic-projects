{
 "cells": [
  {
   "cell_type": "markdown",
   "id": "5a3e9617",
   "metadata": {},
   "source": [
    "#   Operation   \n",
    "    \n",
    "    * Operators\n",
    "    * Operand\n",
    "    "
   ]
  },
  {
   "cell_type": "code",
   "execution_count": 1,
   "id": "c5332bf4",
   "metadata": {},
   "outputs": [
    {
     "name": "stdout",
     "output_type": "stream",
     "text": [
      "7\n"
     ]
    }
   ],
   "source": [
    "print(5+2)"
   ]
  },
  {
   "cell_type": "code",
   "execution_count": 2,
   "id": "59eb87c1",
   "metadata": {},
   "outputs": [
    {
     "name": "stdout",
     "output_type": "stream",
     "text": [
      "3\n"
     ]
    }
   ],
   "source": [
    "print(5-2)"
   ]
  },
  {
   "cell_type": "code",
   "execution_count": 3,
   "id": "d8a14ef1",
   "metadata": {},
   "outputs": [
    {
     "name": "stdout",
     "output_type": "stream",
     "text": [
      "2.5\n"
     ]
    }
   ],
   "source": [
    "print(5/2)#float"
   ]
  },
  {
   "cell_type": "code",
   "execution_count": 4,
   "id": "66aa6294",
   "metadata": {},
   "outputs": [
    {
     "name": "stdout",
     "output_type": "stream",
     "text": [
      "10\n"
     ]
    }
   ],
   "source": [
    "print(5*2)"
   ]
  },
  {
   "cell_type": "code",
   "execution_count": 5,
   "id": "d37bf965",
   "metadata": {},
   "outputs": [
    {
     "name": "stdout",
     "output_type": "stream",
     "text": [
      "25\n"
     ]
    }
   ],
   "source": [
    "print(5**2)#power"
   ]
  },
  {
   "cell_type": "code",
   "execution_count": 6,
   "id": "5a46afc4",
   "metadata": {},
   "outputs": [
    {
     "name": "stdout",
     "output_type": "stream",
     "text": [
      "2\n"
     ]
    }
   ],
   "source": [
    "print(5//2)#floor Division"
   ]
  },
  {
   "cell_type": "code",
   "execution_count": 7,
   "id": "dfd340ab",
   "metadata": {},
   "outputs": [
    {
     "name": "stdout",
     "output_type": "stream",
     "text": [
      "3\n"
     ]
    }
   ],
   "source": [
    "print(7//2)"
   ]
  },
  {
   "cell_type": "code",
   "execution_count": 8,
   "id": "5750d4de",
   "metadata": {},
   "outputs": [
    {
     "name": "stdout",
     "output_type": "stream",
     "text": [
      "2\n"
     ]
    }
   ],
   "source": [
    "print(11%3)#modulus"
   ]
  },
  {
   "cell_type": "markdown",
   "id": "aad5e3a0",
   "metadata": {},
   "source": [
    "# =equal operator\n",
    "Assign any value to variable(placeholder)syntax:\n",
    "    variable_name=value\n",
    "    ~value any datatype"
   ]
  },
  {
   "cell_type": "code",
   "execution_count": 9,
   "id": "007bbb93",
   "metadata": {},
   "outputs": [
    {
     "name": "stdout",
     "output_type": "stream",
     "text": [
      "PIAIC\n",
      "36/37\n",
      "9am to 12pm\n",
      "Muhammad Qasim\n",
      "PIAIC\n",
      "36/37\n",
      "9am to 12pm\n",
      "Muhammad Qasim\n",
      "PIAIC\n",
      "36/37\n",
      "9am to 12pm\n",
      "Muhammad Qasim\n",
      "PIAIC\n",
      "36/37\n",
      "9am to 12pm\n",
      "Muhammad Qasim\n"
     ]
    }
   ],
   "source": [
    "school=\"PIAIC\"\n",
    "batch=\"36/37\"\n",
    "teacher=\"Muhammad Qasim\"\n",
    "timing=\"9am to 12pm\"\n",
    "print(school)\n",
    "print(batch)\n",
    "print(timing)\n",
    "print(teacher)\n",
    "\n",
    "print(school)\n",
    "print(batch)\n",
    "print(timing)\n",
    "print(teacher)\n",
    "\n",
    "print(school)\n",
    "print(batch)\n",
    "print(timing)\n",
    "print(teacher)\n",
    "\n",
    "print(school)\n",
    "print(batch)\n",
    "print(timing)\n",
    "print(teacher)\n"
   ]
  },
  {
   "cell_type": "code",
   "execution_count": 10,
   "id": "00f12d9a",
   "metadata": {},
   "outputs": [
    {
     "name": "stdout",
     "output_type": "stream",
     "text": [
      "2190063177264\n",
      "2190063745520\n",
      "2190063781744\n",
      "2190063783152\n"
     ]
    }
   ],
   "source": [
    "print(id(school))\n",
    "print(id(batch))\n",
    "print(id(timing))\n",
    "print(id(teacher))"
   ]
  },
  {
   "cell_type": "code",
   "execution_count": 11,
   "id": "a7f43432",
   "metadata": {},
   "outputs": [
    {
     "name": "stdout",
     "output_type": "stream",
     "text": [
      "Taqwa Khaliq\n"
     ]
    }
   ],
   "source": [
    "name=\"Taqwa Khaliq\"\n",
    "print(name)"
   ]
  },
  {
   "cell_type": "markdown",
   "id": "1e088c80",
   "metadata": {},
   "source": [
    "#   Use some predefined functions\n",
    "    print()\n",
    "    id()\n",
    "    type()\n",
    "    len()"
   ]
  },
  {
   "cell_type": "code",
   "execution_count": 12,
   "id": "07d3f10f",
   "metadata": {},
   "outputs": [
    {
     "name": "stdout",
     "output_type": "stream",
     "text": [
      "<class 'str'>\n",
      "2190063720880\n",
      "12\n"
     ]
    }
   ],
   "source": [
    "name=\"Taqwa Khaliq\"\n",
    "print(type(name))#datatype\n",
    "print(id(name))#memory address\n",
    "print(len(name))#lenght(count number of characters)"
   ]
  },
  {
   "cell_type": "code",
   "execution_count": 13,
   "id": "635a19d0",
   "metadata": {},
   "outputs": [
    {
     "name": "stdout",
     "output_type": "stream",
     "text": [
      "2190063715376\n",
      "2190063955568\n"
     ]
    }
   ],
   "source": [
    "name=\"Taqwa Khaliq\"\n",
    "teacher_name=\"Sir Qasim\"\n",
    "print(id(name))\n",
    "print(id(teacher_name))"
   ]
  },
  {
   "cell_type": "code",
   "execution_count": 15,
   "id": "68d94e59",
   "metadata": {},
   "outputs": [
    {
     "name": "stdout",
     "output_type": "stream",
     "text": [
      "2190063953968\n",
      "2190063953968\n"
     ]
    }
   ],
   "source": [
    "a=\"Artificial\"\n",
    "b=\"Artificial\"\n",
    "print(id(a))\n",
    "print(id(b))\n"
   ]
  },
  {
   "cell_type": "code",
   "execution_count": null,
   "id": "d633f6f8",
   "metadata": {},
   "outputs": [],
   "source": []
  }
 ],
 "metadata": {
  "kernelspec": {
   "display_name": "Python 3 (ipykernel)",
   "language": "python",
   "name": "python3"
  },
  "language_info": {
   "codemirror_mode": {
    "name": "ipython",
    "version": 3
   },
   "file_extension": ".py",
   "mimetype": "text/x-python",
   "name": "python",
   "nbconvert_exporter": "python",
   "pygments_lexer": "ipython3",
   "version": "3.9.12"
  }
 },
 "nbformat": 4,
 "nbformat_minor": 5
}
