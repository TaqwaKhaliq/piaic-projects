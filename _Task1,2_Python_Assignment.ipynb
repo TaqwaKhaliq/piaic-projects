{
 "cells": [
  {
   "cell_type": "markdown",
   "id": "e0a2f05b",
   "metadata": {},
   "source": [
    "# OOPs Assignment\n",
    "  * Topic : \"Inheritence\"\n",
    "        \n",
    "## Task_1\n",
    " * Import Mother and Father Attribute\n",
    " * Add two  new attributes in the child constructor"
   ]
  },
  {
   "cell_type": "code",
   "execution_count": 15,
   "id": "84e14747",
   "metadata": {},
   "outputs": [],
   "source": [
    "class Father():\n",
    "    def __init__(self):\n",
    "        self.name=name\n",
    "        self.fname=None\n",
    "        self.color='whitish'\n",
    "        self.hair_color='dark brown'\n",
    "        \n",
    "    def speak(self):\n",
    "        return 'hahahaha!'\n",
    "    \n",
    "class Mother():\n",
    "    def __init__(self):\n",
    "           self.height='5.8'\n",
    "           self.color='white'\n",
    "    def silent(self):\n",
    "         return '.....'\n",
    "        \n",
    "class Child(Father,Mother):  # If we write Mother first in the child classs argument\n",
    "               pass              #then child characteristics will dominate mothers attribute  \n",
    "        "
   ]
  },
  {
   "cell_type": "code",
   "execution_count": 17,
   "id": "1d4b1f73",
   "metadata": {},
   "outputs": [
    {
     "name": "stdout",
     "output_type": "stream",
     "text": [
      "['color', 'fname', 'hair_color', 'name', 'speak']\n"
     ]
    }
   ],
   "source": [
    "c1=Child()\n",
    "print([i for i in dir(c1) if '__' not in i])"
   ]
  },
  {
   "cell_type": "code",
   "execution_count": 18,
   "id": "15a560fd",
   "metadata": {},
   "outputs": [],
   "source": [
    "class Child(Mother,Father):  \n",
    "               pass "
   ]
  },
  {
   "cell_type": "code",
   "execution_count": 19,
   "id": "5106ea01",
   "metadata": {},
   "outputs": [
    {
     "name": "stdout",
     "output_type": "stream",
     "text": [
      "['color', 'height', 'silent', 'speak']\n"
     ]
    }
   ],
   "source": [
    "c1=Child()\n",
    "print([i for i in dir(c1) if '__' not in i])"
   ]
  },
  {
   "cell_type": "code",
   "execution_count": 22,
   "id": "6c2836a2",
   "metadata": {},
   "outputs": [],
   "source": [
    "class Child():\n",
    "    def __init__(self):\n",
    "           self.grade='A'\n",
    "           self.IQ=68"
   ]
  },
  {
   "cell_type": "code",
   "execution_count": 23,
   "id": "c45a5ca6",
   "metadata": {},
   "outputs": [
    {
     "name": "stdout",
     "output_type": "stream",
     "text": [
      "['IQ', 'grade']\n"
     ]
    }
   ],
   "source": [
    "c1=Child()\n",
    "print([i for i in dir(c1) if '__' not in i])"
   ]
  },
  {
   "cell_type": "markdown",
   "id": "719c5eeb",
   "metadata": {},
   "source": [
    "# Overloading\n",
    "  * Task-2\n",
    "     * Create operator overloading"
   ]
  },
  {
   "cell_type": "code",
   "execution_count": 68,
   "id": "a46edea7",
   "metadata": {},
   "outputs": [
    {
     "name": "stdout",
     "output_type": "stream",
     "text": [
      "6\n"
     ]
    }
   ],
   "source": [
    "class MyMath():\n",
    "    def __init__(self):\n",
    "            pass\n",
    "        \n",
    "    def my_prod(self,num1,num2): # Overloading  in previous languages\n",
    "             return num1*num2\n",
    "        \n",
    "m1=MyMath()\n",
    "print(m1.my_prod(2,3))               \n"
   ]
  },
  {
   "cell_type": "code",
   "execution_count": 106,
   "id": "ca386ca5",
   "metadata": {},
   "outputs": [
    {
     "name": "stdout",
     "output_type": "stream",
     "text": [
      "24\n"
     ]
    }
   ],
   "source": [
    "class MyMath():\n",
    "    def __init__(self):\n",
    "            pass\n",
    "        \n",
    "    def my_prod(self,num1,num2,num3): # Overloading  in previous languages\n",
    "             return num1*num2*num3\n",
    "        \n",
    "m1=MyMath()\n",
    "print(m1.my_prod(2,3,4))   "
   ]
  },
  {
   "cell_type": "code",
   "execution_count": 108,
   "id": "569a171f",
   "metadata": {},
   "outputs": [
    {
     "name": "stdout",
     "output_type": "stream",
     "text": [
      "9.75\n"
     ]
    }
   ],
   "source": [
    "class MyMath():\n",
    "    def __init__(self):\n",
    "            pass\n",
    "        \n",
    "    def my_prod(self,num1,num2): # Overloading  in previous languages\n",
    "             return num1*num2\n",
    "        \n",
    "m1=MyMath()  \n",
    "print(m1.my_prod(2.5,3.9))\n"
   ]
  },
  {
   "cell_type": "code",
   "execution_count": 109,
   "id": "e1ce881d",
   "metadata": {},
   "outputs": [
    {
     "name": "stdout",
     "output_type": "stream",
     "text": [
      "7.199999999999999\n"
     ]
    }
   ],
   "source": [
    "class MyMath():\n",
    "    def __init__(self):\n",
    "            pass\n",
    "        \n",
    "    def my_prod(self,num1,num2): # Overloading  in previous languages\n",
    "             return num1*num2\n",
    "        \n",
    "m1=MyMath()  \n",
    "print(m1.my_prod(2.4,3))\n"
   ]
  },
  {
   "cell_type": "code",
   "execution_count": 110,
   "id": "1f34ed0b",
   "metadata": {},
   "outputs": [
    {
     "name": "stdout",
     "output_type": "stream",
     "text": [
      "7.2\n"
     ]
    }
   ],
   "source": [
    "\n",
    "class MyMath():\n",
    "    def __init__(self):\n",
    "            pass\n",
    "        \n",
    "    def my_prod(self,num1,num2): # Overloading  in previous languages\n",
    "             return num1*num2\n",
    "        \n",
    "m1=MyMath() \n",
    "print(m1.my_prod(2,3.6))#two\n"
   ]
  },
  {
   "cell_type": "code",
   "execution_count": 111,
   "id": "19a0f49d",
   "metadata": {},
   "outputs": [
    {
     "name": "stdout",
     "output_type": "stream",
     "text": [
      "210\n"
     ]
    }
   ],
   "source": [
    "class MyMath():\n",
    "    def __init__(self):\n",
    "            pass\n",
    "        \n",
    "    def my_prod(self,num1,num2,num3,num4): # Overloading  in previous languages\n",
    "             return num1*num2*num3*num4\n",
    "        \n",
    "m1=MyMath() \n",
    "print(m1.my_prod(2,3,5,7))#four\n"
   ]
  },
  {
   "cell_type": "code",
   "execution_count": null,
   "id": "f16f5f27",
   "metadata": {},
   "outputs": [],
   "source": []
  }
 ],
 "metadata": {
  "kernelspec": {
   "display_name": "Python 3 (ipykernel)",
   "language": "python",
   "name": "python3"
  },
  "language_info": {
   "codemirror_mode": {
    "name": "ipython",
    "version": 3
   },
   "file_extension": ".py",
   "mimetype": "text/x-python",
   "name": "python",
   "nbconvert_exporter": "python",
   "pygments_lexer": "ipython3",
   "version": "3.9.12"
  }
 },
 "nbformat": 4,
 "nbformat_minor": 5
}
