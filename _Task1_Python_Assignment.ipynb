{
 "cells": [
  {
   "cell_type": "markdown",
   "id": "86fc0a70",
   "metadata": {},
   "source": [
    "# OOPs Assignment\n",
    "  * Topic : \"Inheritence\"\n",
    "        \n",
    "## Task_1\n",
    " * Import Mother and Father Attribute\n",
    " * Add two  new attributes in the child constructor"
   ]
  },
  {
   "cell_type": "code",
   "execution_count": 15,
   "id": "ed29edcd",
   "metadata": {},
   "outputs": [],
   "source": [
    "class Father():\n",
    "    def __init__(self):\n",
    "        self.name=name\n",
    "        self.fname=None\n",
    "        self.color='whitish'\n",
    "        self.hair_color='dark brown'\n",
    "        \n",
    "    def speak(self):\n",
    "        return 'hahahaha!'\n",
    "    \n",
    "class Mother():\n",
    "    def __init__(self):\n",
    "           self.height='5.8'\n",
    "           self.color='white'\n",
    "    def silent(self):\n",
    "         return '.....'\n",
    "        \n",
    "class Child(Father,Mother):  # If we write Mother first in the child classs argument\n",
    "               pass              #then child characteristics will dominate mothers attribute  \n",
    "        "
   ]
  },
  {
   "cell_type": "code",
   "execution_count": 17,
   "id": "cc387bfb",
   "metadata": {},
   "outputs": [
    {
     "name": "stdout",
     "output_type": "stream",
     "text": [
      "['color', 'fname', 'hair_color', 'name', 'speak']\n"
     ]
    }
   ],
   "source": [
    "c1=Child()\n",
    "print([i for i in dir(c1) if '__' not in i])"
   ]
  },
  {
   "cell_type": "code",
   "execution_count": 18,
   "id": "f916855c",
   "metadata": {},
   "outputs": [],
   "source": [
    "class Child(Mother,Father):  \n",
    "               pass "
   ]
  },
  {
   "cell_type": "code",
   "execution_count": 19,
   "id": "85a90d5b",
   "metadata": {},
   "outputs": [
    {
     "name": "stdout",
     "output_type": "stream",
     "text": [
      "['color', 'height', 'silent', 'speak']\n"
     ]
    }
   ],
   "source": [
    "c1=Child()\n",
    "print([i for i in dir(c1) if '__' not in i])"
   ]
  },
  {
   "cell_type": "code",
   "execution_count": 22,
   "id": "2927a005",
   "metadata": {},
   "outputs": [],
   "source": [
    "class Child():\n",
    "    def __init__(self):\n",
    "           self.grade='A'\n",
    "           self.IQ=68"
   ]
  },
  {
   "cell_type": "code",
   "execution_count": 23,
   "id": "318b9e16",
   "metadata": {},
   "outputs": [
    {
     "name": "stdout",
     "output_type": "stream",
     "text": [
      "['IQ', 'grade']\n"
     ]
    }
   ],
   "source": [
    "c1=Child()\n",
    "print([i for i in dir(c1) if '__' not in i])"
   ]
  },
  {
   "cell_type": "code",
   "execution_count": null,
   "id": "9ac53475",
   "metadata": {},
   "outputs": [],
   "source": []
  }
 ],
 "metadata": {
  "kernelspec": {
   "display_name": "Python 3 (ipykernel)",
   "language": "python",
   "name": "python3"
  },
  "language_info": {
   "codemirror_mode": {
    "name": "ipython",
    "version": 3
   },
   "file_extension": ".py",
   "mimetype": "text/x-python",
   "name": "python",
   "nbconvert_exporter": "python",
   "pygments_lexer": "ipython3",
   "version": "3.9.12"
  }
 },
 "nbformat": 4,
 "nbformat_minor": 5
}
