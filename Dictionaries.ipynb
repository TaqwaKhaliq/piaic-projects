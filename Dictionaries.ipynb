{
 "cells": [
  {
   "cell_type": "markdown",
   "id": "93bc4fb8",
   "metadata": {},
   "source": [
    "# Dictionary:\n"
   ]
  },
  {
   "cell_type": "code",
   "execution_count": null,
   "id": "126d7fc3",
   "metadata": {},
   "outputs": [],
   "source": [
    "SYNTAX:\n",
    "    {\n",
    "    key1:value1,\n",
    "    key2:value2,\n",
    "    key3:value3,\n",
    "    . . .\n",
    "}\n",
    "   #always start and end with { }\n",
    "  #key and values\n",
    " # : seperator between key and value\n",
    "  , #seperator between key:value pair\n",
    "# key datatypes always should be int or string\n",
    "#value data types can be any types"
   ]
  },
  {
   "cell_type": "code",
   "execution_count": null,
   "id": "8d61c841",
   "metadata": {},
   "outputs": [],
   "source": [
    "#    0        1          2        3       4\n",
    "['Taqwa' ,'Adan', 24 , 'BSIS',   'AI']\n",
    "#we will replace indexes with keys\n"
   ]
  },
  {
   "cell_type": "code",
   "execution_count": 5,
   "id": "75163113",
   "metadata": {},
   "outputs": [
    {
     "data": {
      "text/plain": [
       "{'name': 'Taqwa',\n",
       " 'fname': 'Khaliq',\n",
       " 'age': 30,\n",
       " 'Qualification': 'BSCS',\n",
       " 'skills': ['AI', 'ML', 'cloud computing'],\n",
       " 0: 'Pakistan'}"
      ]
     },
     "execution_count": 5,
     "metadata": {},
     "output_type": "execute_result"
    }
   ],
   "source": [
    "data = {\n",
    "    'name' : 'Taqwa',\n",
    "    'fname' : 'Khaliq',\n",
    "    'age' : 30,\n",
    "    'Qualification' : 'BSCS',\n",
    "    'skills' : ['AI','ML','cloud computing'],\n",
    "    0 :\"Pakistan\"\n",
    "}\n",
    "data"
   ]
  },
  {
   "cell_type": "code",
   "execution_count": 7,
   "id": "f8b0b912",
   "metadata": {},
   "outputs": [],
   "source": [
    "#How to access value from dictionary\n",
    "*dictionary[ 'key' ]"
   ]
  },
  {
   "cell_type": "code",
   "execution_count": 8,
   "id": "25434db5",
   "metadata": {},
   "outputs": [
    {
     "name": "stdout",
     "output_type": "stream",
     "text": [
      "<class 'dict'>\n"
     ]
    },
    {
     "data": {
      "text/plain": [
       "{'name': 'Taqwa',\n",
       " 'fname': 'Khaliq',\n",
       " 'age': 30,\n",
       " 'Qualification': 'BSCS',\n",
       " 'skills': ['AI', 'ML', 'cloud computing'],\n",
       " 0: 'Pakistan'}"
      ]
     },
     "execution_count": 8,
     "metadata": {},
     "output_type": "execute_result"
    }
   ],
   "source": [
    "data = {\n",
    "    'name' : 'Taqwa',\n",
    "    'fname' : 'Khaliq',\n",
    "    'age' : 30,\n",
    "    'Qualification' : 'BSCS',\n",
    "    'skills' : ['AI','ML','cloud computing'],\n",
    "    0 :\"Pakistan\"\n",
    "}\n",
    "print(type(data))\n",
    "data"
   ]
  },
  {
   "cell_type": "code",
   "execution_count": 9,
   "id": "913725be",
   "metadata": {},
   "outputs": [
    {
     "data": {
      "text/plain": [
       "'Pakistan'"
      ]
     },
     "execution_count": 9,
     "metadata": {},
     "output_type": "execute_result"
    }
   ],
   "source": [
    "data[0]"
   ]
  },
  {
   "cell_type": "code",
   "execution_count": 10,
   "id": "97373a6d",
   "metadata": {},
   "outputs": [
    {
     "data": {
      "text/plain": [
       "{'names': ['Taqwa', 'Komal', 'Adan'],\n",
       " 'fname': ['khaliq', 'Basharat', 'Waqas'],\n",
       " 'courses': ['AI', 'MS', 'IS']}"
      ]
     },
     "execution_count": 10,
     "metadata": {},
     "output_type": "execute_result"
    }
   ],
   "source": [
    "data = {\n",
    "    'names':['Taqwa' ,'Komal','Adan'],\n",
    "    'fname':['khaliq','Basharat','Waqas'],\n",
    "    'courses':[ 'AI','MS','IS']\n",
    "}\n",
    "data"
   ]
  },
  {
   "cell_type": "code",
   "execution_count": 13,
   "id": "ea2aae9d",
   "metadata": {},
   "outputs": [
    {
     "data": {
      "text/html": [
       "<div>\n",
       "<style scoped>\n",
       "    .dataframe tbody tr th:only-of-type {\n",
       "        vertical-align: middle;\n",
       "    }\n",
       "\n",
       "    .dataframe tbody tr th {\n",
       "        vertical-align: top;\n",
       "    }\n",
       "\n",
       "    .dataframe thead th {\n",
       "        text-align: right;\n",
       "    }\n",
       "</style>\n",
       "<table border=\"1\" class=\"dataframe\">\n",
       "  <thead>\n",
       "    <tr style=\"text-align: right;\">\n",
       "      <th></th>\n",
       "      <th>names</th>\n",
       "      <th>fname</th>\n",
       "      <th>courses</th>\n",
       "    </tr>\n",
       "  </thead>\n",
       "  <tbody>\n",
       "    <tr>\n",
       "      <th>0</th>\n",
       "      <td>Taqwa</td>\n",
       "      <td>khaliq</td>\n",
       "      <td>AI</td>\n",
       "    </tr>\n",
       "    <tr>\n",
       "      <th>1</th>\n",
       "      <td>Komal</td>\n",
       "      <td>Basharat</td>\n",
       "      <td>MS</td>\n",
       "    </tr>\n",
       "    <tr>\n",
       "      <th>2</th>\n",
       "      <td>Adan</td>\n",
       "      <td>Waqas</td>\n",
       "      <td>IS</td>\n",
       "    </tr>\n",
       "  </tbody>\n",
       "</table>\n",
       "</div>"
      ],
      "text/plain": [
       "   names     fname courses\n",
       "0  Taqwa    khaliq      AI\n",
       "1  Komal  Basharat      MS\n",
       "2   Adan     Waqas      IS"
      ]
     },
     "execution_count": 13,
     "metadata": {},
     "output_type": "execute_result"
    }
   ],
   "source": [
    "import pandas as pd\n",
    "df =pd.DataFrame(data)\n",
    "df"
   ]
  },
  {
   "cell_type": "code",
   "execution_count": 18,
   "id": "fd84c9da",
   "metadata": {},
   "outputs": [
    {
     "data": {
      "text/plain": [
       "{'name': 'Komal Basharat TQ2 AI Student', 'fname': 'Basharat', 'course': 'A.I'}"
      ]
     },
     "execution_count": 18,
     "metadata": {},
     "output_type": "execute_result"
    }
   ],
   "source": [
    "data= {}\n",
    "data['name'] ='Komal'   #add key value1\n",
    "data['fname']='Basharat' #add key value2\n",
    "data['course']=\"A.I\"\n",
    "data['name']= \"Komal Basharat TQ2\"\n",
    "data['name'] = data['name']+\" AI Student\"\n",
    "    \n",
    "data"
   ]
  },
  {
   "cell_type": "code",
   "execution_count": 19,
   "id": "e11689a8",
   "metadata": {},
   "outputs": [
    {
     "data": {
      "text/plain": [
       "'A.I'"
      ]
     },
     "execution_count": 19,
     "metadata": {},
     "output_type": "execute_result"
    }
   ],
   "source": [
    "data['course']"
   ]
  },
  {
   "cell_type": "code",
   "execution_count": 21,
   "id": "5193ce00",
   "metadata": {},
   "outputs": [
    {
     "data": {
      "text/plain": [
       "['__class__',\n",
       " '__class_getitem__',\n",
       " '__contains__',\n",
       " '__delattr__',\n",
       " '__delitem__',\n",
       " '__dir__',\n",
       " '__doc__',\n",
       " '__eq__',\n",
       " '__format__',\n",
       " '__ge__',\n",
       " '__getattribute__',\n",
       " '__getitem__',\n",
       " '__gt__',\n",
       " '__hash__',\n",
       " '__init__',\n",
       " '__init_subclass__',\n",
       " '__ior__',\n",
       " '__iter__',\n",
       " '__le__',\n",
       " '__len__',\n",
       " '__lt__',\n",
       " '__ne__',\n",
       " '__new__',\n",
       " '__or__',\n",
       " '__reduce__',\n",
       " '__reduce_ex__',\n",
       " '__repr__',\n",
       " '__reversed__',\n",
       " '__ror__',\n",
       " '__setattr__',\n",
       " '__setitem__',\n",
       " '__sizeof__',\n",
       " '__str__',\n",
       " '__subclasshook__',\n",
       " 'clear',\n",
       " 'copy',\n",
       " 'fromkeys',\n",
       " 'get',\n",
       " 'items',\n",
       " 'keys',\n",
       " 'pop',\n",
       " 'popitem',\n",
       " 'setdefault',\n",
       " 'update',\n",
       " 'values']"
      ]
     },
     "execution_count": 21,
     "metadata": {},
     "output_type": "execute_result"
    }
   ],
   "source": [
    "dir(data)"
   ]
  },
  {
   "cell_type": "code",
   "execution_count": 23,
   "id": "b197f096",
   "metadata": {},
   "outputs": [
    {
     "name": "stdout",
     "output_type": "stream",
     "text": [
      "{'name': 'Komal Basharat TQ2 AI Student', 'fname': 'Basharat', 'course': 'A.I'}\n",
      "{}\n"
     ]
    }
   ],
   "source": [
    "data= {}\n",
    "data['name'] ='Komal'   #add key value1\n",
    "data['fname']='Basharat' #add key value2\n",
    "data['course']=\"A.I\"\n",
    "data['name']= \"Komal Basharat TQ2\"    #clear but object exsists\n",
    "data['name'] = data['name']+\" AI Student\"\n",
    "    \n",
    "print(data)\n",
    "data.clear()\n",
    "print(data)"
   ]
  },
  {
   "cell_type": "code",
   "execution_count": 29,
   "id": "8f490887",
   "metadata": {},
   "outputs": [
    {
     "name": "stdout",
     "output_type": "stream",
     "text": [
      "{'name': 'Komal Basharat TQ2 AI Student', 'fname': 'Basharat', 'course': 'A.I'}\n"
     ]
    },
    {
     "ename": "NameError",
     "evalue": "name 'data' is not defined",
     "output_type": "error",
     "traceback": [
      "\u001b[1;31m---------------------------------------------------------------------------\u001b[0m",
      "\u001b[1;31mNameError\u001b[0m                                 Traceback (most recent call last)",
      "Input \u001b[1;32mIn [29]\u001b[0m, in \u001b[0;36m<cell line: 10>\u001b[1;34m()\u001b[0m\n\u001b[0;32m      8\u001b[0m \u001b[38;5;28mprint\u001b[39m(data)\n\u001b[0;32m      9\u001b[0m \u001b[38;5;28;01mdel\u001b[39;00m data   \u001b[38;5;66;03m#del object\u001b[39;00m\n\u001b[1;32m---> 10\u001b[0m \u001b[38;5;28mprint\u001b[39m(\u001b[43mdata\u001b[49m)\n",
      "\u001b[1;31mNameError\u001b[0m: name 'data' is not defined"
     ]
    }
   ],
   "source": [
    "data= {}\n",
    "data['name'] ='Komal'   #add key value1\n",
    "data['fname']='Basharat' #add key value2\n",
    "data['course']=\"A.I\"\n",
    "data['name']= \"Komal Basharat TQ2\"    #clear but object exsists\n",
    "data['name'] = data['name']+\" AI Student\"\n",
    "    \n",
    "print(data)\n",
    "del data   #del object\n",
    "print(data)"
   ]
  },
  {
   "cell_type": "code",
   "execution_count": 30,
   "id": "4cddb43f",
   "metadata": {},
   "outputs": [
    {
     "name": "stdout",
     "output_type": "stream",
     "text": [
      "{'name': 'Taqwa TQ', 'fname': 'Khaliq', 'age': 20}\n",
      "{'name': 'Taqwa TQ', 'fname': 'Khaliq', 'age': 20}\n",
      "{'name': 'Taqwa TQ', 'fname': 'Khaliq', 'age': 20}\n",
      "{'name': 'Taqwa TQ', 'fname': 'Khaliq', 'age': 20}\n"
     ]
    }
   ],
   "source": [
    "data = {\n",
    "    'name':'Taqwa',\n",
    "    'fname':'Khaliq',\n",
    "    'age':20,\n",
    "    \n",
    "}\n",
    "\n",
    "data1 = data # shallow copy\n",
    "data2 = data\n",
    "data3 = data\n",
    "\n",
    "data2['name']=\"Taqwa TQ\"\n",
    "\n",
    "print(data)\n",
    "print(data1)\n",
    "print(data2)\n",
    "print(data3)"
   ]
  },
  {
   "cell_type": "code",
   "execution_count": 31,
   "id": "300deaf1",
   "metadata": {},
   "outputs": [
    {
     "name": "stdout",
     "output_type": "stream",
     "text": [
      "{'name': 'Qasim', 'fname': 'Aslam', 'age': 30}\n",
      "{'name': 'Muhammad Qasim', 'fname': 'Aslam', 'age': 30}\n"
     ]
    }
   ],
   "source": [
    "data = {\n",
    "    'name':'Qasim',\n",
    "    'fname':'Aslam',\n",
    "    'age':30,\n",
    "}\n",
    "\n",
    "data1 = data.copy() # deep copy\n",
    "\n",
    "data1['name']=\"Muhammad Qasim\"\n",
    "\n",
    "print(data)\n",
    "print(data1)"
   ]
  },
  {
   "cell_type": "markdown",
   "id": "127e8142",
   "metadata": {},
   "source": [
    "# From Keys"
   ]
  },
  {
   "cell_type": "code",
   "execution_count": 33,
   "id": "37bf46ef",
   "metadata": {},
   "outputs": [
    {
     "data": {
      "text/plain": [
       "{'id': None,\n",
       " 'name': None,\n",
       " 'fname': None,\n",
       " 'course': None,\n",
       " 'timing': None,\n",
       " 'address': None}"
      ]
     },
     "execution_count": 33,
     "metadata": {},
     "output_type": "execute_result"
    }
   ],
   "source": [
    "keys=[ 'id','name', 'fname','course','timing','address']\n",
    "dict.fromkeys(keys)"
   ]
  },
  {
   "cell_type": "code",
   "execution_count": 36,
   "id": "b9c6c1b5",
   "metadata": {},
   "outputs": [
    {
     "data": {
      "text/plain": [
       "{'id': 'empty', 'name': 'empty', 'fname': 'empty'}"
      ]
     },
     "execution_count": 36,
     "metadata": {},
     "output_type": "execute_result"
    }
   ],
   "source": [
    "keys= ['id' , 'name' ,'fname']\n",
    "\n",
    "\n",
    "dict.fromkeys(keys,'empty')"
   ]
  },
  {
   "cell_type": "markdown",
   "id": "5a202cf3",
   "metadata": {},
   "source": [
    "# get"
   ]
  },
  {
   "cell_type": "code",
   "execution_count": 37,
   "id": "341a0a68",
   "metadata": {},
   "outputs": [
    {
     "data": {
      "text/plain": [
       "'Adan'"
      ]
     },
     "execution_count": 37,
     "metadata": {},
     "output_type": "execute_result"
    }
   ],
   "source": [
    "data= {\n",
    "    'name':'Adan',\n",
    "    'fname':'Waqas',\n",
    "    'age':20,\n",
    "    'Qualification':'BSIS',\n",
    "    'skills' :['AI','ML','Cloud Computing'],\n",
    "    0:\"Pakistan\"\n",
    "}\n",
    "data.get('name')"
   ]
  },
  {
   "cell_type": "code",
   "execution_count": 38,
   "id": "894f6528",
   "metadata": {},
   "outputs": [],
   "source": [
    "data.get('contact')"
   ]
  },
  {
   "cell_type": "code",
   "execution_count": 39,
   "id": "5db431cc",
   "metadata": {},
   "outputs": [
    {
     "data": {
      "text/plain": [
       "'not available'"
      ]
     },
     "execution_count": 39,
     "metadata": {},
     "output_type": "execute_result"
    }
   ],
   "source": [
    "data.get('contact','not available')"
   ]
  },
  {
   "cell_type": "markdown",
   "id": "1a7a140c",
   "metadata": {},
   "source": [
    "# item,keys,values"
   ]
  },
  {
   "cell_type": "code",
   "execution_count": 41,
   "id": "1c4950c0",
   "metadata": {},
   "outputs": [
    {
     "data": {
      "text/plain": [
       "{'name': 'Adan', 'fname': 'Waqas', 'age': 20, 'Qualification': 'BSIS'}"
      ]
     },
     "execution_count": 41,
     "metadata": {},
     "output_type": "execute_result"
    }
   ],
   "source": [
    "data= {\n",
    "    'name':'Adan',\n",
    "    'fname':'Waqas',\n",
    "    'age':20,\n",
    "    'Qualification':'BSIS',\n",
    "    \n",
    "}\n",
    "data"
   ]
  },
  {
   "cell_type": "code",
   "execution_count": 43,
   "id": "69c67233",
   "metadata": {},
   "outputs": [
    {
     "data": {
      "text/plain": [
       "dict_items([('name', 'Adan'), ('fname', 'Waqas'), ('age', 20), ('Qualification', 'BSIS')])"
      ]
     },
     "execution_count": 43,
     "metadata": {},
     "output_type": "execute_result"
    }
   ],
   "source": [
    "data.items()"
   ]
  },
  {
   "cell_type": "code",
   "execution_count": 44,
   "id": "8cfcc225",
   "metadata": {},
   "outputs": [
    {
     "data": {
      "text/plain": [
       "dict_keys(['name', 'fname', 'age', 'Qualification'])"
      ]
     },
     "execution_count": 44,
     "metadata": {},
     "output_type": "execute_result"
    }
   ],
   "source": [
    "data.keys()"
   ]
  },
  {
   "cell_type": "code",
   "execution_count": 45,
   "id": "1617e52e",
   "metadata": {},
   "outputs": [
    {
     "data": {
      "text/plain": [
       "dict_values(['Adan', 'Waqas', 20, 'BSIS'])"
      ]
     },
     "execution_count": 45,
     "metadata": {},
     "output_type": "execute_result"
    }
   ],
   "source": [
    "data.values()"
   ]
  },
  {
   "cell_type": "code",
   "execution_count": 48,
   "id": "805c40a1",
   "metadata": {},
   "outputs": [
    {
     "name": "stdout",
     "output_type": "stream",
     "text": [
      "1\n",
      "2\n",
      "3\n",
      "4\n",
      "5\n",
      "6\n",
      "7\n",
      "8\n",
      "9\n",
      "10\n"
     ]
    }
   ],
   "source": [
    "for num in [1 ,2, 3, 4, 5, 6, 7, 8, 9, 10]:\n",
    "      print(num)"
   ]
  },
  {
   "cell_type": "code",
   "execution_count": 49,
   "id": "16578980",
   "metadata": {},
   "outputs": [
    {
     "name": "stdout",
     "output_type": "stream",
     "text": [
      "Adan\n",
      "Waqas\n",
      "20\n",
      "BSIS\n"
     ]
    }
   ],
   "source": [
    "for v in data.values():\n",
    "      print(v)"
   ]
  },
  {
   "cell_type": "code",
   "execution_count": 50,
   "id": "68438496",
   "metadata": {},
   "outputs": [
    {
     "name": "stdout",
     "output_type": "stream",
     "text": [
      "name\n",
      "fname\n",
      "age\n",
      "Qualification\n"
     ]
    }
   ],
   "source": [
    "for k in data.keys():\n",
    "    print(k)"
   ]
  },
  {
   "cell_type": "code",
   "execution_count": 52,
   "id": "d233c116",
   "metadata": {},
   "outputs": [
    {
     "name": "stdout",
     "output_type": "stream",
     "text": [
      "name Adan\n",
      "age 20\n"
     ]
    }
   ],
   "source": [
    "for k in ['name','age']:\n",
    "       print(k, data[k])"
   ]
  },
  {
   "cell_type": "code",
   "execution_count": 53,
   "id": "98bc410b",
   "metadata": {},
   "outputs": [
    {
     "data": {
      "text/plain": [
       "[1, 2, 3, 4, 5, 6, 7, 8, 9, 10]"
      ]
     },
     "execution_count": 53,
     "metadata": {},
     "output_type": "execute_result"
    }
   ],
   "source": [
    "list(range(1,11))"
   ]
  },
  {
   "cell_type": "code",
   "execution_count": 54,
   "id": "85776677",
   "metadata": {},
   "outputs": [
    {
     "name": "stdout",
     "output_type": "stream",
     "text": [
      "('name', 'Adan')\n",
      "('fname', 'Waqas')\n",
      "('age', 20)\n",
      "('Qualification', 'BSIS')\n"
     ]
    }
   ],
   "source": [
    "for i in data.items():\n",
    "    print(i)"
   ]
  },
  {
   "cell_type": "code",
   "execution_count": 55,
   "id": "da5ba8e2",
   "metadata": {},
   "outputs": [
    {
     "name": "stdout",
     "output_type": "stream",
     "text": [
      "200 300\n"
     ]
    }
   ],
   "source": [
    "a, b=(200,300)\n",
    "print(a,b)"
   ]
  },
  {
   "cell_type": "code",
   "execution_count": 56,
   "id": "292febd5",
   "metadata": {},
   "outputs": [
    {
     "name": "stdout",
     "output_type": "stream",
     "text": [
      "name Adan\n",
      "fname Waqas\n",
      "age 20\n",
      "Qualification BSIS\n"
     ]
    }
   ],
   "source": [
    "for k,v in data.items():\n",
    "    print(k,v)"
   ]
  },
  {
   "cell_type": "code",
   "execution_count": 58,
   "id": "845cdef0",
   "metadata": {},
   "outputs": [
    {
     "name": "stdout",
     "output_type": "stream",
     "text": [
      "50\n",
      "20\n"
     ]
    }
   ],
   "source": [
    "a=20\n",
    "def abc():\n",
    "        a=50 #local\n",
    "        print(a)\n",
    "        \n",
    "abc()\n",
    "print(a)"
   ]
  },
  {
   "cell_type": "code",
   "execution_count": 59,
   "id": "c6276a16",
   "metadata": {},
   "outputs": [
    {
     "name": "stdout",
     "output_type": "stream",
     "text": [
      "Pakistan\n",
      "None\n"
     ]
    }
   ],
   "source": [
    "a=print('Pakistan')#non-return function\n",
    "print(a)"
   ]
  },
  {
   "cell_type": "code",
   "execution_count": 60,
   "id": "7e024015",
   "metadata": {},
   "outputs": [
    {
     "name": "stdout",
     "output_type": "stream",
     "text": [
      "8\n"
     ]
    }
   ],
   "source": [
    "a=len('Pakistan')#return function\n",
    "print(a)"
   ]
  },
  {
   "cell_type": "code",
   "execution_count": 61,
   "id": "c1d3dc58",
   "metadata": {},
   "outputs": [
    {
     "name": "stdout",
     "output_type": "stream",
     "text": [
      "<class 'str'>\n"
     ]
    }
   ],
   "source": [
    "a= type('Pakistan')#Return Function\n",
    "print(a)"
   ]
  },
  {
   "cell_type": "code",
   "execution_count": 62,
   "id": "f30c00c5",
   "metadata": {},
   "outputs": [
    {
     "name": "stdout",
     "output_type": "stream",
     "text": [
      "Taqwa\n",
      "{'fname': 'Khaliq', 'age': 20, 'Qualification': 'BSCS'}\n"
     ]
    }
   ],
   "source": [
    "data = {\n",
    "    'name':'Taqwa',\n",
    "    'fname':'Khaliq',\n",
    "    'age':20,\n",
    "    'Qualification':'BSCS'\n",
    "    \n",
    "}\n",
    "a=data.pop(\"name\")#return function\n",
    "print(a)\n",
    "print(data)\n"
   ]
  },
  {
   "cell_type": "code",
   "execution_count": 70,
   "id": "d449b0ab",
   "metadata": {},
   "outputs": [
    {
     "name": "stdout",
     "output_type": "stream",
     "text": [
      "Taqwa\n",
      "{'fname': 'Khaliq', 'qualification': 'BSCS'}\n",
      "['Taqwa', 20]\n"
     ]
    }
   ],
   "source": [
    "completed_list = []\n",
    "data = {\n",
    "    'name':'Taqwa',\n",
    "    'fname':'Khaliq',\n",
    "    'age':20,\n",
    "    'qualification':'BSCS',    \n",
    "}\n",
    "a=data.pop(\"name\")#return function\n",
    "b=data.pop(\"age\")\n",
    "\n",
    "completed_list.append(a)\n",
    "completed_list.append(b)\n",
    "print(a)\n",
    "print(data)\n",
    "print(completed_list)"
   ]
  },
  {
   "cell_type": "code",
   "execution_count": 71,
   "id": "8c748c7a",
   "metadata": {},
   "outputs": [
    {
     "name": "stdout",
     "output_type": "stream",
     "text": [
      "('qualification', 'BSCS')\n",
      "{'name': 'Taqwa', 'fname': 'Khaliq', 'age': 20}\n"
     ]
    }
   ],
   "source": [
    "data = {\n",
    "    'name':'Taqwa',\n",
    "    'fname':'Khaliq',\n",
    "    'age':20,\n",
    "    'qualification':'BSCS',    \n",
    "}\n",
    "a=data.popitem()#return function\n",
    "print(a)\n",
    "print(data)"
   ]
  },
  {
   "cell_type": "code",
   "execution_count": null,
   "id": "7cce855b",
   "metadata": {},
   "outputs": [],
   "source": []
  }
 ],
 "metadata": {
  "kernelspec": {
   "display_name": "Python 3 (ipykernel)",
   "language": "python",
   "name": "python3"
  },
  "language_info": {
   "codemirror_mode": {
    "name": "ipython",
    "version": 3
   },
   "file_extension": ".py",
   "mimetype": "text/x-python",
   "name": "python",
   "nbconvert_exporter": "python",
   "pygments_lexer": "ipython3",
   "version": "3.9.12"
  }
 },
 "nbformat": 4,
 "nbformat_minor": 5
}
